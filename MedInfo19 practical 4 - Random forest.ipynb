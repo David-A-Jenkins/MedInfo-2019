{
 "cells": [
  {
   "cell_type": "markdown",
   "metadata": {},
   "source": [
    "# MedInfo 2019 Practical 4\n",
    "****\n",
    "\n",
    "In this practical session you will explore some of the concepts discussed in the machine learning lecture.\n",
    "\n",
    "Machine learning (ML) is being increasingly used but care does need to be taken when implementing such models. All too often ML models are not developed and tested to the same rigor as standard CPMs. The TRIPOD guidelines and PROGRESS papers discuss the reporting guidelines and how to develop and validate a CPM and the group behind these are currently extending these to include ML approaches.\n",
    "\n",
    "Machine learning approaches are data hungry and do not perform well on imbalanced data. Therefore, machine learning approaches are not the method of choice for developing a prediction model using our data (as you will see in the practical). However, for consistency we will use the same data and implement random forests to predict a cardiovascular event within 2 years (the same outcome used in practical 1).  \n",
    "\n",
    "Although ML is not the most appropriate approach to use for our problem, ML can be very effective. In particular for text or image analysis.\n",
    "\n"
   ]
  },
  {
   "cell_type": "markdown",
   "metadata": {},
   "source": [
    "### Lets begin"
   ]
  },
  {
   "cell_type": "markdown",
   "metadata": {},
   "source": [
    "First lets load the packages we will be using in the practical"
   ]
  },
  {
   "cell_type": "code",
   "execution_count": 1,
   "metadata": {},
   "outputs": [
    {
     "name": "stderr",
     "output_type": "stream",
     "text": [
      "Warning message:\n",
      "\"package 'randomForest' was built under R version 3.6.1\"randomForest 4.6-14\n",
      "Type rfNews() to see new features/changes/bug fixes.\n",
      "Warning message:\n",
      "\"package 'mlbench' was built under R version 3.6.1\"Warning message:\n",
      "\"package 'caret' was built under R version 3.6.1\"Loading required package: lattice\n",
      "Loading required package: ggplot2\n",
      "Registered S3 methods overwritten by 'ggplot2':\n",
      "  method         from \n",
      "  [.quosures     rlang\n",
      "  c.quosures     rlang\n",
      "  print.quosures rlang\n",
      "\n",
      "Attaching package: 'ggplot2'\n",
      "\n",
      "The following object is masked from 'package:randomForest':\n",
      "\n",
      "    margin\n",
      "\n",
      "Warning message:\n",
      "\"package 'pROC' was built under R version 3.6.1\"Type 'citation(\"pROC\")' for a citation.\n",
      "\n",
      "Attaching package: 'pROC'\n",
      "\n",
      "The following objects are masked from 'package:stats':\n",
      "\n",
      "    cov, smooth, var\n",
      "\n"
     ]
    }
   ],
   "source": [
    "library(randomForest)\n",
    "library(mlbench)\n",
    "library(caret)\n",
    "library(pROC)"
   ]
  },
  {
   "cell_type": "markdown",
   "metadata": {},
   "source": [
    "## Part 1\n",
    "Load the data (smart) as we did in practical 1. The \"Data/SMARTs_medinfo_P2-4.rds\" file is the same data as before but albumin is already a categorical variable and the SBP variable has already been generated"
   ]
  },
  {
   "cell_type": "markdown",
   "metadata": {},
   "source": [
    "Begin by loading the data"
   ]
  },
  {
   "cell_type": "code",
   "execution_count": 20,
   "metadata": {},
   "outputs": [],
   "source": [
    "smart <- readRDS(\"SMARTs_medinfo_P2-4.rds\")\n",
    "smart1 <- subset(smart, select = c(outcome, TEVENT, EVENT, SEX, AGE, SBP, alcohol, CHOLO, BMIO, DIABETES, CARDIAC, SMOKING, AAA))\n",
    "smart1 <- na.omit(smart1)\n",
    "smart <- smart[,-1:-2]\n",
    "smart <- na.omit(smart)\n",
    "smart$outcome <- as.factor(as.character(smart$outcome))"
   ]
  },
  {
   "cell_type": "code",
   "execution_count": 21,
   "metadata": {},
   "outputs": [
    {
     "data": {
      "text/plain": [
       "\n",
       "   0    1 \n",
       "3340  185 "
      ]
     },
     "metadata": {},
     "output_type": "display_data"
    }
   ],
   "source": [
    "table(smart$outcome)"
   ]
  },
  {
   "cell_type": "code",
   "execution_count": 22,
   "metadata": {},
   "outputs": [
    {
     "data": {
      "text/html": [
       "<table>\n",
       "<thead><tr><th></th><th scope=col>SEX</th><th scope=col>AGE</th><th scope=col>DIABETES</th><th scope=col>CEREBRAL</th><th scope=col>CARDIAC</th><th scope=col>AAA</th><th scope=col>PERIPH</th><th scope=col>STENOSIS</th><th scope=col>LENGTHO</th><th scope=col>WEIGHTO</th><th scope=col>BMIO</th><th scope=col>CHOLO</th><th scope=col>albumin</th><th scope=col>SMOKING</th><th scope=col>packyrs</th><th scope=col>alcohol</th><th scope=col>outcome</th><th scope=col>SBP</th></tr></thead>\n",
       "<tbody>\n",
       "\t<tr><th scope=row>1</th><td>Male   </td><td>71     </td><td>1      </td><td>0      </td><td>1      </td><td>0      </td><td>1      </td><td>0      </td><td>1.70   </td><td> 69    </td><td>23.88  </td><td>6.0    </td><td>1      </td><td>Former </td><td>22.5   </td><td>Current</td><td>0      </td><td>185    </td></tr>\n",
       "\t<tr><th scope=row>2</th><td>Female </td><td>46     </td><td>0      </td><td>0      </td><td>0      </td><td>0      </td><td>1      </td><td>0      </td><td>1.72   </td><td> 71    </td><td>24.00  </td><td>4.0    </td><td>1      </td><td>Never  </td><td> 0.0   </td><td>Never  </td><td>0      </td><td>135    </td></tr>\n",
       "\t<tr><th scope=row>3</th><td>Male   </td><td>59     </td><td>0      </td><td>0      </td><td>1      </td><td>0      </td><td>1      </td><td>0      </td><td>1.77   </td><td> 82    </td><td>26.17  </td><td>4.9    </td><td>1      </td><td>Former </td><td>33.3   </td><td>Current</td><td>0      </td><td>149    </td></tr>\n",
       "\t<tr><th scope=row>5</th><td>Male   </td><td>57     </td><td>0      </td><td>0      </td><td>1      </td><td>0      </td><td>1      </td><td>0      </td><td>1.90   </td><td>107    </td><td>29.64  </td><td>5.2    </td><td>1      </td><td>Former </td><td>53.2   </td><td>Current</td><td>0      </td><td>177    </td></tr>\n",
       "\t<tr><th scope=row>6</th><td>Female </td><td>52     </td><td>1      </td><td>0      </td><td>0      </td><td>0      </td><td>1      </td><td>0      </td><td>1.73   </td><td>103    </td><td>34.41  </td><td>4.6    </td><td>3      </td><td>Former </td><td>54.6   </td><td>Never  </td><td>0      </td><td>164    </td></tr>\n",
       "\t<tr><th scope=row>7</th><td>Male   </td><td>66     </td><td>0      </td><td>1      </td><td>0      </td><td>1      </td><td>0      </td><td>1      </td><td>1.65   </td><td> 66    </td><td>24.24  </td><td>5.8    </td><td>1      </td><td>Former </td><td>72.8   </td><td>Current</td><td>0      </td><td>166    </td></tr>\n",
       "</tbody>\n",
       "</table>\n"
      ],
      "text/latex": [
       "\\begin{tabular}{r|llllllllllllllllll}\n",
       "  & SEX & AGE & DIABETES & CEREBRAL & CARDIAC & AAA & PERIPH & STENOSIS & LENGTHO & WEIGHTO & BMIO & CHOLO & albumin & SMOKING & packyrs & alcohol & outcome & SBP\\\\\n",
       "\\hline\n",
       "\t1 & Male    & 71      & 1       & 0       & 1       & 0       & 1       & 0       & 1.70    &  69     & 23.88   & 6.0     & 1       & Former  & 22.5    & Current & 0       & 185    \\\\\n",
       "\t2 & Female  & 46      & 0       & 0       & 0       & 0       & 1       & 0       & 1.72    &  71     & 24.00   & 4.0     & 1       & Never   &  0.0    & Never   & 0       & 135    \\\\\n",
       "\t3 & Male    & 59      & 0       & 0       & 1       & 0       & 1       & 0       & 1.77    &  82     & 26.17   & 4.9     & 1       & Former  & 33.3    & Current & 0       & 149    \\\\\n",
       "\t5 & Male    & 57      & 0       & 0       & 1       & 0       & 1       & 0       & 1.90    & 107     & 29.64   & 5.2     & 1       & Former  & 53.2    & Current & 0       & 177    \\\\\n",
       "\t6 & Female  & 52      & 1       & 0       & 0       & 0       & 1       & 0       & 1.73    & 103     & 34.41   & 4.6     & 3       & Former  & 54.6    & Never   & 0       & 164    \\\\\n",
       "\t7 & Male    & 66      & 0       & 1       & 0       & 1       & 0       & 1       & 1.65    &  66     & 24.24   & 5.8     & 1       & Former  & 72.8    & Current & 0       & 166    \\\\\n",
       "\\end{tabular}\n"
      ],
      "text/markdown": [
       "\n",
       "| <!--/--> | SEX | AGE | DIABETES | CEREBRAL | CARDIAC | AAA | PERIPH | STENOSIS | LENGTHO | WEIGHTO | BMIO | CHOLO | albumin | SMOKING | packyrs | alcohol | outcome | SBP |\n",
       "|---|---|---|---|---|---|---|---|---|---|---|---|---|---|---|---|---|---|---|\n",
       "| 1 | Male    | 71      | 1       | 0       | 1       | 0       | 1       | 0       | 1.70    |  69     | 23.88   | 6.0     | 1       | Former  | 22.5    | Current | 0       | 185     |\n",
       "| 2 | Female  | 46      | 0       | 0       | 0       | 0       | 1       | 0       | 1.72    |  71     | 24.00   | 4.0     | 1       | Never   |  0.0    | Never   | 0       | 135     |\n",
       "| 3 | Male    | 59      | 0       | 0       | 1       | 0       | 1       | 0       | 1.77    |  82     | 26.17   | 4.9     | 1       | Former  | 33.3    | Current | 0       | 149     |\n",
       "| 5 | Male    | 57      | 0       | 0       | 1       | 0       | 1       | 0       | 1.90    | 107     | 29.64   | 5.2     | 1       | Former  | 53.2    | Current | 0       | 177     |\n",
       "| 6 | Female  | 52      | 1       | 0       | 0       | 0       | 1       | 0       | 1.73    | 103     | 34.41   | 4.6     | 3       | Former  | 54.6    | Never   | 0       | 164     |\n",
       "| 7 | Male    | 66      | 0       | 1       | 0       | 1       | 0       | 1       | 1.65    |  66     | 24.24   | 5.8     | 1       | Former  | 72.8    | Current | 0       | 166     |\n",
       "\n"
      ],
      "text/plain": [
       "  SEX    AGE DIABETES CEREBRAL CARDIAC AAA PERIPH STENOSIS LENGTHO WEIGHTO\n",
       "1 Male   71  1        0        1       0   1      0        1.70     69    \n",
       "2 Female 46  0        0        0       0   1      0        1.72     71    \n",
       "3 Male   59  0        0        1       0   1      0        1.77     82    \n",
       "5 Male   57  0        0        1       0   1      0        1.90    107    \n",
       "6 Female 52  1        0        0       0   1      0        1.73    103    \n",
       "7 Male   66  0        1        0       1   0      1        1.65     66    \n",
       "  BMIO  CHOLO albumin SMOKING packyrs alcohol outcome SBP\n",
       "1 23.88 6.0   1       Former  22.5    Current 0       185\n",
       "2 24.00 4.0   1       Never    0.0    Never   0       135\n",
       "3 26.17 4.9   1       Former  33.3    Current 0       149\n",
       "5 29.64 5.2   1       Former  53.2    Current 0       177\n",
       "6 34.41 4.6   3       Former  54.6    Never   0       164\n",
       "7 24.24 5.8   1       Former  72.8    Current 0       166"
      ]
     },
     "metadata": {},
     "output_type": "display_data"
    }
   ],
   "source": [
    "head(smart)"
   ]
  },
  {
   "cell_type": "markdown",
   "metadata": {},
   "source": [
    "## Part 2\n",
    "Split the data  \n",
    "\n",
    "As discussed in the lectures, we can split our data into two parts. A 'training' set, for model development, and a 'test' set, for validation. This is often not advised as you are 'throwing away' data, however, this is still standard practice for ML methods. In this practical we will split the data because it is easier to illustrate some of the concepts we will discuss, but we do advise that k-fold cross-validation (or bootstrapping) be undertaken.  \n",
    "\n",
    "We will split the data using 75% for development and 25% for validation."
   ]
  },
  {
   "cell_type": "code",
   "execution_count": 23,
   "metadata": {},
   "outputs": [],
   "source": [
    "# split data\n",
    "set.seed(123)\n",
    "train_ind <- sample(seq_len(nrow(smart)), size = floor(0.75 * nrow(smart))) #use 75% of the data for training and the remaining 25% for testing\n",
    "TrainData <- smart[train_ind, ]\n",
    "TestData <- smart[-train_ind, ]"
   ]
  },
  {
   "cell_type": "markdown",
   "metadata": {},
   "source": [
    "## Part 3\n",
    "Random forest.\n",
    "\n",
    "Lets first run a random forest with one predictor (AGE)"
   ]
  },
  {
   "cell_type": "code",
   "execution_count": 24,
   "metadata": {},
   "outputs": [
    {
     "data": {
      "text/plain": [
       "\n",
       "Call:\n",
       " randomForest(formula = outcome ~ AGE, data = TrainData) \n",
       "               Type of random forest: classification\n",
       "                     Number of trees: 500\n",
       "No. of variables tried at each split: 1\n",
       "\n",
       "        OOB estimate of  error rate: 5.52%\n",
       "Confusion matrix:\n",
       "     0 1  class.error\n",
       "0 2497 2 0.0008003201\n",
       "1  144 0 1.0000000000"
      ]
     },
     "metadata": {},
     "output_type": "display_data"
    }
   ],
   "source": [
    "set.seed(123)\n",
    "modfit <- randomForest(outcome ~ AGE, data=TrainData)\n",
    "modfit"
   ]
  },
  {
   "cell_type": "markdown",
   "metadata": {},
   "source": [
    "The default is to fit 500 trees.  \n",
    "Once we have fitted our model we can use the 'predict()' function to as we have in the other preactical to obtain the models predictions in the validation data set."
   ]
  },
  {
   "cell_type": "code",
   "execution_count": 25,
   "metadata": {},
   "outputs": [
    {
     "data": {
      "text/plain": [
       "pred\n",
       "  0   1 \n",
       "882   0 "
      ]
     },
     "metadata": {},
     "output_type": "display_data"
    },
    {
     "data": {
      "text/plain": [
       "    \n",
       "pred   0   1\n",
       "   0 841  41\n",
       "   1   0   0"
      ]
     },
     "metadata": {},
     "output_type": "display_data"
    }
   ],
   "source": [
    "pred <- predict(modfit, TestData)\n",
    "table(pred)\n",
    "table(pred, TestData$outcome)"
   ]
  },
  {
   "cell_type": "markdown",
   "metadata": {},
   "source": [
    "This model predicts no individuals to have the event.  \n",
    "From the model we can obtain each individuals probability of having the outcome. "
   ]
  },
  {
   "cell_type": "code",
   "execution_count": 26,
   "metadata": {},
   "outputs": [
    {
     "data": {
      "text/plain": [
       "     Min.   1st Qu.    Median      Mean   3rd Qu.      Max. \n",
       "0.0000000 0.0000000 0.0000000 0.0002608 0.0000000 0.2020000 "
      ]
     },
     "metadata": {},
     "output_type": "display_data"
    },
    {
     "data": {
      "text/plain": [
       "pred1\n",
       "  0   1 \n",
       "881   1 "
      ]
     },
     "metadata": {},
     "output_type": "display_data"
    }
   ],
   "source": [
    "pred <- predict(modfit, TestData, type= \"prob\")\n",
    "summary(pred[,2])\n",
    "pred1 <- ifelse(pred[,2]>0.1,1,0)\n",
    "table(pred1)"
   ]
  },
  {
   "cell_type": "markdown",
   "metadata": {},
   "source": [
    "We can see that the maximum probability assigned to an individual was 0.2 (20%). Therefore, 0 individuals were above the 0.5 threshold fo rthe model to predict them as having the outcome. Even if we change this threshold to 0.1, the model still only predicts 1 individual to have the outcome in the validation data.  \n",
    "\n",
    "Lets see if we can improve our model by including more variables of interest..."
   ]
  },
  {
   "cell_type": "code",
   "execution_count": 32,
   "metadata": {},
   "outputs": [
    {
     "data": {
      "text/plain": [
       "\n",
       "Call:\n",
       " randomForest(formula = outcome ~ SEX + AGE + SBP + DIABETES +      alcohol + BMIO + CARDIAC + SMOKING + AAA, data = TrainData,      importance = TRUE) \n",
       "               Type of random forest: classification\n",
       "                     Number of trees: 500\n",
       "No. of variables tried at each split: 3\n",
       "\n",
       "        OOB estimate of  error rate: 5.56%\n",
       "Confusion matrix:\n",
       "     0 1 class.error\n",
       "0 2496 3  0.00120048\n",
       "1  144 0  1.00000000"
      ]
     },
     "metadata": {},
     "output_type": "display_data"
    }
   ],
   "source": [
    "set.seed(123)\n",
    "modfit <- randomForest(outcome ~ SEX + AGE + SBP + DIABETES + alcohol + BMIO + CARDIAC + SMOKING + AAA,\n",
    "                data=TrainData, importance=TRUE)\n",
    "modfit"
   ]
  },
  {
   "cell_type": "code",
   "execution_count": 33,
   "metadata": {},
   "outputs": [
    {
     "data": {
      "text/plain": [
       "pred\n",
       "  0   1 \n",
       "880   2 "
      ]
     },
     "metadata": {},
     "output_type": "display_data"
    }
   ],
   "source": [
    "pred <- predict(modfit, TestData)\n",
    "table(pred)"
   ]
  },
  {
   "cell_type": "markdown",
   "metadata": {},
   "source": [
    "This model now predicts 2 individuals to have the event and so including all the predictors has had little improvement. This is likely due to class imbalance. As mentioned before, random forests do not preform well when there are not even numbers of individuals in each class. By classifying all individuals to the 0 outcome, the model beleives it has good accuracy. It is 95% accurate at predicting by doing this.  \n",
    "\n",
    "Even if we validate this model using discrimination the model can appear to perform well."
   ]
  },
  {
   "cell_type": "code",
   "execution_count": 34,
   "metadata": {},
   "outputs": [
    {
     "name": "stderr",
     "output_type": "stream",
     "text": [
      "Setting levels: control = 0, case = 1\n",
      "Setting direction: controls < cases\n"
     ]
    },
    {
     "data": {
      "text/plain": [
       "\n",
       "Call:\n",
       "roc.formula(formula = TestData$outcome ~ pred[, 2], ci = TRUE)\n",
       "\n",
       "Data: pred[, 2] in 841 controls (TestData$outcome 0) < 41 cases (TestData$outcome 1).\n",
       "Area under the curve: 0.6242\n",
       "95% CI: 0.5387-0.7096 (DeLong)"
      ]
     },
     "metadata": {},
     "output_type": "display_data"
    },
    {
     "name": "stderr",
     "output_type": "stream",
     "text": [
      "Setting levels: control = 0, case = 1\n",
      "Setting direction: controls < cases\n"
     ]
    },
    {
     "data": {
      "image/png": "[encoded data removed]",
      "text/plain": [
       "plot without title"
      ]
     },
     "metadata": {},
     "output_type": "display_data"
    }
   ],
   "source": [
    "pred <- predict(modfit, TestData, type=\"prob\")\n",
    "c1 <- roc(TestData$outcome~pred[,2],ci=TRUE)\n",
    "c1\n",
    "plot(roc(TestData$outcome,pred[,2]))"
   ]
  },
  {
   "cell_type": "markdown",
   "metadata": {},
   "source": [
    "This model has a c-statistic of 0.624 and thus has reasonable discrimination. ML methods often also use precision and recall when describing the model validation.\n",
    "\n",
    "Recall represents the proportion of events that were correctly identified and precision is the proportion of individuals predicted to have the outcome that were correct. Both of these should be checked when examining a model but improvment in one typically reduces the other. \n",
    "\n",
    "Here the precision and recall are both 0% eventhough the c-statistic is 0.624."
   ]
  },
  {
   "cell_type": "markdown",
   "metadata": {},
   "source": [
    "## Part 4 Imbalanced data"
   ]
  },
  {
   "cell_type": "markdown",
   "metadata": {},
   "source": [
    "There are 2 ways we can attempt to overcome imbalanced data in random forests.\n",
    "1. Cost-sensitive learning\n",
    "2. Sampling\n",
    "\n",
    "The cost-sensitive approach is to assign different weights to different classes. So if the minority class is assigned a higher weight and thus higher misclassification cost, then that can help reduce its biasness towards the majority class. You can use the 'classwt' opition in R's randomForest package to assign weights to each class.\n",
    "\n",
    "The sampling apprach can be undertaken in a umber of ways, including oversampling the minority class or undersampling the majority class. Here, we will show an example of undersampling the majority class.\n",
    "\n",
    "Lets begin with the cost-sensitive approach. Approximatly 10% of individuals have the outcome and so we give this class 90% of the weight in the random forest."
   ]
  },
  {
   "cell_type": "code",
   "execution_count": 81,
   "metadata": {
    "scrolled": true
   },
   "outputs": [],
   "source": [
    "set.seed(123)\n",
    "modfitw <- randomForest(outcome ~ SEX + AGE + SBP + DIABETES + alcohol + BMIO + CARDIAC + SMOKING + AAA,\n",
    "                data=TrainData, importance=TRUE,classwt= c(10,90))\n",
    "#modfitw"
   ]
  },
  {
   "cell_type": "markdown",
   "metadata": {},
   "source": [
    "There are 144 events in the training data so lets sample 144 from each class and run the model. We do this using the 'sampsize' option."
   ]
  },
  {
   "cell_type": "code",
   "execution_count": 82,
   "metadata": {},
   "outputs": [],
   "source": [
    "set.seed(123)\n",
    "modfits <- randomForest(outcome ~ SEX + AGE + SBP + DIABETES + alcohol + BMIO + CARDIAC + SMOKING + AAA,\n",
    "                data=TrainData, importance=TRUE,sampsize = c(144,144))\n",
    "#modfits"
   ]
  },
  {
   "cell_type": "code",
   "execution_count": 83,
   "metadata": {},
   "outputs": [
    {
     "data": {
      "text/plain": [
       "predw\n",
       "  0   1 \n",
       "880   2 "
      ]
     },
     "metadata": {},
     "output_type": "display_data"
    },
    {
     "data": {
      "text/plain": [
       "preds\n",
       "  0   1 \n",
       "699 183 "
      ]
     },
     "metadata": {},
     "output_type": "display_data"
    }
   ],
   "source": [
    "predw <- predict(modfitw, TestData)\n",
    "preds <- predict(modfits, TestData)\n",
    "table(predw)\n",
    "table(preds)\n",
    "#table(pred, TestData$outcome)"
   ]
  },
  {
   "cell_type": "markdown",
   "metadata": {},
   "source": [
    "In this example, the cost-sensitive approach looks to still be underpredicting the outcome and the sampling approach appears to be overpredicting the outcome.\n",
    "\n",
    "Lets check precision recall "
   ]
  },
  {
   "cell_type": "code",
   "execution_count": 84,
   "metadata": {},
   "outputs": [
    {
     "data": {
      "text/plain": [
       "     \n",
       "predw   0   1\n",
       "    0 839  41\n",
       "    1   2   0"
      ]
     },
     "metadata": {},
     "output_type": "display_data"
    },
    {
     "data": {
      "text/plain": [
       "     \n",
       "preds   0   1\n",
       "    0 672  27\n",
       "    1 169  14"
      ]
     },
     "metadata": {},
     "output_type": "display_data"
    }
   ],
   "source": [
    "table(predw, TestData$outcome)\n",
    "table(preds, TestData$outcome)"
   ]
  },
  {
   "cell_type": "markdown",
   "metadata": {},
   "source": [
    "**Can you compute the precision and recall for the cost model? What do you conclude from this?**"
   ]
  },
  {
   "cell_type": "code",
   "execution_count": null,
   "metadata": {},
   "outputs": [],
   "source": [
    "#"
   ]
  },
  {
   "cell_type": "markdown",
   "metadata": {},
   "source": [
    "Although the sampling model has the best precision and recall, the c-statistic is worse than the model without adjusting for imbalance. In fact, the sampling approach is about as effective as flipping a coin and has low discrimination."
   ]
  },
  {
   "cell_type": "code",
   "execution_count": 92,
   "metadata": {},
   "outputs": [
    {
     "data": {
      "text/html": [
       "<dl class=dl-horizontal>\n",
       "\t<dt>3</dt>\n",
       "\t\t<dd>0.156</dd>\n",
       "\t<dt>7</dt>\n",
       "\t\t<dd>0.098</dd>\n",
       "\t<dt>15</dt>\n",
       "\t\t<dd>0.168</dd>\n",
       "\t<dt>23</dt>\n",
       "\t\t<dd>0.128</dd>\n",
       "\t<dt>47</dt>\n",
       "\t\t<dd>0.046</dd>\n",
       "\t<dt>51</dt>\n",
       "\t\t<dd>0.026</dd>\n",
       "</dl>\n"
      ],
      "text/latex": [
       "\\begin{description*}\n",
       "\\item[3] 0.156\n",
       "\\item[7] 0.098\n",
       "\\item[15] 0.168\n",
       "\\item[23] 0.128\n",
       "\\item[47] 0.046\n",
       "\\item[51] 0.026\n",
       "\\end{description*}\n"
      ],
      "text/markdown": [
       "3\n",
       ":   0.1567\n",
       ":   0.09815\n",
       ":   0.16823\n",
       ":   0.12847\n",
       ":   0.04651\n",
       ":   0.026\n",
       "\n"
      ],
      "text/plain": [
       "    3     7    15    23    47    51 \n",
       "0.156 0.098 0.168 0.128 0.046 0.026 "
      ]
     },
     "metadata": {},
     "output_type": "display_data"
    },
    {
     "name": "stderr",
     "output_type": "stream",
     "text": [
      "Setting levels: control = 0, case = 1\n",
      "Setting direction: controls < cases\n"
     ]
    },
    {
     "data": {
      "text/plain": [
       "\n",
       "Call:\n",
       "roc.formula(formula = TestData$outcome ~ preds[, 2], ci = TRUE)\n",
       "\n",
       "Data: preds[, 2] in 841 controls (TestData$outcome 0) < 41 cases (TestData$outcome 1).\n",
       "Area under the curve: 0.5459\n",
       "95% CI: 0.4642-0.6276 (DeLong)"
      ]
     },
     "metadata": {},
     "output_type": "display_data"
    },
    {
     "name": "stderr",
     "output_type": "stream",
     "text": [
      "Setting levels: control = 0, case = 1\n",
      "Setting direction: controls < cases\n"
     ]
    },
    {
     "data": {
      "image/png": "[encoded data removed]",
      "text/plain": [
       "plot without title"
      ]
     },
     "metadata": {},
     "output_type": "display_data"
    }
   ],
   "source": [
    "preds <- predict(modfit, TestData, type=\"prob\")\n",
    "head(preds[,2])\n",
    "c1 <- roc(TestData$outcome~preds[,2],ci=TRUE)\n",
    "c1\n",
    "plot(roc(TestData$outcome,preds[,2]))"
   ]
  },
  {
   "cell_type": "markdown",
   "metadata": {},
   "source": [
    "## Part 5 Importance\n",
    "\n",
    "In the regression and survival models, we use the model coefficients to asses if a predictor is associated with the outcome and an important predictor. In random forests we use variable importance. We can calculate the variable importance of a random forest model as follows,"
   ]
  },
  {
   "cell_type": "code",
   "execution_count": 93,
   "metadata": {},
   "outputs": [
    {
     "data": {
      "text/html": [
       "<table>\n",
       "<thead><tr><th></th><th scope=col>0</th><th scope=col>1</th><th scope=col>MeanDecreaseAccuracy</th><th scope=col>MeanDecreaseGini</th></tr></thead>\n",
       "<tbody>\n",
       "\t<tr><th scope=row>SEX</th><td> 4.281440 </td><td>-1.6846860</td><td> 4.188269 </td><td> 3.912485 </td></tr>\n",
       "\t<tr><th scope=row>AGE</th><td>13.433866 </td><td> 6.1849056</td><td>14.096683 </td><td>33.907202 </td></tr>\n",
       "\t<tr><th scope=row>SBP</th><td>16.103430 </td><td>-0.5405472</td><td>16.050202 </td><td>34.484075 </td></tr>\n",
       "\t<tr><th scope=row>DIABETES</th><td> 6.989353 </td><td> 5.3461875</td><td> 7.605150 </td><td> 5.186054 </td></tr>\n",
       "\t<tr><th scope=row>alcohol</th><td> 1.717402 </td><td>-1.3748287</td><td> 1.582875 </td><td> 6.872509 </td></tr>\n",
       "\t<tr><th scope=row>BMIO</th><td> 6.904274 </td><td>-1.0540875</td><td> 6.698545 </td><td>34.974962 </td></tr>\n",
       "\t<tr><th scope=row>CARDIAC</th><td> 3.176225 </td><td> 0.9664831</td><td> 3.314295 </td><td> 4.782979 </td></tr>\n",
       "\t<tr><th scope=row>SMOKING</th><td> 4.350813 </td><td>-0.6907835</td><td> 4.260778 </td><td> 6.750771 </td></tr>\n",
       "\t<tr><th scope=row>AAA</th><td> 5.197142 </td><td> 5.5139374</td><td> 5.805171 </td><td> 4.613339 </td></tr>\n",
       "</tbody>\n",
       "</table>\n"
      ],
      "text/latex": [
       "\\begin{tabular}{r|llll}\n",
       "  & 0 & 1 & MeanDecreaseAccuracy & MeanDecreaseGini\\\\\n",
       "\\hline\n",
       "\tSEX &  4.281440  & -1.6846860 &  4.188269  &  3.912485 \\\\\n",
       "\tAGE & 13.433866  &  6.1849056 & 14.096683  & 33.907202 \\\\\n",
       "\tSBP & 16.103430  & -0.5405472 & 16.050202  & 34.484075 \\\\\n",
       "\tDIABETES &  6.989353  &  5.3461875 &  7.605150  &  5.186054 \\\\\n",
       "\talcohol &  1.717402  & -1.3748287 &  1.582875  &  6.872509 \\\\\n",
       "\tBMIO &  6.904274  & -1.0540875 &  6.698545  & 34.974962 \\\\\n",
       "\tCARDIAC &  3.176225  &  0.9664831 &  3.314295  &  4.782979 \\\\\n",
       "\tSMOKING &  4.350813  & -0.6907835 &  4.260778  &  6.750771 \\\\\n",
       "\tAAA &  5.197142  &  5.5139374 &  5.805171  &  4.613339 \\\\\n",
       "\\end{tabular}\n"
      ],
      "text/markdown": [
       "\n",
       "| <!--/--> | 0 | 1 | MeanDecreaseAccuracy | MeanDecreaseGini |\n",
       "|---|---|---|---|---|\n",
       "| SEX |  4.281440  | -1.6846860 |  4.188269  |  3.912485  |\n",
       "| AGE | 13.433866  |  6.1849056 | 14.096683  | 33.907202  |\n",
       "| SBP | 16.103430  | -0.5405472 | 16.050202  | 34.484075  |\n",
       "| DIABETES |  6.989353  |  5.3461875 |  7.605150  |  5.186054  |\n",
       "| alcohol |  1.717402  | -1.3748287 |  1.582875  |  6.872509  |\n",
       "| BMIO |  6.904274  | -1.0540875 |  6.698545  | 34.974962  |\n",
       "| CARDIAC |  3.176225  |  0.9664831 |  3.314295  |  4.782979  |\n",
       "| SMOKING |  4.350813  | -0.6907835 |  4.260778  |  6.750771  |\n",
       "| AAA |  5.197142  |  5.5139374 |  5.805171  |  4.613339  |\n",
       "\n"
      ],
      "text/plain": [
       "         0         1          MeanDecreaseAccuracy MeanDecreaseGini\n",
       "SEX       4.281440 -1.6846860  4.188269             3.912485       \n",
       "AGE      13.433866  6.1849056 14.096683            33.907202       \n",
       "SBP      16.103430 -0.5405472 16.050202            34.484075       \n",
       "DIABETES  6.989353  5.3461875  7.605150             5.186054       \n",
       "alcohol   1.717402 -1.3748287  1.582875             6.872509       \n",
       "BMIO      6.904274 -1.0540875  6.698545            34.974962       \n",
       "CARDIAC   3.176225  0.9664831  3.314295             4.782979       \n",
       "SMOKING   4.350813 -0.6907835  4.260778             6.750771       \n",
       "AAA       5.197142  5.5139374  5.805171             4.613339       "
      ]
     },
     "metadata": {},
     "output_type": "display_data"
    },
    {
     "data": {
      "image/png": "[encoded data removed]",
      "text/plain": [
       "plot without title"
      ]
     },
     "metadata": {},
     "output_type": "display_data"
    }
   ],
   "source": [
    "importance(modfits)\n",
    "varImpPlot(modfits)"
   ]
  },
  {
   "cell_type": "markdown",
   "metadata": {},
   "source": [
    "Both 'MeanDecreaseAccuracy' and 'MeanDecreaseGini' are measures of variable importance. Variables with large values are considered more 'important'. SBP, AGE and BMIO are chosen as important variables in both measures but DIABETES is only important in the 'MeanDecreaseAccuracy'.\n",
    "\n",
    "The absolute values of variable importance cannot be compared accros models. The 'MeanDecreaseAccuracy' for age is 14 but applying the model to another data set could result in the value decreasing but it being the most important feature, it is the ranking and the relative importance that can be compared in this scenario. \n",
    "\n",
    "Note - Although it is not common, variable importance can be used as a way to determine which variables should be included in a regression model."
   ]
  },
  {
   "cell_type": "code",
   "execution_count": null,
   "metadata": {},
   "outputs": [],
   "source": []
  },
  {
   "cell_type": "markdown",
   "metadata": {},
   "source": [
    "## Part 6 Hyperparameter optimisation\n",
    "\n",
    "So far we have used R to implement a random forest model on our data but have been using many of the package defaults. For example, the default is to use 500 trees. Also, at each node/split the default is to select and try n variables at each split, where n is the square root of the total number of predictors used in the model. Many of these can impact the model performance and so we should attempt to optimise our model. In machine learning, hyperparameter optimization (or tuning) is the problem of choosing a set of optimal hyperparameters for a learning algorithm, where a hyperparameter is a parameter used to control the learning process. \n",
    "\n",
    "The traditional way of performing hyperparameter optimization has been grid search, or a parameter sweep, which is simply an exhaustive searching through a manually specified subset of the hyperparameter space of a learning algorithm. A grid search algorithm must be guided by some performance metric, typically measured by cross-validation on the training set or evaluation on a held-out validation set.\n",
    "\n",
    "Here we will perform a grid search cross-validation to choose the number of variables used at each node/split. We will use 10-fold cross-validation repeated 3 times and test for the optimum number of variable as each split between 1 and 5. Both 'accuracy' and 'kappa' are options to select the parameters and below you will see that both options choose the same hyperparameter values. *note - these will not always choose the same model*\n",
    "\n",
    "Below is the code to conduct this in the training data. *note - the cross validation does not use the validaion dataset*"
   ]
  },
  {
   "cell_type": "code",
   "execution_count": 128,
   "metadata": {},
   "outputs": [
    {
     "name": "stdout",
     "output_type": "stream",
     "text": [
      "Random Forest \n",
      "\n",
      "2643 samples\n",
      "   5 predictor\n",
      "   2 classes: '0', '1' \n",
      "\n",
      "No pre-processing\n",
      "Resampling: Cross-Validated (10 fold, repeated 3 times) \n",
      "Summary of sample sizes: 2379, 2379, 2378, 2379, 2379, 2379, ... \n",
      "Resampling results across tuning parameters:\n",
      "\n",
      "  mtry  Accuracy   Kappa        \n",
      "  1     0.9447621   0.0000000000\n",
      "  2     0.9442580  -0.0009508638\n",
      "  3     0.9427438  -0.0037312504\n",
      "  4     0.9416080  -0.0057621982\n",
      "  5     0.9413564  -0.0024914752\n",
      "\n",
      "Accuracy was used to select the optimal model using the largest value.\n",
      "The final value used for the model was mtry = 1.\n"
     ]
    },
    {
     "data": {
      "text/plain": [
       "pred\n",
       "  0   1 \n",
       "882   0 "
      ]
     },
     "metadata": {},
     "output_type": "display_data"
    },
    {
     "data": {
      "image/png": "[encoded data removed]",
      "text/plain": [
       "plot without title"
      ]
     },
     "metadata": {},
     "output_type": "display_data"
    }
   ],
   "source": [
    "control <- trainControl(method=\"repeatedcv\", number=10, repeats=3, search=\"grid\")\n",
    "set.seed(123)\n",
    "tunegrid <- expand.grid(.mtry=c(1:5))\n",
    "rf_gridsearch <- train(outcome~SEX + AGE + SBP + DIABETES + alcohol + BMIO + CARDIAC + SMOKING + AAA, data=TrainData, method=\"rf\", metric=\"Accuracy\", tuneGrid=tunegrid, trControl=control)\n",
    "print(rf_gridsearch)\n",
    "plot(rf_gridsearch)\n",
    "pred <- predict(rf_gridsearch, TestData)\n",
    "table(pred)"
   ]
  },
  {
   "cell_type": "code",
   "execution_count": 127,
   "metadata": {},
   "outputs": [
    {
     "name": "stdout",
     "output_type": "stream",
     "text": [
      "Random Forest \n",
      "\n",
      "2643 samples\n",
      "   5 predictor\n",
      "   2 classes: '0', '1' \n",
      "\n",
      "No pre-processing\n",
      "Resampling: Cross-Validated (10 fold, repeated 3 times) \n",
      "Summary of sample sizes: 2379, 2379, 2378, 2379, 2379, 2379, ... \n",
      "Resampling results across tuning parameters:\n",
      "\n",
      "  mtry  Accuracy   Kappa        \n",
      "  1     0.9447621   0.0000000000\n",
      "  2     0.9442580  -0.0009508638\n",
      "  3     0.9427438  -0.0037312504\n",
      "  4     0.9416080  -0.0057621982\n",
      "  5     0.9413564  -0.0024914752\n",
      "\n",
      "Kappa was used to select the optimal model using the largest value.\n",
      "The final value used for the model was mtry = 1.\n"
     ]
    },
    {
     "data": {
      "text/plain": [
       "pred\n",
       "  0   1 \n",
       "882   0 "
      ]
     },
     "metadata": {},
     "output_type": "display_data"
    },
    {
     "data": {
      "image/png": "[encoded data removed]",
      "text/plain": [
       "plot without title"
      ]
     },
     "metadata": {},
     "output_type": "display_data"
    }
   ],
   "source": [
    "control <- trainControl(method=\"repeatedcv\", number=10, repeats=3, search=\"grid\")\n",
    "set.seed(123)\n",
    "tunegrid <- expand.grid(.mtry=c(1:5))\n",
    "rf_gridsearch <- train(outcome~ SEX + AGE + SBP + DIABETES + alcohol + BMIO + CARDIAC + SMOKING + AAA, data=TrainData, method=\"rf\", metric=\"Kappa\", tuneGrid=tunegrid, trControl=control)\n",
    "print(rf_gridsearch)\n",
    "plot(rf_gridsearch)\n",
    "pred <- predict(rf_gridsearch, TestData)\n",
    "table(pred)"
   ]
  },
  {
   "cell_type": "markdown",
   "metadata": {},
   "source": [
    "Both of the above choose the hyperparameter value to be 1 (mtry=1). \n",
    "\n",
    "Here we have only considered 1 hyperparameter but if you are tuning more than one you should not conduct each tuning seperatly but together in the same grid search."
   ]
  },
  {
   "cell_type": "markdown",
   "metadata": {},
   "source": [
    "**Note**\n",
    "\n",
    "This practical was to show you how to perform random forest models using R and to illustrate some of the challenges around machine learning.\n",
    "This was not a tutorial on how to build a prediction model using machine learning.\n",
    "When developing a model you need to decide which is the most appropriate model for your setting and the data you are using. If you chose a ML approach to build a prediction model the same procedure and model development should be applied as though you are building a CPM using regression modelling. The TRIPOD and PROGRESS papers should always be used.\n",
    "  "
   ]
  },
  {
   "cell_type": "code",
   "execution_count": null,
   "metadata": {},
   "outputs": [],
   "source": []
  },
  {
   "cell_type": "code",
   "execution_count": null,
   "metadata": {},
   "outputs": [],
   "source": []
  }
 ],
 "metadata": {
  "kernelspec": {
   "display_name": "R",
   "language": "R",
   "name": "ir"
  },
  "language_info": {
   "codemirror_mode": "r",
   "file_extension": ".r",
   "mimetype": "text/x-r-source",
   "name": "R",
   "pygments_lexer": "r",
   "version": "3.6.0"
  }
 },
 "nbformat": 4,
 "nbformat_minor": 2
}
