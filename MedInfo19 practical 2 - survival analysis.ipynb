{
 "cells": [
  {
   "cell_type": "markdown",
   "metadata": {},
   "source": [
    "# MedInfo 2019 Practical 2\n",
    "****\n",
    "In this practical session, using the same data as practical 1, we will explore some of the concepts covered in the lectures and give you the opportunity to run some code.  \n",
    "\n",
    "\n",
    "In this practical session you will explore how to fit a prediction model for time to event data.\n",
    "\n",
    "We will use the same data set used for practical 1 but rather than modelling if the event happened in 2 years, we will consider any event during the whole follow up in the data (9.5 years) and the time at which it occured.  \n",
    "\n",
    "Due to limited time, we will only consider cox proportional hazard models as they are one of the most common types of survival models used and we will not cover checking the models assumptions, such as proportional hazards, and what to do if the assumptions do not hold.\n",
    "\n",
    "Note: Other models, including non-parametric or weibull survival models could be more appropriate to use depending on your data and this is something that should also be considered and tested when developing a prediction model.\n",
    "\n"
   ]
  },
  {
   "cell_type": "markdown",
   "metadata": {},
   "source": [
    "### Lets begin"
   ]
  },
  {
   "cell_type": "markdown",
   "metadata": {},
   "source": [
    "First lets load the packages we will be using in the practical"
   ]
  },
  {
   "cell_type": "code",
   "execution_count": 1,
   "metadata": {},
   "outputs": [
    {
     "name": "stderr",
     "output_type": "stream",
     "text": [
      "Registered S3 methods overwritten by 'ggplot2':\n",
      "  method         from \n",
      "  [.quosures     rlang\n",
      "  c.quosures     rlang\n",
      "  print.quosures rlang\n",
      "Warning message:\n",
      "\"package 'rms' was built under R version 3.6.1\"Loading required package: Hmisc\n",
      "Warning message:\n",
      "\"package 'Hmisc' was built under R version 3.6.1\"Loading required package: lattice\n",
      "Loading required package: survival\n",
      "Loading required package: Formula\n",
      "\n",
      "Attaching package: 'Hmisc'\n",
      "\n",
      "The following objects are masked from 'package:plyr':\n",
      "\n",
      "    is.discrete, summarize\n",
      "\n",
      "The following objects are masked from 'package:base':\n",
      "\n",
      "    format.pval, units\n",
      "\n",
      "Loading required package: SparseM\n",
      "\n",
      "Attaching package: 'SparseM'\n",
      "\n",
      "The following object is masked from 'package:base':\n",
      "\n",
      "    backsolve\n",
      "\n",
      "Warning message:\n",
      "\"package 'muhaz' was built under R version 3.6.1\"Warning message:\n",
      "\"package 'survminer' was built under R version 3.6.1\"Loading required package: ggpubr\n",
      "Warning message:\n",
      "\"package 'ggpubr' was built under R version 3.6.1\"Loading required package: magrittr\n",
      "\n",
      "Attaching package: 'ggpubr'\n",
      "\n",
      "The following object is masked from 'package:plyr':\n",
      "\n",
      "    mutate\n",
      "\n"
     ]
    }
   ],
   "source": [
    "library(ggplot2)\n",
    "library(plyr)\n",
    "library(rms)\n",
    "library(reshape2)\n",
    "library(prodlim)\n",
    "library(muhaz)\n",
    "library(survival)\n",
    "library(Hmisc)\n",
    "library(survminer)\n",
    "library(MASS)"
   ]
  },
  {
   "cell_type": "markdown",
   "metadata": {},
   "source": [
    "## Part 1\n",
    "Load the data (smart) as we did in practical 1. The \"Data/SMARTs_medinfo_P2-4.rds\" file is the same data as before but albumin is already a categorical variable and the SBP variable has already been generated"
   ]
  },
  {
   "cell_type": "markdown",
   "metadata": {},
   "source": [
    "Begin by loading the data and conducting a brief data check"
   ]
  },
  {
   "cell_type": "code",
   "execution_count": 2,
   "metadata": {},
   "outputs": [
    {
     "data": {
      "text/html": [
       "'data.frame'"
      ],
      "text/latex": [
       "'data.frame'"
      ],
      "text/markdown": [
       "'data.frame'"
      ],
      "text/plain": [
       "[1] \"data.frame\""
      ]
     },
     "metadata": {},
     "output_type": "display_data"
    },
    {
     "data": {
      "text/html": [
       "<dl class=dl-horizontal>\n",
       "\t<dt>TEVENT</dt>\n",
       "\t\t<dd>'numeric'</dd>\n",
       "\t<dt>EVENT</dt>\n",
       "\t\t<dd>'integer'</dd>\n",
       "\t<dt>SEX</dt>\n",
       "\t\t<dd>'factor'</dd>\n",
       "\t<dt>AGE</dt>\n",
       "\t\t<dd>'integer'</dd>\n",
       "\t<dt>DIABETES</dt>\n",
       "\t\t<dd>'factor'</dd>\n",
       "\t<dt>CEREBRAL</dt>\n",
       "\t\t<dd>'factor'</dd>\n",
       "\t<dt>CARDIAC</dt>\n",
       "\t\t<dd>'factor'</dd>\n",
       "\t<dt>AAA</dt>\n",
       "\t\t<dd>'factor'</dd>\n",
       "\t<dt>PERIPH</dt>\n",
       "\t\t<dd>'factor'</dd>\n",
       "\t<dt>STENOSIS</dt>\n",
       "\t\t<dd>'factor'</dd>\n",
       "\t<dt>LENGTHO</dt>\n",
       "\t\t<dd>'numeric'</dd>\n",
       "\t<dt>WEIGHTO</dt>\n",
       "\t\t<dd>'integer'</dd>\n",
       "\t<dt>BMIO</dt>\n",
       "\t\t<dd>'numeric'</dd>\n",
       "\t<dt>CHOLO</dt>\n",
       "\t\t<dd>'numeric'</dd>\n",
       "\t<dt>albumin</dt>\n",
       "\t\t<dd>'integer'</dd>\n",
       "\t<dt>SMOKING</dt>\n",
       "\t\t<dd>'factor'</dd>\n",
       "\t<dt>packyrs</dt>\n",
       "\t\t<dd>'numeric'</dd>\n",
       "\t<dt>alcohol</dt>\n",
       "\t\t<dd>'factor'</dd>\n",
       "\t<dt>outcome</dt>\n",
       "\t\t<dd>'integer'</dd>\n",
       "\t<dt>SBP</dt>\n",
       "\t\t<dd>'integer'</dd>\n",
       "</dl>\n"
      ],
      "text/latex": [
       "\\begin{description*}\n",
       "\\item[TEVENT] 'numeric'\n",
       "\\item[EVENT] 'integer'\n",
       "\\item[SEX] 'factor'\n",
       "\\item[AGE] 'integer'\n",
       "\\item[DIABETES] 'factor'\n",
       "\\item[CEREBRAL] 'factor'\n",
       "\\item[CARDIAC] 'factor'\n",
       "\\item[AAA] 'factor'\n",
       "\\item[PERIPH] 'factor'\n",
       "\\item[STENOSIS] 'factor'\n",
       "\\item[LENGTHO] 'numeric'\n",
       "\\item[WEIGHTO] 'integer'\n",
       "\\item[BMIO] 'numeric'\n",
       "\\item[CHOLO] 'numeric'\n",
       "\\item[albumin] 'integer'\n",
       "\\item[SMOKING] 'factor'\n",
       "\\item[packyrs] 'numeric'\n",
       "\\item[alcohol] 'factor'\n",
       "\\item[outcome] 'integer'\n",
       "\\item[SBP] 'integer'\n",
       "\\end{description*}\n"
      ],
      "text/markdown": [
       "TEVENT\n",
       ":   'numeric'EVENT\n",
       ":   'integer'SEX\n",
       ":   'factor'AGE\n",
       ":   'integer'DIABETES\n",
       ":   'factor'CEREBRAL\n",
       ":   'factor'CARDIAC\n",
       ":   'factor'AAA\n",
       ":   'factor'PERIPH\n",
       ":   'factor'STENOSIS\n",
       ":   'factor'LENGTHO\n",
       ":   'numeric'WEIGHTO\n",
       ":   'integer'BMIO\n",
       ":   'numeric'CHOLO\n",
       ":   'numeric'albumin\n",
       ":   'integer'SMOKING\n",
       ":   'factor'packyrs\n",
       ":   'numeric'alcohol\n",
       ":   'factor'outcome\n",
       ":   'integer'SBP\n",
       ":   'integer'\n",
       "\n"
      ],
      "text/plain": [
       "   TEVENT     EVENT       SEX       AGE  DIABETES  CEREBRAL   CARDIAC       AAA \n",
       "\"numeric\" \"integer\"  \"factor\" \"integer\"  \"factor\"  \"factor\"  \"factor\"  \"factor\" \n",
       "   PERIPH  STENOSIS   LENGTHO   WEIGHTO      BMIO     CHOLO   albumin   SMOKING \n",
       " \"factor\"  \"factor\" \"numeric\" \"integer\" \"numeric\" \"numeric\" \"integer\"  \"factor\" \n",
       "  packyrs   alcohol   outcome       SBP \n",
       "\"numeric\"  \"factor\" \"integer\" \"integer\" "
      ]
     },
     "metadata": {},
     "output_type": "display_data"
    },
    {
     "data": {
      "text/html": [
       "<ol class=list-inline>\n",
       "\t<li>3873</li>\n",
       "\t<li>20</li>\n",
       "</ol>\n"
      ],
      "text/latex": [
       "\\begin{enumerate*}\n",
       "\\item 3873\n",
       "\\item 20\n",
       "\\end{enumerate*}\n"
      ],
      "text/markdown": [
       "1. 3873\n",
       "2. 20\n",
       "\n",
       "\n"
      ],
      "text/plain": [
       "[1] 3873   20"
      ]
     },
     "metadata": {},
     "output_type": "display_data"
    }
   ],
   "source": [
    "smart <- readRDS(\"SMARTs_medinfo_P2-4.rds\")\n",
    "attach(smart)\n",
    "class(smart)\n",
    "sapply(smart,class)\n",
    "dim(smart)"
   ]
  },
  {
   "cell_type": "code",
   "execution_count": 3,
   "metadata": {},
   "outputs": [
    {
     "data": {
      "text/plain": [
       "$TEVENT\n",
       "   Min. 1st Qu.  Median    Mean 3rd Qu.    Max. \n",
       "    0.1   555.0  1213.0  1370.3  2165.0  3466.0 \n",
       "\n",
       "$EVENT\n",
       "   Min. 1st Qu.  Median    Mean 3rd Qu.    Max. \n",
       " 0.0000  0.0000  0.0000  0.1188  0.0000  1.0000 \n",
       "\n",
       "$SEX\n",
       "Female   Male \n",
       "   976   2897 \n",
       "\n",
       "$AGE\n",
       "   Min. 1st Qu.  Median    Mean 3rd Qu.    Max. \n",
       "  19.00   52.00   60.00   59.56   68.00   82.00 \n",
       "\n",
       "$DIABETES\n",
       "   0    1 NA's \n",
       "2987  846   40 \n",
       "\n",
       "$CEREBRAL\n",
       "   0    1 \n",
       "2726 1147 \n",
       "\n",
       "$CARDIAC\n",
       "   0    1 \n",
       "1713 2160 \n",
       "\n",
       "$AAA\n",
       "   0    1 \n",
       "3457  416 \n",
       "\n",
       "$PERIPH\n",
       "   0    1 \n",
       "2933  940 \n",
       "\n",
       "$STENOSIS\n",
       "   0    1 NA's \n",
       "3058  722   93 \n",
       "\n",
       "$LENGTHO\n",
       "   Min. 1st Qu.  Median    Mean 3rd Qu.    Max.    NA's \n",
       "   1.42    1.68    1.75    1.74    1.80    2.05       1 \n",
       "\n",
       "$WEIGHTO\n",
       "   Min. 1st Qu.  Median    Mean 3rd Qu.    Max.    NA's \n",
       "  37.00   72.00   80.00   81.01   89.00  143.00       2 \n",
       "\n",
       "$BMIO\n",
       "   Min. 1st Qu.  Median    Mean 3rd Qu.    Max.    NA's \n",
       "  15.43   24.11   26.30   26.70   28.73   48.85       3 \n",
       "\n",
       "$CHOLO\n",
       "   Min. 1st Qu.  Median    Mean 3rd Qu.    Max.    NA's \n",
       "  2.200   4.400   5.100   5.196   5.900  20.900      18 \n",
       "\n",
       "$albumin\n",
       "   Min. 1st Qu.  Median    Mean 3rd Qu.    Max.    NA's \n",
       "  1.000   1.000   1.000   1.241   1.000   3.000     207 \n",
       "\n",
       "$SMOKING\n",
       "Current  Former   Never    NA's \n",
       "    444    2711     693      25 \n",
       "\n",
       "$packyrs\n",
       "   Min. 1st Qu.  Median    Mean 3rd Qu.    Max.    NA's \n",
       "   0.00    5.90   19.50   22.62   34.20  120.00      21 \n",
       "\n",
       "$alcohol\n",
       "Current  Former   Never    NA's \n",
       "   2689     408     751      25 \n",
       "\n",
       "$outcome\n",
       "   Min. 1st Qu.  Median    Mean 3rd Qu.    Max. \n",
       "0.00000 0.00000 0.00000 0.05474 0.00000 1.00000 \n",
       "\n",
       "$SBP\n",
       "   Min. 1st Qu.  Median    Mean 3rd Qu.    Max.    NA's \n",
       "     79     127     140     142     154     242       3 \n"
      ]
     },
     "metadata": {},
     "output_type": "display_data"
    }
   ],
   "source": [
    "sapply(smart,summary)"
   ]
  },
  {
   "cell_type": "code",
   "execution_count": 4,
   "metadata": {},
   "outputs": [
    {
     "data": {
      "text/plain": [
       "   Min. 1st Qu.  Median    Mean 3rd Qu.    Max. \n",
       "    0.1   555.0  1213.0  1370.3  2165.0  3466.0 "
      ]
     },
     "metadata": {},
     "output_type": "display_data"
    },
    {
     "data": {
      "text/plain": [
       "\n",
       "   0    1 \n",
       "3413  460 "
      ]
     },
     "metadata": {},
     "output_type": "display_data"
    },
    {
     "data": {
      "text/plain": [
       "       \n",
       "          0   1   2   3   4   5   6   7   8   9\n",
       "  FALSE 258 514 497 447 354 305 333 314 241 150\n",
       "  TRUE   88  98  54  63  51  38  30  24  10   4"
      ]
     },
     "metadata": {},
     "output_type": "display_data"
    }
   ],
   "source": [
    "summary(smart$TEVENT) # Summarises the time to event\n",
    "table(smart$EVENT) # Tabulates number of events\n",
    "table(smart$EVENT==1, round(smart$TEVENT/365,0)) # Tabulates number of events by year (TRUE=event, FALSE=censored)"
   ]
  },
  {
   "cell_type": "markdown",
   "metadata": {},
   "source": [
    "## Part 2 \n",
    "### Survival objects and Kaplan-Meier plots"
   ]
  },
  {
   "cell_type": "markdown",
   "metadata": {},
   "source": [
    "We will now use R to illustrate 1) how to handle survival data, 2) how to illustrate it using the Kaplan-Meier estimate, and 3) how to build a cox proportional hazard regression model.\n",
    "\n",
    "The columns of interest (for now) in the data are ‘TEVENT’ and ‘EVENT’.\n",
    "\n",
    "‘survival’ is the R package that contains most of the functions we need to conduct survival analysis.\n",
    "First, we need to tell R that ‘TEVENT’ and ‘EVENT’ are a pair that define the outcome, using a special function ‘Surv’:"
   ]
  },
  {
   "cell_type": "code",
   "execution_count": 5,
   "metadata": {},
   "outputs": [],
   "source": [
    "TE<-Surv(TEVENT,EVENT)"
   ]
  },
  {
   "cell_type": "markdown",
   "metadata": {},
   "source": [
    "This ‘Surv object’ is then used as our outcome in subsequent code. For example, we can construct a Kaplan Meier estimate:"
   ]
  },
  {
   "cell_type": "code",
   "execution_count": 6,
   "metadata": {},
   "outputs": [],
   "source": [
    "KM<-survfit(TE~1, data = smart)"
   ]
  },
  {
   "cell_type": "markdown",
   "metadata": {},
   "source": [
    "This calculates the Kaplan-Meier estimate at all possible values of _t_ (note that the estimate only changes when events are observed). Note that ‘survfit’ we have specified a formula, and the ‘1’ means there are no covariates. More on this later.\n",
    "\n",
    "We can also plot the Kaplan-Meier estimate:"
   ]
  },
  {
   "cell_type": "code",
   "execution_count": 7,
   "metadata": {
    "scrolled": true
   },
   "outputs": [
    {
     "data": {
      "image/png": "[encoded data removed]",
      "text/plain": [
       "plot without title"
      ]
     },
     "metadata": {},
     "output_type": "display_data"
    }
   ],
   "source": [
    "plot(KM,xlab=\"Time (days)\",ylab=\"Survival\")"
   ]
  },
  {
   "cell_type": "markdown",
   "metadata": {},
   "source": [
    "We can also plot this in months (using TEVENT/12) or years (using TEVENT/365.25)"
   ]
  },
  {
   "cell_type": "code",
   "execution_count": 8,
   "metadata": {},
   "outputs": [
    {
     "data": {
      "image/png": "[encoded data removed]",
      "text/plain": [
       "plot without title"
      ]
     },
     "metadata": {},
     "output_type": "display_data"
    }
   ],
   "source": [
    "TEmth<-Surv(TEVENT/12,EVENT)\n",
    "KMmth<-survfit(TEmth~1, data = smart)\n",
    "plot(KMmth,xlab=\"Time (months)\",ylab=\"Survival\", ylim = c(0.5,1))"
   ]
  },
  {
   "cell_type": "markdown",
   "metadata": {},
   "source": [
    "Interpretation of the plot: we see a steady decline in the survival function over time. By the end of follow-up we estimate that approximatly 25% of the patients have had the event.\n",
    "\n",
    "### Stratified Kaplan-Meier Estimates\n",
    "We can also consider plotting survival estimates across different **categorical** variables. Producing Kaplan Meier estimates separately in the groups, and plotting these on the same graph. This is a good way to get a descriptive idea of the effect of the variable on time to event. We will start by looking at the association between gender:"
   ]
  },
  {
   "cell_type": "code",
   "execution_count": 9,
   "metadata": {},
   "outputs": [
    {
     "data": {
      "image/png": "[encoded data removed]",
      "text/plain": [
       "plot without title"
      ]
     },
     "metadata": {},
     "output_type": "display_data"
    }
   ],
   "source": [
    "KM <-survfit(TE~SEX, data = smart)\n",
    "\n",
    "plot(KM,lty=1:2,xlab=\"Time\",ylab=\"Survival\", ylim = c(0.5,1))\n",
    "\n",
    "#ggsurvplot(KM, data = smart, risk.table = TRUE, ylim = c(0.5,1))"
   ]
  },
  {
   "cell_type": "markdown",
   "metadata": {},
   "source": [
    "Here, we can see there there appears to be some difference in the survival curves, particularly at later follow-up. The log-rank test is a means to formally test the hypothesis that survival differs between the two groups. We can perform this test in R by:"
   ]
  },
  {
   "cell_type": "code",
   "execution_count": 10,
   "metadata": {},
   "outputs": [
    {
     "data": {
      "text/plain": [
       "Call:\n",
       "survdiff(formula = TE ~ SEX, data = smart)\n",
       "\n",
       "              N Observed Expected (O-E)^2/E (O-E)^2/V\n",
       "SEX=Female  976       86      117      8.14      10.9\n",
       "SEX=Male   2897      374      343      2.77      10.9\n",
       "\n",
       " Chisq= 10.9  on 1 degrees of freedom, p= 9e-04 "
      ]
     },
     "metadata": {},
     "output_type": "display_data"
    }
   ],
   "source": [
    "survdiff(TE~SEX, data = smart)"
   ]
  },
  {
   "cell_type": "markdown",
   "metadata": {},
   "source": [
    "From the R output we see that P<0.001 and we therefore reject the null hypothesis that the survival curves are the same.\n",
    "\n",
    "**By modifying the above code, explore the effect of other variables on survival. Remember, that you might need to categorise continuous variables**"
   ]
  },
  {
   "cell_type": "code",
   "execution_count": 11,
   "metadata": {},
   "outputs": [],
   "source": [
    "#Enter R code here"
   ]
  },
  {
   "cell_type": "markdown",
   "metadata": {},
   "source": [
    "## Part 3\n",
    "Now lets begin by fitting univariable models with categorical variables"
   ]
  },
  {
   "cell_type": "code",
   "execution_count": 12,
   "metadata": {},
   "outputs": [
    {
     "data": {
      "text/plain": [
       "Call:\n",
       "coxph(formula = Surv(TEVENT/12, EVENT) ~ SEX)\n",
       "\n",
       "  n= 3873, number of events= 460 \n",
       "\n",
       "          coef exp(coef) se(coef)     z Pr(>|z|)   \n",
       "SEXMale 0.3933    1.4818   0.1197 3.286  0.00102 **\n",
       "---\n",
       "Signif. codes:  0 '***' 0.001 '**' 0.01 '*' 0.05 '.' 0.1 ' ' 1\n",
       "\n",
       "        exp(coef) exp(-coef) lower .95 upper .95\n",
       "SEXMale     1.482     0.6749     1.172     1.874\n",
       "\n",
       "Concordance= 0.527  (se = 0.01 )\n",
       "Likelihood ratio test= 11.68  on 1 df,   p=6e-04\n",
       "Wald test            = 10.8  on 1 df,   p=0.001\n",
       "Score (logrank) test = 10.93  on 1 df,   p=9e-04\n"
      ]
     },
     "metadata": {},
     "output_type": "display_data"
    },
    {
     "data": {
      "text/plain": [
       "Call:\n",
       "coxph(formula = Surv(TEVENT/12, EVENT) ~ CARDIAC)\n",
       "\n",
       "  n= 3873, number of events= 460 \n",
       "\n",
       "            coef exp(coef) se(coef)     z Pr(>|z|)\n",
       "CARDIAC1 0.02270   1.02296  0.09386 0.242    0.809\n",
       "\n",
       "         exp(coef) exp(-coef) lower .95 upper .95\n",
       "CARDIAC1     1.023     0.9776    0.8511      1.23\n",
       "\n",
       "Concordance= 0.499  (se = 0.013 )\n",
       "Likelihood ratio test= 0.06  on 1 df,   p=0.8\n",
       "Wald test            = 0.06  on 1 df,   p=0.8\n",
       "Score (logrank) test = 0.06  on 1 df,   p=0.8\n"
      ]
     },
     "metadata": {},
     "output_type": "display_data"
    }
   ],
   "source": [
    "cox_sex <- coxph(Surv(TEVENT/12,EVENT)~SEX)\n",
    "summary(cox_sex)\n",
    "\n",
    "cox_card <- coxph(Surv(TEVENT/12,EVENT)~CARDIAC)\n",
    "summary(cox_card)"
   ]
  },
  {
   "cell_type": "markdown",
   "metadata": {},
   "source": [
    "The hazard ratio for the model including sex is 1.482 (95% confidence interval: 1.172-1.874). Hence, men have a 1.482 fold increase in their risk of experienceing the event compared to women. Pr(>|z|) (p-value) represents the the probability that the model coefficient is zero.  \n",
    "Note: this is not causal and is subject to confounding. Adjusting for additional predictors will lkely change this estimate (see results at the end of the practical)"
   ]
  },
  {
   "cell_type": "markdown",
   "metadata": {},
   "source": [
    "## Part 4\n",
    "Modelling using splines\n",
    "Similar to logistic regression models we can investigate if a continuous variables shpuld be modelled as a linear or non-linear association with with outcome of interest."
   ]
  },
  {
   "cell_type": "markdown",
   "metadata": {},
   "source": [
    "First create spline variables, where 3 means 3 knots (i.e. 2 age terms) etc."
   ]
  },
  {
   "cell_type": "code",
   "execution_count": 13,
   "metadata": {
    "scrolled": true
   },
   "outputs": [],
   "source": [
    "age3_spline <- rcs(AGE,3)\n",
    "age4_spline <- rcs(AGE,4)\n",
    "age5_spline <- rcs(AGE,5)\n"
   ]
  },
  {
   "cell_type": "markdown",
   "metadata": {},
   "source": [
    "Fit a cox regression model using each set of spline variables & predict the linear predictor (LP). "
   ]
  },
  {
   "cell_type": "code",
   "execution_count": 14,
   "metadata": {},
   "outputs": [
    {
     "data": {
      "text/plain": [
       "Call:\n",
       "coxph(formula = Surv(TEVENT/12, EVENT) ~ age3_spline, data = smart, \n",
       "    ties = \"breslow\")\n",
       "\n",
       "                    coef exp(coef) se(coef)     z        p\n",
       "age3_splineAGE  0.008113  1.008146 0.012010 0.676 0.499309\n",
       "age3_splineAGE' 0.046496  1.047594 0.012817 3.628 0.000286\n",
       "\n",
       "Likelihood ratio test=118.1  on 2 df, p=< 2.2e-16\n",
       "n= 3873, number of events= 460 "
      ]
     },
     "metadata": {},
     "output_type": "display_data"
    },
    {
     "data": {
      "text/plain": [
       "Call:\n",
       "coxph(formula = Surv(TEVENT/12, EVENT) ~ age4_spline, data = smart, \n",
       "    ties = \"breslow\")\n",
       "\n",
       "                      coef exp(coef)  se(coef)      z     p\n",
       "age4_splineAGE    0.001549  1.001550  0.019343  0.080 0.936\n",
       "age4_splineAGE'   0.054747  1.056274  0.042725  1.281 0.200\n",
       "age4_splineAGE'' -0.071218  0.931259  0.188684 -0.377 0.706\n",
       "\n",
       "Likelihood ratio test=118.4  on 3 df, p=< 2.2e-16\n",
       "n= 3873, number of events= 460 "
      ]
     },
     "metadata": {},
     "output_type": "display_data"
    },
    {
     "data": {
      "text/plain": [
       "Call:\n",
       "coxph(formula = Surv(TEVENT/12, EVENT) ~ age5_spline, data = smart, \n",
       "    ties = \"breslow\")\n",
       "\n",
       "                        coef  exp(coef)   se(coef)      z     p\n",
       "age5_splineAGE    -0.0004737  0.9995264  0.0242917 -0.020 0.984\n",
       "age5_splineAGE'    0.0674447  1.0697711  0.1017985  0.663 0.508\n",
       "age5_splineAGE''  -0.1006972  0.9042068  0.5500061 -0.183 0.855\n",
       "age5_splineAGE'''  0.0509447  1.0522647  0.9209874  0.055 0.956\n",
       "\n",
       "Likelihood ratio test=118.4  on 4 df, p=< 2.2e-16\n",
       "n= 3873, number of events= 460 "
      ]
     },
     "metadata": {},
     "output_type": "display_data"
    }
   ],
   "source": [
    "\n",
    "# Fit a Cox model for each spline function\n",
    "cox_age3 <- coxph(Surv(TEVENT/12,EVENT)~age3_spline,data=smart,ties=\"breslow\")\n",
    "cox_age3\n",
    "lp_age3 <- predict(cox_age3)\n",
    "\n",
    "cox_age4 <- coxph(Surv(TEVENT/12,EVENT)~age4_spline,data=smart,ties=\"breslow\")\n",
    "cox_age4\n",
    "lp_age4 <- predict(cox_age4)\n",
    "\n",
    "cox_age5 <- coxph(Surv(TEVENT/12,EVENT)~age5_spline,data=smart,ties=\"breslow\")\n",
    "cox_age5\n",
    "lp_age5 <- predict(cox_age5)"
   ]
  },
  {
   "cell_type": "markdown",
   "metadata": {},
   "source": [
    "We alo need to non-spline model\n"
   ]
  },
  {
   "cell_type": "code",
   "execution_count": 15,
   "metadata": {},
   "outputs": [
    {
     "data": {
      "text/plain": [
       "Call:\n",
       "coxph(formula = Surv(TEVENT/12, EVENT) ~ AGE)\n",
       "\n",
       "  n= 3873, number of events= 460 \n",
       "\n",
       "        coef exp(coef) se(coef)     z Pr(>|z|)    \n",
       "AGE 0.049664  1.050918 0.005038 9.858   <2e-16 ***\n",
       "---\n",
       "Signif. codes:  0 '***' 0.001 '**' 0.01 '*' 0.05 '.' 0.1 ' ' 1\n",
       "\n",
       "    exp(coef) exp(-coef) lower .95 upper .95\n",
       "AGE     1.051     0.9515     1.041     1.061\n",
       "\n",
       "Concordance= 0.624  (se = 0.015 )\n",
       "Likelihood ratio test= 105.9  on 1 df,   p=<2e-16\n",
       "Wald test            = 97.17  on 1 df,   p=<2e-16\n",
       "Score (logrank) test = 99.32  on 1 df,   p=<2e-16\n"
      ]
     },
     "metadata": {},
     "output_type": "display_data"
    }
   ],
   "source": [
    "cox_age <- coxph(Surv(TEVENT/12,EVENT)~AGE)\n",
    "summary(cox_age)\n",
    "lp_age1 <- predict(cox_age)"
   ]
  },
  {
   "cell_type": "markdown",
   "metadata": {},
   "source": [
    "Plot all LP together for visual inspection"
   ]
  },
  {
   "cell_type": "code",
   "execution_count": 16,
   "metadata": {},
   "outputs": [
    {
     "data": {
      "image/png": "[encoded data removed]",
      "text/plain": [
       "plot without title"
      ]
     },
     "metadata": {},
     "output_type": "display_data"
    }
   ],
   "source": [
    "data_part6 <- data.frame(AGE,lp_age1,lp_age3,lp_age4,lp_age5)\n",
    "data_part6_m <- melt(data_part6,id.vars='AGE')\n",
    "plot_part6 <- ggplot(data_part6_m,aes(AGE,value,colour=variable))+geom_line()+scale_colour_manual(labels=c(\"linear\",\"3 knots\",\"4 knots\",\"5 knots\"),values=c(\"gray\",\"green\",\"red\",\"blue\"))+theme_bw()\n",
    "plot_part6 + labs(x=\"Age (years)\",y=\"Linear Predictor (log odds)\",color=\"\") + theme(legend.position=c(0.2,0.8))"
   ]
  },
  {
   "cell_type": "code",
   "execution_count": 17,
   "metadata": {},
   "outputs": [
    {
     "data": {
      "text/html": [
       "<table>\n",
       "<thead><tr><th></th><th scope=col>AIC</th><th scope=col>BIC</th></tr></thead>\n",
       "<tbody>\n",
       "\t<tr><th scope=row>age_mod</th><td>6905.645</td><td>6909.776</td></tr>\n",
       "\t<tr><th scope=row>age3_mod</th><td>6895.507</td><td>6903.770</td></tr>\n",
       "\t<tr><th scope=row>age4_mod</th><td>6897.222</td><td>6909.615</td></tr>\n",
       "\t<tr><th scope=row>age5_mod</th><td>6899.181</td><td>6915.706</td></tr>\n",
       "</tbody>\n",
       "</table>\n"
      ],
      "text/latex": [
       "\\begin{tabular}{r|ll}\n",
       "  & AIC & BIC\\\\\n",
       "\\hline\n",
       "\tage\\_mod & 6905.645 & 6909.776\\\\\n",
       "\tage3\\_mod & 6895.507 & 6903.770\\\\\n",
       "\tage4\\_mod & 6897.222 & 6909.615\\\\\n",
       "\tage5\\_mod & 6899.181 & 6915.706\\\\\n",
       "\\end{tabular}\n"
      ],
      "text/markdown": [
       "\n",
       "| <!--/--> | AIC | BIC |\n",
       "|---|---|---|\n",
       "| age_mod | 6905.645 | 6909.776 |\n",
       "| age3_mod | 6895.507 | 6903.770 |\n",
       "| age4_mod | 6897.222 | 6909.615 |\n",
       "| age5_mod | 6899.181 | 6915.706 |\n",
       "\n"
      ],
      "text/plain": [
       "         AIC      BIC     \n",
       "age_mod  6905.645 6909.776\n",
       "age3_mod 6895.507 6903.770\n",
       "age4_mod 6897.222 6909.615\n",
       "age5_mod 6899.181 6915.706"
      ]
     },
     "metadata": {},
     "output_type": "display_data"
    }
   ],
   "source": [
    "age_spline_check <- matrix(c(AIC(cox_age),\n",
    "         BIC(cox_age),\n",
    "         AIC(cox_age3),\n",
    "         BIC(cox_age3),\n",
    "         AIC(cox_age4),\n",
    "         BIC(cox_age4),\n",
    "         AIC(cox_age5),\n",
    "         BIC(cox_age5)), ncol=2, byrow=TRUE)\n",
    "\n",
    "colnames(age_spline_check) <- c(\"AIC\", \"BIC\")\n",
    "rownames(age_spline_check) <- c(\"age_mod\",\"age3_mod\", \"age4_mod\", \"age5_mod\")\n",
    "age_spline_check"
   ]
  },
  {
   "cell_type": "markdown",
   "metadata": {},
   "source": [
    "**Using the plot of the spline functions and the table above, which age term would you use (how many knots)?**"
   ]
  },
  {
   "cell_type": "code",
   "execution_count": null,
   "metadata": {},
   "outputs": [],
   "source": []
  },
  {
   "cell_type": "markdown",
   "metadata": {},
   "source": [
    "## Part 5 Building a multivariable model"
   ]
  },
  {
   "cell_type": "markdown",
   "metadata": {},
   "source": [
    "Similar to practical 1, we will now select the same predictor variables of interest and build a multivariable cox model using stepwise selection."
   ]
  },
  {
   "cell_type": "code",
   "execution_count": 18,
   "metadata": {},
   "outputs": [],
   "source": [
    "detach(smart)\n",
    "smart <- subset(smart, select = c(outcome, TEVENT, EVENT, SEX, AGE, SBP, alcohol, CHOLO, BMIO, DIABETES, CARDIAC, SMOKING, AAA))\n",
    "smart <- na.omit(smart)\n",
    "age3_spline <- rcs(smart$AGE,3)\n",
    "attach(smart)"
   ]
  },
  {
   "cell_type": "code",
   "execution_count": 19,
   "metadata": {},
   "outputs": [
    {
     "name": "stdout",
     "output_type": "stream",
     "text": [
      "Start:  AIC=6853.54\n",
      "Surv(TEVENT/12, EVENT) ~ 1\n",
      "\n",
      "              Df    AIC\n",
      "+ age3_spline  2 6741.7\n",
      "+ AAA          1 6799.5\n",
      "+ SBP          1 6831.9\n",
      "+ SEX          1 6843.5\n",
      "+ DIABETES     1 6844.6\n",
      "+ BMIO         1 6851.8\n",
      "+ alcohol      2 6852.4\n",
      "<none>           6853.5\n",
      "+ SMOKING      2 6855.1\n",
      "+ CHOLO        1 6856.2\n",
      "+ CARDIAC      1 6856.2\n",
      "\n",
      "Step:  AIC=6741.65\n",
      "Surv(TEVENT/12, EVENT) ~ age3_spline\n",
      "\n",
      "           Df    AIC\n",
      "+ AAA       1 6715.5\n",
      "+ SEX       1 6730.3\n",
      "+ SMOKING   2 6736.6\n",
      "+ DIABETES  1 6738.2\n",
      "<none>        6741.7\n",
      "+ SBP       1 6742.4\n",
      "+ BMIO      1 6743.1\n",
      "+ CARDIAC   1 6743.5\n",
      "+ alcohol   2 6744.3\n",
      "+ CHOLO     1 6744.3\n",
      "\n",
      "Step:  AIC=6715.49\n",
      "Surv(TEVENT/12, EVENT) ~ age3_spline + AAA\n",
      "\n",
      "           Df    AIC\n",
      "+ SEX       1 6709.2\n",
      "+ DIABETES  1 6709.4\n",
      "+ SMOKING   2 6714.6\n",
      "+ SBP       1 6715.1\n",
      "<none>        6715.5\n",
      "+ CARDIAC   1 6716.1\n",
      "+ BMIO      1 6717.4\n",
      "+ CHOLO     1 6718.2\n",
      "+ alcohol   2 6718.5\n",
      "\n",
      "Step:  AIC=6709.24\n",
      "Surv(TEVENT/12, EVENT) ~ age3_spline + AAA + SEX\n",
      "\n",
      "           Df    AIC\n",
      "+ DIABETES  1 6702.5\n",
      "+ SBP       1 6708.3\n",
      "<none>        6709.2\n",
      "+ alcohol   2 6709.3\n",
      "+ CARDIAC   1 6710.8\n",
      "+ SMOKING   2 6710.9\n",
      "+ BMIO      1 6711.2\n",
      "+ CHOLO     1 6711.8\n",
      "\n",
      "Step:  AIC=6702.5\n",
      "Surv(TEVENT/12, EVENT) ~ age3_spline + AAA + SEX + DIABETES\n",
      "\n",
      "          Df    AIC\n",
      "<none>       6702.5\n",
      "+ SBP      1 6702.8\n",
      "+ BMIO     1 6702.9\n",
      "+ SMOKING  2 6703.6\n",
      "+ alcohol  2 6703.6\n",
      "+ CARDIAC  1 6704.2\n",
      "+ CHOLO    1 6704.9\n"
     ]
    }
   ],
   "source": [
    "\n",
    "k10 <- qchisq(0.10,1,lower.tail=FALSE) # this gives the change in AIC we consider to be significant in our stepwise selection\n",
    "\n",
    "# Forward selection (by AIC)\n",
    "empty_mod_2 <- coxph(Surv(TEVENT/12,EVENT)~1)\n",
    "forward_mod_2 <- stepAIC(empty_mod_2,k=k10,scope=list(upper=~SEX+age3_spline + SBP + alcohol + CHOLO + BMIO + DIABETES + CARDIAC + SMOKING + AAA,lower=~1),direction=\"forward\",trace=TRUE)\n"
   ]
  },
  {
   "cell_type": "code",
   "execution_count": 20,
   "metadata": {},
   "outputs": [
    {
     "name": "stdout",
     "output_type": "stream",
     "text": [
      "Start:  AIC=6707.16\n",
      "Surv(TEVENT/12, EVENT) ~ SEX + age3_spline + SBP + alcohol + \n",
      "    CHOLO + BMIO + DIABETES + CARDIAC + SMOKING + AAA\n",
      "\n",
      "              Df    AIC\n",
      "- CHOLO        1 6704.7\n",
      "- alcohol      2 6707.0\n",
      "- CARDIAC      1 6707.0\n",
      "<none>           6707.2\n",
      "- SBP          1 6707.2\n",
      "- BMIO         1 6707.3\n",
      "- SMOKING      2 6707.3\n",
      "- SEX          1 6712.4\n",
      "- DIABETES     1 6713.7\n",
      "- AAA          1 6729.3\n",
      "- age3_spline  2 6768.7\n",
      "\n",
      "Step:  AIC=6704.67\n",
      "Surv(TEVENT/12, EVENT) ~ SEX + age3_spline + SBP + alcohol + \n",
      "    BMIO + DIABETES + CARDIAC + SMOKING + AAA\n",
      "\n",
      "              Df    AIC\n",
      "- CARDIAC      1 6704.4\n",
      "- alcohol      2 6704.6\n",
      "<none>           6704.7\n",
      "- BMIO         1 6704.8\n",
      "- SBP          1 6704.9\n",
      "- SMOKING      2 6705.0\n",
      "- SEX          1 6709.7\n",
      "- DIABETES     1 6711.1\n",
      "- AAA          1 6726.9\n",
      "- age3_spline  2 6766.0\n",
      "\n",
      "Step:  AIC=6704.39\n",
      "Surv(TEVENT/12, EVENT) ~ SEX + age3_spline + SBP + alcohol + \n",
      "    BMIO + DIABETES + SMOKING + AAA\n",
      "\n",
      "              Df    AIC\n",
      "- SBP          1 6703.9\n",
      "- BMIO         1 6703.9\n",
      "- SMOKING      2 6704.2\n",
      "<none>           6704.4\n",
      "- alcohol      2 6704.5\n",
      "- DIABETES     1 6711.0\n",
      "- SEX          1 6711.0\n",
      "- AAA          1 6725.3\n",
      "- age3_spline  2 6765.7\n",
      "\n",
      "Step:  AIC=6703.86\n",
      "Surv(TEVENT/12, EVENT) ~ SEX + age3_spline + alcohol + BMIO + \n",
      "    DIABETES + SMOKING + AAA\n",
      "\n",
      "              Df    AIC\n",
      "- BMIO         1 6703.3\n",
      "- SMOKING      2 6703.8\n",
      "<none>           6703.9\n",
      "- alcohol      2 6704.2\n",
      "- SEX          1 6710.3\n",
      "- DIABETES     1 6711.6\n",
      "- AAA          1 6724.1\n",
      "- age3_spline  2 6780.0\n",
      "\n",
      "Step:  AIC=6703.34\n",
      "Surv(TEVENT/12, EVENT) ~ SEX + age3_spline + alcohol + DIABETES + \n",
      "    SMOKING + AAA\n",
      "\n",
      "              Df    AIC\n",
      "<none>           6703.3\n",
      "- alcohol      2 6703.6\n",
      "- SMOKING      2 6703.6\n",
      "- DIABETES     1 6709.6\n",
      "- SEX          1 6709.8\n",
      "- AAA          1 6723.7\n",
      "- age3_spline  2 6783.9\n"
     ]
    }
   ],
   "source": [
    "# Backward selection (by AIC)\n",
    "full_mod_2 <- coxph(Surv(TEVENT/12,EVENT)~SEX+age3_spline + SBP + alcohol + CHOLO + BMIO + DIABETES + CARDIAC + SMOKING + AAA)\n",
    "backward_mod_2 <- stepAIC(full_mod_2,k=k10,scope=list(upper=~SEX+age3_spline + SBP + alcohol + CHOLO + BMIO + DIABETES + CARDIAC + SMOKING + AAA,lower=~1),direction=\"backward\",trace=TRUE)\n"
   ]
  },
  {
   "cell_type": "code",
   "execution_count": 24,
   "metadata": {},
   "outputs": [
    {
     "data": {
      "text/plain": [
       "Call:\n",
       "coxph(formula = Surv(TEVENT/12, EVENT) ~ age3_spline + AAA + \n",
       "    SEX + DIABETES)\n",
       "\n",
       "  n= 3803, number of events= 451 \n",
       "\n",
       "                        coef  exp(coef)   se(coef)      z Pr(>|z|)    \n",
       "age3_splinesmart  -0.0006377  0.9993625  0.0121099 -0.053 0.958005    \n",
       "age3_splinesmart'  0.0496738  1.0509282  0.0129216  3.844 0.000121 ***\n",
       "AAA1               0.6227670  1.8640789  0.1156473  5.385 7.24e-08 ***\n",
       "SEXMale            0.3682295  1.4451737  0.1233351  2.986 0.002830 ** \n",
       "DIABETES1          0.3347327  1.3975667  0.1062202  3.151 0.001625 ** \n",
       "---\n",
       "Signif. codes:  0 '***' 0.001 '**' 0.01 '*' 0.05 '.' 0.1 ' ' 1\n",
       "\n",
       "                  exp(coef) exp(-coef) lower .95 upper .95\n",
       "age3_splinesmart     0.9994     1.0006    0.9759     1.023\n",
       "age3_splinesmart'    1.0509     0.9515    1.0246     1.078\n",
       "AAA1                 1.8641     0.5365    1.4860     2.338\n",
       "SEXMale              1.4452     0.6920    1.1348     1.840\n",
       "DIABETES1            1.3976     0.7155    1.1349     1.721\n",
       "\n",
       "Concordance= 0.652  (se = 0.014 )\n",
       "Likelihood ratio test= 164.6  on 5 df,   p=<2e-16\n",
       "Wald test            = 177.8  on 5 df,   p=<2e-16\n",
       "Score (logrank) test = 193.1  on 5 df,   p=<2e-16\n"
      ]
     },
     "metadata": {},
     "output_type": "display_data"
    },
    {
     "data": {
      "text/plain": [
       "Call:\n",
       "coxph(formula = Surv(TEVENT/12, EVENT) ~ SEX + age3_spline + \n",
       "    alcohol + DIABETES + SMOKING + AAA)\n",
       "\n",
       "  n= 3803, number of events= 451 \n",
       "\n",
       "                       coef exp(coef)  se(coef)      z Pr(>|z|)    \n",
       "SEXMale            0.378591  1.460226  0.128945  2.936  0.00332 ** \n",
       "age3_splinesmart  -0.002059  0.997944  0.012107 -0.170  0.86499    \n",
       "age3_splinesmart'  0.051823  1.053190  0.013015  3.982 6.84e-05 ***\n",
       "alcoholFormer      0.164806  1.179164  0.145426  1.133  0.25710    \n",
       "alcoholNever       0.276156  1.318054  0.119090  2.319  0.02040 *  \n",
       "DIABETES1          0.328192  1.388455  0.106728  3.075  0.00210 ** \n",
       "SMOKINGFormer      0.038336  1.039081  0.199952  0.192  0.84796    \n",
       "SMOKINGNever      -0.292658  0.746277  0.233734 -1.252  0.21053    \n",
       "AAA1               0.586621  1.797904  0.116823  5.021 5.13e-07 ***\n",
       "---\n",
       "Signif. codes:  0 '***' 0.001 '**' 0.01 '*' 0.05 '.' 0.1 ' ' 1\n",
       "\n",
       "                  exp(coef) exp(-coef) lower .95 upper .95\n",
       "SEXMale              1.4602     0.6848    1.1341     1.880\n",
       "age3_splinesmart     0.9979     1.0021    0.9745     1.022\n",
       "age3_splinesmart'    1.0532     0.9495    1.0267     1.080\n",
       "alcoholFormer        1.1792     0.8481    0.8867     1.568\n",
       "alcoholNever         1.3181     0.7587    1.0437     1.665\n",
       "DIABETES1            1.3885     0.7202    1.1264     1.712\n",
       "SMOKINGFormer        1.0391     0.9624    0.7022     1.538\n",
       "SMOKINGNever         0.7463     1.3400    0.4720     1.180\n",
       "AAA1                 1.7979     0.5562    1.4300     2.261\n",
       "\n",
       "Concordance= 0.657  (se = 0.014 )\n",
       "Likelihood ratio test= 174.6  on 9 df,   p=<2e-16\n",
       "Wald test            = 187.2  on 9 df,   p=<2e-16\n",
       "Score (logrank) test = 202.4  on 9 df,   p=<2e-16\n"
      ]
     },
     "metadata": {},
     "output_type": "display_data"
    }
   ],
   "source": [
    "summary(forward_mod_2)\n",
    "summary(backward_mod_2)"
   ]
  },
  {
   "cell_type": "markdown",
   "metadata": {},
   "source": [
    "Remember the logistic model in practical 1 choose age, AAA and diabetes as significant predictors and we forced sex to be in the final model. Here, sex was chosen as a significant predictor in both the forward and backward selection approachs.  \n",
    "Backward selection also included alcohol and smoking as predictors in the final model. As disscussed in practical 1, forward and backward selection do not always chose the same final model and we need to be careful when building our model."
   ]
  },
  {
   "cell_type": "markdown",
   "metadata": {},
   "source": [
    "For the stepwise selection we have been using a p-value of 0.1 (equivalent to an AIC of 2.706) so not to be too stringent. However, if we change this to 0.05 we can end with a different model. Lets try this in backward selection...."
   ]
  },
  {
   "cell_type": "code",
   "execution_count": 22,
   "metadata": {},
   "outputs": [
    {
     "name": "stdout",
     "output_type": "stream",
     "text": [
      "Start:  AIC=6721.92\n",
      "Surv(TEVENT/12, EVENT) ~ SEX + age3_spline + SBP + alcohol + \n",
      "    CHOLO + BMIO + DIABETES + CARDIAC + SMOKING + AAA\n",
      "\n",
      "              Df    AIC\n",
      "- CHOLO        1 6718.3\n",
      "- alcohol      2 6719.5\n",
      "- SMOKING      2 6719.8\n",
      "- CARDIAC      1 6720.7\n",
      "- SBP          1 6720.9\n",
      "- BMIO         1 6720.9\n",
      "<none>           6721.9\n",
      "- SEX          1 6726.0\n",
      "- DIABETES     1 6727.3\n",
      "- AAA          1 6742.9\n",
      "- age3_spline  2 6781.2\n",
      "\n",
      "Step:  AIC=6718.3\n",
      "Surv(TEVENT/12, EVENT) ~ SEX + age3_spline + SBP + alcohol + \n",
      "    BMIO + DIABETES + CARDIAC + SMOKING + AAA\n",
      "\n",
      "              Df    AIC\n",
      "- alcohol      2 6715.9\n",
      "- SMOKING      2 6716.3\n",
      "- CARDIAC      1 6716.9\n",
      "- BMIO         1 6717.3\n",
      "- SBP          1 6717.4\n",
      "<none>           6718.3\n",
      "- SEX          1 6722.2\n",
      "- DIABETES     1 6723.5\n",
      "- AAA          1 6739.4\n",
      "- age3_spline  2 6777.4\n",
      "\n",
      "Step:  AIC=6715.94\n",
      "Surv(TEVENT/12, EVENT) ~ SEX + age3_spline + SBP + BMIO + DIABETES + \n",
      "    CARDIAC + SMOKING + AAA\n",
      "\n",
      "              Df    AIC\n",
      "- SMOKING      2 6712.8\n",
      "- CARDIAC      1 6714.8\n",
      "- BMIO         1 6714.8\n",
      "- SBP          1 6715.3\n",
      "<none>           6715.9\n",
      "- SEX          1 6717.7\n",
      "- DIABETES     1 6722.1\n",
      "- AAA          1 6737.8\n",
      "- age3_spline  2 6778.4\n",
      "\n",
      "Step:  AIC=6712.78\n",
      "Surv(TEVENT/12, EVENT) ~ SEX + age3_spline + SBP + BMIO + DIABETES + \n",
      "    CARDIAC + AAA\n",
      "\n",
      "              Df    AIC\n",
      "- CARDIAC      1 6711.1\n",
      "- BMIO         1 6711.9\n",
      "- SBP          1 6712.1\n",
      "<none>           6712.8\n",
      "- SEX          1 6717.4\n",
      "- DIABETES     1 6718.5\n",
      "- AAA          1 6737.2\n",
      "- age3_spline  2 6771.7\n",
      "\n",
      "Step:  AIC=6711.11\n",
      "Surv(TEVENT/12, EVENT) ~ SEX + age3_spline + SBP + BMIO + DIABETES + \n",
      "    AAA\n",
      "\n",
      "              Df    AIC\n",
      "- BMIO         1 6709.6\n",
      "- SBP          1 6709.7\n",
      "<none>           6711.1\n",
      "- DIABETES     1 6717.0\n",
      "- SEX          1 6717.0\n",
      "- AAA          1 6734.1\n",
      "- age3_spline  2 6770.3\n",
      "\n",
      "Step:  AIC=6709.65\n",
      "Surv(TEVENT/12, EVENT) ~ SEX + age3_spline + SBP + DIABETES + \n",
      "    AAA\n",
      "\n",
      "              Df    AIC\n",
      "- SBP          1 6708.2\n",
      "<none>           6709.6\n",
      "- DIABETES     1 6714.0\n",
      "- SEX          1 6715.7\n",
      "- AAA          1 6732.9\n",
      "- age3_spline  2 6772.7\n",
      "\n",
      "Step:  AIC=6708.18\n",
      "Surv(TEVENT/12, EVENT) ~ SEX + age3_spline + DIABETES + AAA\n",
      "\n",
      "              Df    AIC\n",
      "<none>           6708.2\n",
      "- DIABETES     1 6713.8\n",
      "- SEX          1 6713.9\n",
      "- AAA          1 6730.6\n",
      "- age3_spline  2 6787.0\n"
     ]
    }
   ],
   "source": [
    "k10 <- qchisq(0.05,1,lower.tail=FALSE)\n",
    "\n",
    "full_mod_2 <- coxph(Surv(TEVENT/12,EVENT)~SEX+age3_spline + SBP + alcohol + CHOLO + BMIO + DIABETES + CARDIAC + SMOKING + AAA)\n",
    "backward_mod_2a <- stepAIC(full_mod_2,k=k10,scope=list(upper=~SEX+age3_spline + SBP + alcohol + CHOLO + BMIO + DIABETES + CARDIAC + SMOKING + AAA,lower=~1),direction=\"backward\",trace=TRUE)\n"
   ]
  },
  {
   "cell_type": "markdown",
   "metadata": {},
   "source": [
    "Smoking and alcohol have not been included in this model. From the previous model we can see they are boarderline significant and so choosing a stringent p-value to build a model is often not the most appropriate as you can miss potentilly important predictors.  \n",
    "\n",
    "In this practical we have built a model solely based on statistical results. However, in practice it is advised that both statistical and clinical relevance should be used to build a model. It is advised to build a model using clinical input and include variables that are clinically important even if the predictor does not appear statistically significant in the model"
   ]
  },
  {
   "cell_type": "code",
   "execution_count": null,
   "metadata": {},
   "outputs": [],
   "source": []
  },
  {
   "cell_type": "code",
   "execution_count": null,
   "metadata": {},
   "outputs": [],
   "source": []
  }
 ],
 "metadata": {
  "kernelspec": {
   "display_name": "R",
   "language": "R",
   "name": "ir"
  },
  "language_info": {
   "codemirror_mode": "r",
   "file_extension": ".r",
   "mimetype": "text/x-r-source",
   "name": "R",
   "pygments_lexer": "r",
   "version": "3.6.0"
  }
 },
 "nbformat": 4,
 "nbformat_minor": 2
}
