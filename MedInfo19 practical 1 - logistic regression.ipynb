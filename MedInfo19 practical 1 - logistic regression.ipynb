{
 "cells": [
  {
   "cell_type": "markdown",
   "metadata": {},
   "source": [
    "# MedInfo 2019 Practical 1\n",
    "****\n",
    "In this practical session, we begin to explore some of the concepts covered in the lectures and give you the opportunity to run some code.\n",
    "\n",
    "Practical 1 focuses on building a logistic regression model and highlights some key steps and decisions that are needed when developing a logistic prediction model.\n",
    "\n",
    "We will begin by loading our data set and perform some integrity checks. Some exploratoty analysis will then be conducted to gain an understanding of the data. Once we are happy and familiar with the data we begin by showing you how to conduct univariate logistic regression models for categorical predictor variables. Following this we will explore inivariate regression with a continuous variable and how to decide if the association between the dependent and independent variable is linear or non-linear. Finally, we will build a multivariable prediction model.\n",
    "\n",
    "If you are versed in R and regression then once you load the data you can skip to part 4 (univatriate regression with continuous variables)."
   ]
  },
  {
   "cell_type": "markdown",
   "metadata": {},
   "source": [
    "## The data\n",
    "\n",
    "For todays practicals we will be using data from the Second Manifestations of ARTerial disease (SMART) study  \n",
    "Here is a [link](https://link.springer.com/article/10.1023/A:1007621514757) to more information about the study.\n",
    "\n",
    "| Variable | Description |\n",
    "| :--- | :--- |\n",
    "|TEVENT| Time of event (days) |\n",
    "|EVENT| Cardiovascular event (0=no, 1=yes) |\n",
    "|outcome| Cardiovascular event within 2 years of study entry (0=no, 1=yes) |\n",
    "|SEX| 1 = male, 2 = female|\n",
    "|AGE|Age (years)|\n",
    "|DIABETES| Ever diabetes (0=no, 1=yes) |\n",
    "|CEREBRAL| Ever cerebrovascular disease (0=no, 1=yes) |\n",
    "|CARDIAC| Ever cardiovascular disease (0=no, 1=yes) |\n",
    "|AAA| Ever abdominal aortic aneurysm (0=no, 1=yes) |\n",
    "|PERIPH| Ever periferal aortic aneurysm (0=no, 1=yes) |\n",
    "|STENOSIS| Ever periferal vascular disease (0=no, 1=yes) |\n",
    "|SYSTBP| Systolic blood pressure (automatic, mm Hg)|\n",
    "|DIASTBP| Diastolic blood pressure (automatic, mm Hg)|\n",
    "|SYSTH| Systolic blood pressure (by hand, mm Hg)|\n",
    "|DIASTH| Diastolic blood pressure (by hand, mm Hg)|\n",
    "|LENGTHO| Height (m)|\n",
    "|WEIGHTO| Weight (kg)|\n",
    "|BMIO| Body mass index ($kg/m^2$)|\n",
    "|CHOLO|Cholesterol level (mmol/L)|\n",
    "|albumin| Albumin in urine (1=no, 2=low, 3=high)\n",
    "|SMOKING| Smoking status (1=no, 2=Former, 3=current)\n",
    "|packsyrs| Packetyears smoked|\n",
    "|alcohol| Alcohol consumption (1=no, 2=Former, 3=current)|\n",
    "\n",
    "\n",
    "\n",
    "\n",
    "The data was made freely available by Ewout Steyerberg who used the SMART data in his book 'Clinical prediction models: A Practical Approach to Development, Validation and Updating'. The data set is available from http://http://www.clinicalpredictionmodels.org/ but has been formated to make them easier for you to use. "
   ]
  },
  {
   "cell_type": "markdown",
   "metadata": {},
   "source": [
    "## Lets begin"
   ]
  },
  {
   "cell_type": "markdown",
   "metadata": {},
   "source": [
    "First lets load the packages we will be using in the practical"
   ]
  },
  {
   "cell_type": "code",
   "execution_count": 1,
   "metadata": {},
   "outputs": [],
   "source": [
    "#install.packages(\"reshape\")"
   ]
  },
  {
   "cell_type": "code",
   "execution_count": 1,
   "metadata": {},
   "outputs": [
    {
     "name": "stderr",
     "output_type": "stream",
     "text": [
      "Registered S3 methods overwritten by 'ggplot2':\n",
      "  method         from \n",
      "  [.quosures     rlang\n",
      "  c.quosures     rlang\n",
      "  print.quosures rlang\n",
      "Warning message:\n",
      "\"package 'rms' was built under R version 3.6.1\"Loading required package: Hmisc\n",
      "Warning message:\n",
      "\"package 'Hmisc' was built under R version 3.6.1\"Loading required package: lattice\n",
      "Loading required package: survival\n",
      "Loading required package: Formula\n",
      "\n",
      "Attaching package: 'Hmisc'\n",
      "\n",
      "The following objects are masked from 'package:plyr':\n",
      "\n",
      "    is.discrete, summarize\n",
      "\n",
      "The following objects are masked from 'package:base':\n",
      "\n",
      "    format.pval, units\n",
      "\n",
      "Loading required package: SparseM\n",
      "\n",
      "Attaching package: 'SparseM'\n",
      "\n",
      "The following object is masked from 'package:base':\n",
      "\n",
      "    backsolve\n",
      "\n",
      "Warning message:\n",
      "\"package 'reshape' was built under R version 3.6.1\"\n",
      "Attaching package: 'reshape'\n",
      "\n",
      "The following objects are masked from 'package:plyr':\n",
      "\n",
      "    rename, round_any\n",
      "\n"
     ]
    }
   ],
   "source": [
    "library(ggplot2)\n",
    "library(plyr)\n",
    "library(rms)\n",
    "library(MASS)\n",
    "library(reshape)"
   ]
  },
  {
   "cell_type": "markdown",
   "metadata": {},
   "source": [
    "## Part 1 load and clean the data\n",
    "Load the data and perform some data checks"
   ]
  },
  {
   "cell_type": "code",
   "execution_count": 2,
   "metadata": {},
   "outputs": [
    {
     "data": {
      "text/html": [
       "'data.frame'"
      ],
      "text/latex": [
       "'data.frame'"
      ],
      "text/markdown": [
       "'data.frame'"
      ],
      "text/plain": [
       "[1] \"data.frame\""
      ]
     },
     "metadata": {},
     "output_type": "display_data"
    },
    {
     "data": {
      "text/html": [
       "<dl class=dl-horizontal>\n",
       "\t<dt>TEVENT</dt>\n",
       "\t\t<dd>'numeric'</dd>\n",
       "\t<dt>EVENT</dt>\n",
       "\t\t<dd>'integer'</dd>\n",
       "\t<dt>SEX</dt>\n",
       "\t\t<dd>'factor'</dd>\n",
       "\t<dt>AGE</dt>\n",
       "\t\t<dd>'integer'</dd>\n",
       "\t<dt>DIABETES</dt>\n",
       "\t\t<dd>'factor'</dd>\n",
       "\t<dt>CEREBRAL</dt>\n",
       "\t\t<dd>'factor'</dd>\n",
       "\t<dt>CARDIAC</dt>\n",
       "\t\t<dd>'factor'</dd>\n",
       "\t<dt>AAA</dt>\n",
       "\t\t<dd>'factor'</dd>\n",
       "\t<dt>PERIPH</dt>\n",
       "\t\t<dd>'factor'</dd>\n",
       "\t<dt>STENOSIS</dt>\n",
       "\t\t<dd>'factor'</dd>\n",
       "\t<dt>SYSTBP</dt>\n",
       "\t\t<dd>'integer'</dd>\n",
       "\t<dt>DIASTBP</dt>\n",
       "\t\t<dd>'integer'</dd>\n",
       "\t<dt>SYSTH</dt>\n",
       "\t\t<dd>'integer'</dd>\n",
       "\t<dt>DIASTH</dt>\n",
       "\t\t<dd>'integer'</dd>\n",
       "\t<dt>LENGTHO</dt>\n",
       "\t\t<dd>'numeric'</dd>\n",
       "\t<dt>WEIGHTO</dt>\n",
       "\t\t<dd>'integer'</dd>\n",
       "\t<dt>BMIO</dt>\n",
       "\t\t<dd>'numeric'</dd>\n",
       "\t<dt>CHOLO</dt>\n",
       "\t\t<dd>'numeric'</dd>\n",
       "\t<dt>albumin</dt>\n",
       "\t\t<dd>'integer'</dd>\n",
       "\t<dt>SMOKING</dt>\n",
       "\t\t<dd>'factor'</dd>\n",
       "\t<dt>packyrs</dt>\n",
       "\t\t<dd>'numeric'</dd>\n",
       "\t<dt>alcohol</dt>\n",
       "\t\t<dd>'factor'</dd>\n",
       "\t<dt>outcome</dt>\n",
       "\t\t<dd>'integer'</dd>\n",
       "</dl>\n"
      ],
      "text/latex": [
       "\\begin{description*}\n",
       "\\item[TEVENT] 'numeric'\n",
       "\\item[EVENT] 'integer'\n",
       "\\item[SEX] 'factor'\n",
       "\\item[AGE] 'integer'\n",
       "\\item[DIABETES] 'factor'\n",
       "\\item[CEREBRAL] 'factor'\n",
       "\\item[CARDIAC] 'factor'\n",
       "\\item[AAA] 'factor'\n",
       "\\item[PERIPH] 'factor'\n",
       "\\item[STENOSIS] 'factor'\n",
       "\\item[SYSTBP] 'integer'\n",
       "\\item[DIASTBP] 'integer'\n",
       "\\item[SYSTH] 'integer'\n",
       "\\item[DIASTH] 'integer'\n",
       "\\item[LENGTHO] 'numeric'\n",
       "\\item[WEIGHTO] 'integer'\n",
       "\\item[BMIO] 'numeric'\n",
       "\\item[CHOLO] 'numeric'\n",
       "\\item[albumin] 'integer'\n",
       "\\item[SMOKING] 'factor'\n",
       "\\item[packyrs] 'numeric'\n",
       "\\item[alcohol] 'factor'\n",
       "\\item[outcome] 'integer'\n",
       "\\end{description*}\n"
      ],
      "text/markdown": [
       "TEVENT\n",
       ":   'numeric'EVENT\n",
       ":   'integer'SEX\n",
       ":   'factor'AGE\n",
       ":   'integer'DIABETES\n",
       ":   'factor'CEREBRAL\n",
       ":   'factor'CARDIAC\n",
       ":   'factor'AAA\n",
       ":   'factor'PERIPH\n",
       ":   'factor'STENOSIS\n",
       ":   'factor'SYSTBP\n",
       ":   'integer'DIASTBP\n",
       ":   'integer'SYSTH\n",
       ":   'integer'DIASTH\n",
       ":   'integer'LENGTHO\n",
       ":   'numeric'WEIGHTO\n",
       ":   'integer'BMIO\n",
       ":   'numeric'CHOLO\n",
       ":   'numeric'albumin\n",
       ":   'integer'SMOKING\n",
       ":   'factor'packyrs\n",
       ":   'numeric'alcohol\n",
       ":   'factor'outcome\n",
       ":   'integer'\n",
       "\n"
      ],
      "text/plain": [
       "   TEVENT     EVENT       SEX       AGE  DIABETES  CEREBRAL   CARDIAC       AAA \n",
       "\"numeric\" \"integer\"  \"factor\" \"integer\"  \"factor\"  \"factor\"  \"factor\"  \"factor\" \n",
       "   PERIPH  STENOSIS    SYSTBP   DIASTBP     SYSTH    DIASTH   LENGTHO   WEIGHTO \n",
       " \"factor\"  \"factor\" \"integer\" \"integer\" \"integer\" \"integer\" \"numeric\" \"integer\" \n",
       "     BMIO     CHOLO   albumin   SMOKING   packyrs   alcohol   outcome \n",
       "\"numeric\" \"numeric\" \"integer\"  \"factor\" \"numeric\"  \"factor\" \"integer\" "
      ]
     },
     "metadata": {},
     "output_type": "display_data"
    }
   ],
   "source": [
    "smart <- readRDS(file= \"SMARTs_medinfo_P1.rds\")\n",
    "class(smart) # This tells us the class/data type of the object smart (hopefully returning data.frame)\n",
    "dim(smart)\n",
    "sapply(smart,class) # This tells us the class of each variable in the smart data, eg, categorical='factor' or continuous='numeric'"
   ]
  },
  {
   "cell_type": "markdown",
   "metadata": {},
   "source": [
    "Albumin is not a factor variable so we need to change and label"
   ]
  },
  {
   "cell_type": "code",
   "execution_count": 3,
   "metadata": {},
   "outputs": [
    {
     "data": {
      "text/html": [
       "<ol class=list-inline>\n",
       "\t<li>'1'</li>\n",
       "\t<li>'2'</li>\n",
       "\t<li>'3'</li>\n",
       "</ol>\n"
      ],
      "text/latex": [
       "\\begin{enumerate*}\n",
       "\\item '1'\n",
       "\\item '2'\n",
       "\\item '3'\n",
       "\\end{enumerate*}\n"
      ],
      "text/markdown": [
       "1. '1'\n",
       "2. '2'\n",
       "3. '3'\n",
       "\n",
       "\n"
      ],
      "text/plain": [
       "[1] \"1\" \"2\" \"3\""
      ]
     },
     "metadata": {},
     "output_type": "display_data"
    },
    {
     "data": {
      "text/html": [
       "<ol class=list-inline>\n",
       "\t<li>'No'</li>\n",
       "\t<li>'Low'</li>\n",
       "\t<li>'High'</li>\n",
       "</ol>\n"
      ],
      "text/latex": [
       "\\begin{enumerate*}\n",
       "\\item 'No'\n",
       "\\item 'Low'\n",
       "\\item 'High'\n",
       "\\end{enumerate*}\n"
      ],
      "text/markdown": [
       "1. 'No'\n",
       "2. 'Low'\n",
       "3. 'High'\n",
       "\n",
       "\n"
      ],
      "text/plain": [
       "[1] \"No\"   \"Low\"  \"High\""
      ]
     },
     "metadata": {},
     "output_type": "display_data"
    }
   ],
   "source": [
    "# Albumin\n",
    "smart$albumin <- as.factor(smart$albumin)\n",
    "levels(smart$albumin)\n",
    "smart$albumin <- revalue(smart$albumin, c(\"1\"=\"No\", \"2\"=\"Low\", \"3\"=\"High\"))\n",
    "levels(smart$albumin)"
   ]
  },
  {
   "cell_type": "markdown",
   "metadata": {},
   "source": [
    "There are 2 variables for systolic blood pressure (SBP) because it can either done by hand or automatic. If we check, we can see there is alot of missing data in both of the SBP variables."
   ]
  },
  {
   "cell_type": "code",
   "execution_count": 4,
   "metadata": {},
   "outputs": [
    {
     "data": {
      "text/plain": [
       "\n",
       "FALSE  TRUE \n",
       " 1223  2650 "
      ]
     },
     "metadata": {},
     "output_type": "display_data"
    },
    {
     "data": {
      "text/plain": [
       "\n",
       "FALSE  TRUE \n",
       " 1498  2375 "
      ]
     },
     "metadata": {},
     "output_type": "display_data"
    }
   ],
   "source": [
    "table(is.na(smart$SYSTBP)==FALSE)\n",
    "table(is.na(smart$SYSTH)==FALSE)"
   ]
  },
  {
   "cell_type": "markdown",
   "metadata": {},
   "source": [
    "However, if we look at how many individuals have SBP recorded by atleast one of the methods we find all but 3 have atleast one SBP measurement."
   ]
  },
  {
   "cell_type": "code",
   "execution_count": 5,
   "metadata": {},
   "outputs": [
    {
     "data": {
      "text/plain": [
       "\n",
       "FALSE  TRUE \n",
       "    3  3870 "
      ]
     },
     "metadata": {},
     "output_type": "display_data"
    }
   ],
   "source": [
    "table(is.na(smart$SYSTH)==FALSE | is.na(smart$SYSTBP)==FALSE)"
   ]
  },
  {
   "cell_type": "markdown",
   "metadata": {},
   "source": [
    " We can combine both of these variables to create a new SBP variable, such that, the variable will use the automatic SBP reading for each individual unless it is missing and then it will replace the missing indicator with the SBP recorded by hand."
   ]
  },
  {
   "cell_type": "code",
   "execution_count": 6,
   "metadata": {},
   "outputs": [
    {
     "data": {
      "text/plain": [
       "\n",
       "FALSE  TRUE \n",
       " 3870     3 "
      ]
     },
     "metadata": {},
     "output_type": "display_data"
    }
   ],
   "source": [
    "smart$SBP <- ifelse(is.na(smart$SYSTBP)==FALSE, smart$SYSTBP, smart$SYSTH)\n",
    "table(is.na(smart$SBP))"
   ]
  },
  {
   "cell_type": "markdown",
   "metadata": {},
   "source": [
    "## Part 2 Exploratory analysis\n",
    "Now the data has been 'cleaned' we can begin to provide overviews of the data see the number of events/outcomes in our data.  "
   ]
  },
  {
   "cell_type": "code",
   "execution_count": 7,
   "metadata": {},
   "outputs": [
    {
     "data": {
      "text/html": [
       "<ol class=list-inline>\n",
       "\t<li>3873</li>\n",
       "\t<li>24</li>\n",
       "</ol>\n"
      ],
      "text/latex": [
       "\\begin{enumerate*}\n",
       "\\item 3873\n",
       "\\item 24\n",
       "\\end{enumerate*}\n"
      ],
      "text/markdown": [
       "1. 3873\n",
       "2. 24\n",
       "\n",
       "\n"
      ],
      "text/plain": [
       "[1] 3873   24"
      ]
     },
     "metadata": {},
     "output_type": "display_data"
    },
    {
     "data": {
      "text/plain": [
       "     TEVENT           EVENT            SEX            AGE        DIABETES   \n",
       " Min.   :   0.1   Min.   :0.0000   Female: 976   Min.   :19.00   0   :2987  \n",
       " 1st Qu.: 555.0   1st Qu.:0.0000   Male  :2897   1st Qu.:52.00   1   : 846  \n",
       " Median :1213.0   Median :0.0000                 Median :60.00   NA's:  40  \n",
       " Mean   :1370.3   Mean   :0.1188                 Mean   :59.56              \n",
       " 3rd Qu.:2165.0   3rd Qu.:0.0000                 3rd Qu.:68.00              \n",
       " Max.   :3466.0   Max.   :1.0000                 Max.   :82.00              \n",
       "                                                                            \n",
       " CEREBRAL CARDIAC  AAA      PERIPH   STENOSIS        SYSTBP     \n",
       " 0:2726   0:1713   0:3457   0:2933   0   :3058   Min.   : 96.0  \n",
       " 1:1147   1:2160   1: 416   1: 940   1   : 722   1st Qu.:127.0  \n",
       "                                     NA's:  93   Median :139.0  \n",
       "                                                 Mean   :141.3  \n",
       "                                                 3rd Qu.:154.0  \n",
       "                                                 Max.   :216.0  \n",
       "                                                 NA's   :1223   \n",
       "    DIASTBP          SYSTH           DIASTH          LENGTHO    \n",
       " Min.   : 46.0   Min.   : 79.0   Min.   : 45.00   Min.   :1.42  \n",
       " 1st Qu.: 73.0   1st Qu.:126.0   1st Qu.: 75.00   1st Qu.:1.68  \n",
       " Median : 79.0   Median :140.0   Median : 82.00   Median :1.75  \n",
       " Mean   : 79.7   Mean   :142.2   Mean   : 82.44   Mean   :1.74  \n",
       " 3rd Qu.: 86.0   3rd Qu.:156.0   3rd Qu.: 90.00   3rd Qu.:1.80  \n",
       " Max.   :127.0   Max.   :244.0   Max.   :136.00   Max.   :2.05  \n",
       " NA's   :1221    NA's   :1498    NA's   :1499     NA's   :1     \n",
       "    WEIGHTO            BMIO           CHOLO        albumin        SMOKING    \n",
       " Min.   : 37.00   Min.   :15.43   Min.   : 2.200   No  :2897   Current: 444  \n",
       " 1st Qu.: 72.00   1st Qu.:24.11   1st Qu.: 4.400   Low : 655   Former :2711  \n",
       " Median : 80.00   Median :26.30   Median : 5.100   High: 114   Never  : 693  \n",
       " Mean   : 81.01   Mean   :26.70   Mean   : 5.196   NA's: 207   NA's   :  25  \n",
       " 3rd Qu.: 89.00   3rd Qu.:28.73   3rd Qu.: 5.900                             \n",
       " Max.   :143.00   Max.   :48.85   Max.   :20.900                             \n",
       " NA's   :2        NA's   :3       NA's   :18                                 \n",
       "    packyrs          alcohol        outcome             SBP     \n",
       " Min.   :  0.00   Current:2689   Min.   :0.00000   Min.   : 79  \n",
       " 1st Qu.:  5.90   Former : 408   1st Qu.:0.00000   1st Qu.:127  \n",
       " Median : 19.50   Never  : 751   Median :0.00000   Median :140  \n",
       " Mean   : 22.62   NA's   :  25   Mean   :0.05474   Mean   :142  \n",
       " 3rd Qu.: 34.20                  3rd Qu.:0.00000   3rd Qu.:154  \n",
       " Max.   :120.00                  Max.   :1.00000   Max.   :242  \n",
       " NA's   :21                                        NA's   :3    "
      ]
     },
     "metadata": {},
     "output_type": "display_data"
    },
    {
     "data": {
      "text/html": [
       "<dl class=dl-horizontal>\n",
       "\t<dt>TEVENT</dt>\n",
       "\t\t<dd>'numeric'</dd>\n",
       "\t<dt>EVENT</dt>\n",
       "\t\t<dd>'integer'</dd>\n",
       "\t<dt>SEX</dt>\n",
       "\t\t<dd>'factor'</dd>\n",
       "\t<dt>AGE</dt>\n",
       "\t\t<dd>'integer'</dd>\n",
       "\t<dt>DIABETES</dt>\n",
       "\t\t<dd>'factor'</dd>\n",
       "\t<dt>CEREBRAL</dt>\n",
       "\t\t<dd>'factor'</dd>\n",
       "\t<dt>CARDIAC</dt>\n",
       "\t\t<dd>'factor'</dd>\n",
       "\t<dt>AAA</dt>\n",
       "\t\t<dd>'factor'</dd>\n",
       "\t<dt>PERIPH</dt>\n",
       "\t\t<dd>'factor'</dd>\n",
       "\t<dt>STENOSIS</dt>\n",
       "\t\t<dd>'factor'</dd>\n",
       "\t<dt>SYSTBP</dt>\n",
       "\t\t<dd>'integer'</dd>\n",
       "\t<dt>DIASTBP</dt>\n",
       "\t\t<dd>'integer'</dd>\n",
       "\t<dt>SYSTH</dt>\n",
       "\t\t<dd>'integer'</dd>\n",
       "\t<dt>DIASTH</dt>\n",
       "\t\t<dd>'integer'</dd>\n",
       "\t<dt>LENGTHO</dt>\n",
       "\t\t<dd>'numeric'</dd>\n",
       "\t<dt>WEIGHTO</dt>\n",
       "\t\t<dd>'integer'</dd>\n",
       "\t<dt>BMIO</dt>\n",
       "\t\t<dd>'numeric'</dd>\n",
       "\t<dt>CHOLO</dt>\n",
       "\t\t<dd>'numeric'</dd>\n",
       "\t<dt>albumin</dt>\n",
       "\t\t<dd>'factor'</dd>\n",
       "\t<dt>SMOKING</dt>\n",
       "\t\t<dd>'factor'</dd>\n",
       "\t<dt>packyrs</dt>\n",
       "\t\t<dd>'numeric'</dd>\n",
       "\t<dt>alcohol</dt>\n",
       "\t\t<dd>'factor'</dd>\n",
       "\t<dt>outcome</dt>\n",
       "\t\t<dd>'integer'</dd>\n",
       "\t<dt>SBP</dt>\n",
       "\t\t<dd>'integer'</dd>\n",
       "</dl>\n"
      ],
      "text/latex": [
       "\\begin{description*}\n",
       "\\item[TEVENT] 'numeric'\n",
       "\\item[EVENT] 'integer'\n",
       "\\item[SEX] 'factor'\n",
       "\\item[AGE] 'integer'\n",
       "\\item[DIABETES] 'factor'\n",
       "\\item[CEREBRAL] 'factor'\n",
       "\\item[CARDIAC] 'factor'\n",
       "\\item[AAA] 'factor'\n",
       "\\item[PERIPH] 'factor'\n",
       "\\item[STENOSIS] 'factor'\n",
       "\\item[SYSTBP] 'integer'\n",
       "\\item[DIASTBP] 'integer'\n",
       "\\item[SYSTH] 'integer'\n",
       "\\item[DIASTH] 'integer'\n",
       "\\item[LENGTHO] 'numeric'\n",
       "\\item[WEIGHTO] 'integer'\n",
       "\\item[BMIO] 'numeric'\n",
       "\\item[CHOLO] 'numeric'\n",
       "\\item[albumin] 'factor'\n",
       "\\item[SMOKING] 'factor'\n",
       "\\item[packyrs] 'numeric'\n",
       "\\item[alcohol] 'factor'\n",
       "\\item[outcome] 'integer'\n",
       "\\item[SBP] 'integer'\n",
       "\\end{description*}\n"
      ],
      "text/markdown": [
       "TEVENT\n",
       ":   'numeric'EVENT\n",
       ":   'integer'SEX\n",
       ":   'factor'AGE\n",
       ":   'integer'DIABETES\n",
       ":   'factor'CEREBRAL\n",
       ":   'factor'CARDIAC\n",
       ":   'factor'AAA\n",
       ":   'factor'PERIPH\n",
       ":   'factor'STENOSIS\n",
       ":   'factor'SYSTBP\n",
       ":   'integer'DIASTBP\n",
       ":   'integer'SYSTH\n",
       ":   'integer'DIASTH\n",
       ":   'integer'LENGTHO\n",
       ":   'numeric'WEIGHTO\n",
       ":   'integer'BMIO\n",
       ":   'numeric'CHOLO\n",
       ":   'numeric'albumin\n",
       ":   'factor'SMOKING\n",
       ":   'factor'packyrs\n",
       ":   'numeric'alcohol\n",
       ":   'factor'outcome\n",
       ":   'integer'SBP\n",
       ":   'integer'\n",
       "\n"
      ],
      "text/plain": [
       "   TEVENT     EVENT       SEX       AGE  DIABETES  CEREBRAL   CARDIAC       AAA \n",
       "\"numeric\" \"integer\"  \"factor\" \"integer\"  \"factor\"  \"factor\"  \"factor\"  \"factor\" \n",
       "   PERIPH  STENOSIS    SYSTBP   DIASTBP     SYSTH    DIASTH   LENGTHO   WEIGHTO \n",
       " \"factor\"  \"factor\" \"integer\" \"integer\" \"integer\" \"integer\" \"numeric\" \"integer\" \n",
       "     BMIO     CHOLO   albumin   SMOKING   packyrs   alcohol   outcome       SBP \n",
       "\"numeric\" \"numeric\"  \"factor\"  \"factor\" \"numeric\"  \"factor\" \"integer\" \"integer\" "
      ]
     },
     "metadata": {},
     "output_type": "display_data"
    },
    {
     "data": {
      "text/plain": [
       "smart \n",
       "\n",
       " 24  Variables      3873  Observations\n",
       "--------------------------------------------------------------------------------\n",
       "TEVENT \n",
       "       n  missing distinct     Info     Mean      Gmd      .05      .10 \n",
       "    3873        0     1934        1     1370     1078     98.6    197.0 \n",
       "     .25      .50      .75      .90      .95 \n",
       "   555.0   1213.0   2165.0   2762.4   3017.4 \n",
       "\n",
       "lowest :    0.1    1.0    2.0    3.0    4.0, highest: 3451.0 3452.0 3463.0 3465.0 3466.0\n",
       "--------------------------------------------------------------------------------\n",
       "EVENT \n",
       "       n  missing distinct     Info      Sum     Mean      Gmd \n",
       "    3873        0        2    0.314      460   0.1188   0.2094 \n",
       "\n",
       "--------------------------------------------------------------------------------\n",
       "SEX \n",
       "       n  missing distinct \n",
       "    3873        0        2 \n",
       "                        \n",
       "Value      Female   Male\n",
       "Frequency     976   2897\n",
       "Proportion  0.252  0.748\n",
       "--------------------------------------------------------------------------------\n",
       "AGE \n",
       "       n  missing distinct     Info     Mean      Gmd      .05      .10 \n",
       "    3873        0       62    0.999    59.56    11.94       41       46 \n",
       "     .25      .50      .75      .90      .95 \n",
       "      52       60       68       73       76 \n",
       "\n",
       "lowest : 19 20 23 24 25, highest: 78 79 80 81 82\n",
       "--------------------------------------------------------------------------------\n",
       "DIABETES \n",
       "       n  missing distinct \n",
       "    3833       40        2 \n",
       "                      \n",
       "Value          0     1\n",
       "Frequency   2987   846\n",
       "Proportion 0.779 0.221\n",
       "--------------------------------------------------------------------------------\n",
       "CEREBRAL \n",
       "       n  missing distinct \n",
       "    3873        0        2 \n",
       "                      \n",
       "Value          0     1\n",
       "Frequency   2726  1147\n",
       "Proportion 0.704 0.296\n",
       "--------------------------------------------------------------------------------\n",
       "CARDIAC \n",
       "       n  missing distinct \n",
       "    3873        0        2 \n",
       "                      \n",
       "Value          0     1\n",
       "Frequency   1713  2160\n",
       "Proportion 0.442 0.558\n",
       "--------------------------------------------------------------------------------\n",
       "AAA \n",
       "       n  missing distinct \n",
       "    3873        0        2 \n",
       "                      \n",
       "Value          0     1\n",
       "Frequency   3457   416\n",
       "Proportion 0.893 0.107\n",
       "--------------------------------------------------------------------------------\n",
       "PERIPH \n",
       "       n  missing distinct \n",
       "    3873        0        2 \n",
       "                      \n",
       "Value          0     1\n",
       "Frequency   2933   940\n",
       "Proportion 0.757 0.243\n",
       "--------------------------------------------------------------------------------\n",
       "STENOSIS \n",
       "       n  missing distinct \n",
       "    3780       93        2 \n",
       "                      \n",
       "Value          0     1\n",
       "Frequency   3058   722\n",
       "Proportion 0.809 0.191\n",
       "--------------------------------------------------------------------------------\n",
       "SYSTBP \n",
       "       n  missing distinct     Info     Mean      Gmd      .05      .10 \n",
       "    2650     1223      114        1    141.3    22.41      112      117 \n",
       "     .25      .50      .75      .90      .95 \n",
       "     127      139      154      169      178 \n",
       "\n",
       "lowest :  96  97  98  99 100, highest: 206 209 211 212 216\n",
       "--------------------------------------------------------------------------------\n",
       "DIASTBP \n",
       "       n  missing distinct     Info     Mean      Gmd      .05      .10 \n",
       "    2652     1221       70    0.999     79.7    11.03       65       68 \n",
       "     .25      .50      .75      .90      .95 \n",
       "      73       79       86       93       97 \n",
       "\n",
       "lowest :  46  48  52  53  54, highest: 117 118 120 124 127\n",
       "--------------------------------------------------------------------------------\n",
       "SYSTH \n",
       "       n  missing distinct     Info     Mean      Gmd      .05      .10 \n",
       "    2375     1498      132        1    142.2    24.91    110.0    116.0 \n",
       "     .25      .50      .75      .90      .95 \n",
       "   126.0    140.0    156.0    172.0    182.3 \n",
       "\n",
       "lowest :  79  88  91  93  94, highest: 222 223 228 242 244\n",
       "--------------------------------------------------------------------------------\n",
       "DIASTH \n",
       "       n  missing distinct     Info     Mean      Gmd      .05      .10 \n",
       "    2374     1499       77    0.999    82.44    13.22       64       68 \n",
       "     .25      .50      .75      .90      .95 \n",
       "      75       82       90       98      103 \n",
       "\n",
       "lowest :  45  49  50  52  53, highest: 123 125 126 130 136\n",
       "--------------------------------------------------------------------------------\n",
       "LENGTHO \n",
       "       n  missing distinct     Info     Mean      Gmd      .05      .10 \n",
       "    3872        1       56    0.999     1.74  0.09957     1.59     1.62 \n",
       "     .25      .50      .75      .90      .95 \n",
       "    1.68     1.75     1.80     1.85     1.88 \n",
       "\n",
       "lowest : 1.42 1.43 1.46 1.48 1.49, highest: 1.96 1.97 1.98 1.99 2.05\n",
       "--------------------------------------------------------------------------------\n",
       "WEIGHTO \n",
       "       n  missing distinct     Info     Mean      Gmd      .05      .10 \n",
       "    3871        2       92    0.999    81.01     15.5       59       64 \n",
       "     .25      .50      .75      .90      .95 \n",
       "      72       80       89       99      104 \n",
       "\n",
       "lowest :  37  42  44  45  46, highest: 131 133 134 140 143\n",
       "--------------------------------------------------------------------------------\n",
       "BMIO \n",
       "       n  missing distinct     Info     Mean      Gmd      .05      .10 \n",
       "    3870        3     1034        1     26.7      4.3    20.96    22.16 \n",
       "     .25      .50      .75      .90      .95 \n",
       "   24.11    26.30    28.73    31.86    33.90 \n",
       "\n",
       "lowest : 15.43 15.78 16.05 16.89 17.10, highest: 43.26 43.27 43.76 48.34 48.85\n",
       "--------------------------------------------------------------------------------\n",
       "CHOLO \n",
       "       n  missing distinct     Info     Mean      Gmd      .05      .10 \n",
       "    3855       18       77    0.999    5.196    1.298      3.5      3.8 \n",
       "     .25      .50      .75      .90      .95 \n",
       "     4.4      5.1      5.9      6.7      7.2 \n",
       "\n",
       "lowest :  2.2  2.3  2.4  2.5  2.6, highest: 10.4 10.5 10.8 13.6 20.9\n",
       "--------------------------------------------------------------------------------\n",
       "albumin \n",
       "       n  missing distinct \n",
       "    3666      207        3 \n",
       "                            \n",
       "Value         No   Low  High\n",
       "Frequency   2897   655   114\n",
       "Proportion 0.790 0.179 0.031\n",
       "--------------------------------------------------------------------------------\n",
       "SMOKING \n",
       "       n  missing distinct \n",
       "    3848       25        3 \n",
       "                                  \n",
       "Value      Current  Former   Never\n",
       "Frequency      444    2711     693\n",
       "Proportion   0.115   0.705   0.180\n",
       "--------------------------------------------------------------------------------\n",
       "packyrs \n",
       "       n  missing distinct     Info     Mean      Gmd      .05      .10 \n",
       "    3852       21      263    0.994    22.62    22.26      0.0      0.0 \n",
       "     .25      .50      .75      .90      .95 \n",
       "     5.9     19.5     34.2     50.4     62.0 \n",
       "\n",
       "lowest :   0.0   0.3   0.6   0.7   0.8, highest: 100.0 102.0 104.0 110.0 120.0\n",
       "--------------------------------------------------------------------------------\n",
       "alcohol \n",
       "       n  missing distinct \n",
       "    3848       25        3 \n",
       "                                  \n",
       "Value      Current  Former   Never\n",
       "Frequency     2689     408     751\n",
       "Proportion   0.699   0.106   0.195\n",
       "--------------------------------------------------------------------------------\n",
       "outcome \n",
       "       n  missing distinct     Info      Sum     Mean      Gmd \n",
       "    3873        0        2    0.155      212  0.05474   0.1035 \n",
       "\n",
       "--------------------------------------------------------------------------------\n",
       "SBP \n",
       "       n  missing distinct     Info     Mean      Gmd      .05      .10 \n",
       "    3870        3      125        1      142    23.06      112      117 \n",
       "     .25      .50      .75      .90      .95 \n",
       "     127      140      154      170      180 \n",
       "\n",
       "lowest :  79  94  95  96  97, highest: 216 218 222 223 242\n",
       "--------------------------------------------------------------------------------"
      ]
     },
     "metadata": {},
     "output_type": "display_data"
    },
    {
     "data": {
      "text/plain": [
       "outcome\n",
       "   0    1 \n",
       "3661  212 "
      ]
     },
     "metadata": {},
     "output_type": "display_data"
    },
    {
     "data": {
      "text/plain": [
       "outcome\n",
       " 0  1 \n",
       "95  5 "
      ]
     },
     "metadata": {},
     "output_type": "display_data"
    }
   ],
   "source": [
    "# Overview of the data\n",
    "attach(smart)\n",
    "dim(smart)\n",
    "summary(smart)\n",
    "sapply(smart,class)\n",
    "describe(smart)\t\n",
    "\n",
    "# Summarise outcome\n",
    "table(outcome)\n",
    "round(prop.table(table(outcome))*100,0)"
   ]
  },
  {
   "cell_type": "markdown",
   "metadata": {},
   "source": [
    "We see that 212 (5%) individuals have the outcome of interest.  \n",
    "It can be useful to also summarise each variable by the outcome"
   ]
  },
  {
   "cell_type": "code",
   "execution_count": 8,
   "metadata": {},
   "outputs": [
    {
     "data": {
      "text/plain": [
       "        outcome\n",
       "SEX         0    1\n",
       "  Female  933   43\n",
       "  Male   2728  169"
      ]
     },
     "metadata": {},
     "output_type": "display_data"
    },
    {
     "data": {
      "text/plain": [
       "        outcome\n",
       "SEX       0  1\n",
       "  Female 25 20\n",
       "  Male   75 80"
      ]
     },
     "metadata": {},
     "output_type": "display_data"
    },
    {
     "data": {
      "text/plain": [
       "       SEX\n",
       "outcome Female Male\n",
       "      0     96   94\n",
       "      1      4    6"
      ]
     },
     "metadata": {},
     "output_type": "display_data"
    },
    {
     "data": {
      "text/plain": [
       "         outcome\n",
       "SMOKING      0    1\n",
       "  Current  423   21\n",
       "  Former  2562  149\n",
       "  Never    654   39"
      ]
     },
     "metadata": {},
     "output_type": "display_data"
    },
    {
     "data": {
      "text/plain": [
       "         outcome\n",
       "SMOKING    0  1\n",
       "  Current 12 10\n",
       "  Former  70 71\n",
       "  Never   18 19"
      ]
     },
     "metadata": {},
     "output_type": "display_data"
    },
    {
     "data": {
      "text/plain": [
       "       SMOKING\n",
       "outcome Current Former Never\n",
       "      0      95     95    94\n",
       "      1       5      5     6"
      ]
     },
     "metadata": {},
     "output_type": "display_data"
    }
   ],
   "source": [
    "# Summarise categorical variables by outcome\n",
    "table(SEX,outcome) # Produces a table of counts\n",
    "round(prop.table(table(SEX,outcome),2)*100,0) # Produces a table of percentages\n",
    "round(prop.table(table(outcome,SEX),2)*100,0) # Produces a table of percentages\n",
    "\n",
    "table(SMOKING,outcome) \n",
    "round(prop.table(table(SMOKING,outcome),2)*100,0)\n",
    "round(prop.table(table(outcome,SMOKING),2)*100,0)"
   ]
  },
  {
   "cell_type": "code",
   "execution_count": 9,
   "metadata": {},
   "outputs": [
    {
     "name": "stderr",
     "output_type": "stream",
     "text": [
      "`stat_bin()` using `bins = 30`. Pick better value with `binwidth`.\n",
      "`stat_bin()` using `bins = 30`. Pick better value with `binwidth`.\n"
     ]
    },
    {
     "data": {
      "image/png": "[encoded data removed]",
      "text/plain": [
       "plot without title"
      ]
     },
     "metadata": {},
     "output_type": "display_data"
    },
    {
     "data": {
      "image/png": "[encoded data removed]",
      "text/plain": [
       "plot without title"
      ]
     },
     "metadata": {},
     "output_type": "display_data"
    },
    {
     "data": {
      "image/png": "[encoded data removed]",
      "text/plain": [
       "plot without title"
      ]
     },
     "metadata": {},
     "output_type": "display_data"
    }
   ],
   "source": [
    "# Look at distributions of continuous variables\n",
    "ggplot(smart,aes(x=AGE))+geom_histogram()+facet_grid(~outcome)+theme_light()+ labs(title = \"Histogram of age split by outcome\")\n",
    "ggplot(smart, aes(AGE, fill = outcome)) + geom_histogram()\n",
    "ggplot(smart, aes(AGE, fill = as.factor(outcome))) + geom_density(alpha = 0.2)\n"
   ]
  },
  {
   "cell_type": "markdown",
   "metadata": {},
   "source": [
    "## Part 3 Univariate logistic regression with categorical variables\n",
    "Lets start by producing a univariate logistic model with gender as the independant variable."
   ]
  },
  {
   "cell_type": "code",
   "execution_count": 10,
   "metadata": {},
   "outputs": [
    {
     "data": {
      "text/plain": [
       "\n",
       "Call:\n",
       "glm(formula = outcome ~ SEX2, family = \"binomial\")\n",
       "\n",
       "Deviance Residuals: \n",
       "    Min       1Q   Median       3Q      Max  \n",
       "-0.3467  -0.3467  -0.3467  -0.3002   2.4989  \n",
       "\n",
       "Coefficients:\n",
       "            Estimate Std. Error z value Pr(>|z|)    \n",
       "(Intercept) -2.78143    0.07927 -35.088   <2e-16 ***\n",
       "SEX2Female  -0.29578    0.17494  -1.691   0.0909 .  \n",
       "---\n",
       "Signif. codes:  0 '***' 0.001 '**' 0.01 '*' 0.05 '.' 0.1 ' ' 1\n",
       "\n",
       "(Dispersion parameter for binomial family taken to be 1)\n",
       "\n",
       "    Null deviance: 1644  on 3872  degrees of freedom\n",
       "Residual deviance: 1641  on 3871  degrees of freedom\n",
       "AIC: 1645\n",
       "\n",
       "Number of Fisher Scoring iterations: 5\n"
      ]
     },
     "metadata": {},
     "output_type": "display_data"
    },
    {
     "data": {
      "text/html": [
       "<table>\n",
       "<thead><tr><th></th><th scope=col>beta</th><th scope=col>2.5 %</th><th scope=col>97.5 %</th></tr></thead>\n",
       "<tbody>\n",
       "\t<tr><th scope=row>(Intercept)</th><td>0.062</td><td>0.053</td><td>0.072</td></tr>\n",
       "\t<tr><th scope=row>SEX2Female</th><td>0.744</td><td>0.528</td><td>1.048</td></tr>\n",
       "</tbody>\n",
       "</table>\n"
      ],
      "text/latex": [
       "\\begin{tabular}{r|lll}\n",
       "  & beta & 2.5 \\% & 97.5 \\%\\\\\n",
       "\\hline\n",
       "\t(Intercept) & 0.062 & 0.053 & 0.072\\\\\n",
       "\tSEX2Female & 0.744 & 0.528 & 1.048\\\\\n",
       "\\end{tabular}\n"
      ],
      "text/markdown": [
       "\n",
       "| <!--/--> | beta | 2.5 % | 97.5 % |\n",
       "|---|---|---|---|\n",
       "| (Intercept) | 0.062 | 0.053 | 0.072 |\n",
       "| SEX2Female | 0.744 | 0.528 | 1.048 |\n",
       "\n"
      ],
      "text/plain": [
       "            beta  2.5 % 97.5 %\n",
       "(Intercept) 0.062 0.053 0.072 \n",
       "SEX2Female  0.744 0.528 1.048 "
      ]
     },
     "metadata": {},
     "output_type": "display_data"
    }
   ],
   "source": [
    "detach(smart)\n",
    "# Univariable models for categorical variables\n",
    "\n",
    "# Recode SEX so that the baseline is male #\n",
    "smart$SEX2 = relevel(smart$SEX, ref=\"Male\")\n",
    "attach(smart)\n",
    "\n",
    "# logistic regression model including sex as the only independent variable\n",
    "sex_mod <- glm(outcome~SEX2,family=\"binomial\")\n",
    "summary(sex_mod)\n",
    "beta <- round(exp(sex_mod$coef),3) # extract the model coefficients from the model\n",
    "b <- round(exp(confint.default(sex_mod)),3) # Compute the confidence intervals for the model coefficients\n",
    "d <- cbind(beta,b)\n",
    "d"
   ]
  },
  {
   "cell_type": "markdown",
   "metadata": {},
   "source": [
    "Can you interpret the output?"
   ]
  },
  {
   "cell_type": "markdown",
   "metadata": {},
   "source": [
    "**By modifying the code above, try fitting a logistic regression model to the SMART data with albumin as the predictor.**  \n",
    "**Q. Interpret the output. Is albumin a significant predictor? What level of albumin is associated with the lowest risk?**"
   ]
  },
  {
   "cell_type": "code",
   "execution_count": 12,
   "metadata": {},
   "outputs": [],
   "source": [
    "# Insert R code here"
   ]
  },
  {
   "cell_type": "markdown",
   "metadata": {},
   "source": [
    "## Part 4 Univariate logistic regression with continuous variables\n",
    "Now lets try with a continuous variable (AGE).  "
   ]
  },
  {
   "cell_type": "code",
   "execution_count": 11,
   "metadata": {},
   "outputs": [
    {
     "data": {
      "text/plain": [
       "\n",
       "Call:\n",
       "glm(formula = outcome ~ AGE, family = \"binomial\")\n",
       "\n",
       "Deviance Residuals: \n",
       "    Min       1Q   Median       3Q      Max  \n",
       "-0.4787  -0.3721  -0.3215  -0.2775   2.8832  \n",
       "\n",
       "Coefficients:\n",
       "            Estimate Std. Error z value Pr(>|z|)    \n",
       "(Intercept) -5.15648    0.46657 -11.052  < 2e-16 ***\n",
       "AGE          0.03763    0.00732   5.141 2.74e-07 ***\n",
       "---\n",
       "Signif. codes:  0 '***' 0.001 '**' 0.01 '*' 0.05 '.' 0.1 ' ' 1\n",
       "\n",
       "(Dispersion parameter for binomial family taken to be 1)\n",
       "\n",
       "    Null deviance: 1644.0  on 3872  degrees of freedom\n",
       "Residual deviance: 1615.8  on 3871  degrees of freedom\n",
       "AIC: 1619.8\n",
       "\n",
       "Number of Fisher Scoring iterations: 6\n"
      ]
     },
     "metadata": {},
     "output_type": "display_data"
    },
    {
     "data": {
      "text/html": [
       "<table>\n",
       "<thead><tr><th></th><th scope=col>2.5 %</th><th scope=col>97.5 %</th></tr></thead>\n",
       "<tbody>\n",
       "\t<tr><th scope=row>(Intercept)</th><td>0.002308999</td><td>0.01437844 </td></tr>\n",
       "\t<tr><th scope=row>AGE</th><td>1.023553684</td><td>1.05334708 </td></tr>\n",
       "</tbody>\n",
       "</table>\n"
      ],
      "text/latex": [
       "\\begin{tabular}{r|ll}\n",
       "  & 2.5 \\% & 97.5 \\%\\\\\n",
       "\\hline\n",
       "\t(Intercept) & 0.002308999 & 0.01437844 \\\\\n",
       "\tAGE & 1.023553684 & 1.05334708 \\\\\n",
       "\\end{tabular}\n"
      ],
      "text/markdown": [
       "\n",
       "| <!--/--> | 2.5 % | 97.5 % |\n",
       "|---|---|---|\n",
       "| (Intercept) | 0.002308999 | 0.01437844  |\n",
       "| AGE | 1.023553684 | 1.05334708  |\n",
       "\n"
      ],
      "text/plain": [
       "            2.5 %       97.5 %    \n",
       "(Intercept) 0.002308999 0.01437844\n",
       "AGE         1.023553684 1.05334708"
      ]
     },
     "metadata": {},
     "output_type": "display_data"
    }
   ],
   "source": [
    "# Assuming age is linear\n",
    "age_mod <- glm(outcome~AGE,family=\"binomial\")\n",
    "summary(age_mod)\n",
    "exp(confint.default((age_mod))) # if you want confidence intervals for the model coefficients"
   ]
  },
  {
   "cell_type": "code",
   "execution_count": null,
   "metadata": {},
   "outputs": [],
   "source": []
  },
  {
   "cell_type": "markdown",
   "metadata": {},
   "source": [
    "If you wanted to calculate the models average predicted risk for a 40 year old or an 80 year old you can do this using the code below."
   ]
  },
  {
   "cell_type": "code",
   "execution_count": 12,
   "metadata": {},
   "outputs": [
    {
     "data": {
      "text/html": [
       "<table>\n",
       "<tbody>\n",
       "\t<tr><td>risk40          </td><td>2.52977615539029</td></tr>\n",
       "\t<tr><td>risk80          </td><td>10.467289852795 </td></tr>\n",
       "</tbody>\n",
       "</table>\n"
      ],
      "text/latex": [
       "\\begin{tabular}{ll}\n",
       "\t risk40           & 2.52977615539029\\\\\n",
       "\t risk80           & 10.467289852795 \\\\\n",
       "\\end{tabular}\n"
      ],
      "text/markdown": [
       "\n",
       "| risk40           | 2.52977615539029 |\n",
       "| risk80           | 10.467289852795  |\n",
       "\n"
      ],
      "text/plain": [
       "     [,1]   [,2]            \n",
       "[1,] risk40 2.52977615539029\n",
       "[2,] risk80 10.467289852795 "
      ]
     },
     "metadata": {},
     "output_type": "display_data"
    }
   ],
   "source": [
    "lp40 <- predict(age_mod,data.frame(AGE=40))\n",
    "risk40 <- exp(lp40)/(1+exp(lp40))*100\n",
    "\n",
    "lp80 <- predict(age_mod,data.frame(AGE=80))\n",
    "risk80 <- exp(lp80)/(1+exp(lp80))*100\n",
    "\n",
    "\n",
    "matrix(c(\"risk40\",\"risk80\", risk40, risk80),ncol=2,byrow=F)"
   ]
  },
  {
   "cell_type": "markdown",
   "metadata": {},
   "source": [
    "We see that on average, a 40 year old individual has a 2.5% risk of a cardiovascular event within 2 years.  \n",
    "Alternatively, you can also use this code to obtain the risk for an individual who is 40 years old. The results are the same, it is just another way to calculate the risk."
   ]
  },
  {
   "cell_type": "code",
   "execution_count": 13,
   "metadata": {},
   "outputs": [
    {
     "data": {
      "text/html": [
       "<dl class=dl-horizontal>\n",
       "\t<dt>1</dt>\n",
       "\t\t<dd>2.52977615539029</dd>\n",
       "\t<dt>1</dt>\n",
       "\t\t<dd>2.52977615539029</dd>\n",
       "</dl>\n"
      ],
      "text/latex": [
       "\\begin{description*}\n",
       "\\item[1] 2.52977615539029\n",
       "\\item[1] 2.52977615539029\n",
       "\\end{description*}\n"
      ],
      "text/markdown": [
       "1\n",
       ":   2.529776155390291\n",
       ":   2.52977615539029\n",
       "\n"
      ],
      "text/plain": [
       "       1        1 \n",
       "2.529776 2.529776 "
      ]
     },
     "metadata": {},
     "output_type": "display_data"
    }
   ],
   "source": [
    "risk40a <- predict(age_mod,data.frame(AGE=40), type=\"response\")*100 \n",
    "# 'type=\"response\"' gives the predicted probabilites and so multiply by 100 to get the risk as a percentage\n",
    "risk40b <- 1/(1+exp(-lp40))*100 # alternative calculation\n",
    "c(risk40a, risk40b)"
   ]
  },
  {
   "cell_type": "markdown",
   "metadata": {},
   "source": [
    "## Part 5 Modelling a continuos variable using splines"
   ]
  },
  {
   "cell_type": "markdown",
   "metadata": {},
   "source": [
    "Lets model age using splines.  \n",
    "\n",
    "First create spline variables, where 3 means 3 knots (i.e. 2 age terms) etc."
   ]
  },
  {
   "cell_type": "code",
   "execution_count": 14,
   "metadata": {},
   "outputs": [],
   "source": [
    "age3_spline <- rcs(AGE,3)\n",
    "age4_spline <- rcs(AGE,4)\n",
    "age5_spline <- rcs(AGE,5)"
   ]
  },
  {
   "cell_type": "markdown",
   "metadata": {},
   "source": [
    "Fit a logistic regression model using each set of spline variables & predict the linear predictor (LP)"
   ]
  },
  {
   "cell_type": "code",
   "execution_count": 15,
   "metadata": {},
   "outputs": [
    {
     "data": {
      "text/plain": [
       "\n",
       "Call:  glm(formula = outcome ~ age3_spline, family = \"binomial\")\n",
       "\n",
       "Coefficients:\n",
       "    (Intercept)   age3_splineAGE  age3_splineAGE'  \n",
       "      -3.014784        -0.004786         0.051368  \n",
       "\n",
       "Degrees of Freedom: 3872 Total (i.e. Null);  3870 Residual\n",
       "Null Deviance:\t    1644 \n",
       "Residual Deviance: 1608 \tAIC: 1614"
      ]
     },
     "metadata": {},
     "output_type": "display_data"
    },
    {
     "data": {
      "text/plain": [
       "\n",
       "Call:  glm(formula = outcome ~ age4_spline, family = \"binomial\")\n",
       "\n",
       "Coefficients:\n",
       "     (Intercept)    age4_splineAGE   age4_splineAGE'  age4_splineAGE''  \n",
       "       -3.439183          0.004632          0.010750          0.158339  \n",
       "\n",
       "Degrees of Freedom: 3872 Total (i.e. Null);  3869 Residual\n",
       "Null Deviance:\t    1644 \n",
       "Residual Deviance: 1608 \tAIC: 1616"
      ]
     },
     "metadata": {},
     "output_type": "display_data"
    },
    {
     "data": {
      "text/plain": [
       "\n",
       "Call:  glm(formula = outcome ~ age5_spline, family = \"binomial\")\n",
       "\n",
       "Coefficients:\n",
       "      (Intercept)     age5_splineAGE    age5_splineAGE'   age5_splineAGE''  \n",
       "         -3.76956            0.01277           -0.04864            0.45158  \n",
       "age5_splineAGE'''  \n",
       "         -0.63407  \n",
       "\n",
       "Degrees of Freedom: 3872 Total (i.e. Null);  3868 Residual\n",
       "Null Deviance:\t    1644 \n",
       "Residual Deviance: 1607 \tAIC: 1617"
      ]
     },
     "metadata": {},
     "output_type": "display_data"
    }
   ],
   "source": [
    "lp_age1 <- predict(age_mod)\n",
    "\n",
    "age3_mod <- glm(outcome~age3_spline,family=\"binomial\")\n",
    "age3_mod\n",
    "lp_age3 <- predict(age3_mod)\n",
    "\n",
    "age4_mod <- glm(outcome~age4_spline,family=\"binomial\")\n",
    "age4_mod\n",
    "lp_age4 <- predict(age4_mod)\n",
    "\n",
    "age5_mod <- glm(outcome~age5_spline,family=\"binomial\")\n",
    "age5_mod\n",
    "lp_age5 <- predict(age5_mod)"
   ]
  },
  {
   "cell_type": "markdown",
   "metadata": {},
   "source": [
    "Plot all LPs together for visual inspection (including the linear model)"
   ]
  },
  {
   "cell_type": "code",
   "execution_count": 18,
   "metadata": {},
   "outputs": [
    {
     "data": {
      "image/png": "[encoded data removed]",
      "text/plain": [
       "plot without title"
      ]
     },
     "metadata": {},
     "output_type": "display_data"
    }
   ],
   "source": [
    "data_part6 <- data.frame(AGE,lp_age1,lp_age3,lp_age4,lp_age5)\n",
    "data_part6_m <- melt(data_part6,id.vars='AGE')\n",
    "plot_part6 <- ggplot(data_part6_m,aes(AGE,value,colour=variable))+geom_line()+scale_colour_manual(labels=c(\"linear\",\"3 knots\",\"4 knots\",\"5 knots\"),values=c(\"gray\",\"green\",\"red\",\"blue\"))+theme_bw()\n",
    "plot_part6 + labs(x=\"Age (years)\",y=\"Linear Predictor (log odds)\",color=\"\") + theme(legend.position=c(0.2,0.8))"
   ]
  },
  {
   "cell_type": "markdown",
   "metadata": {},
   "source": [
    "From this graph which term would you use to model age? Do you think age is linear?  \n",
    "We can check which is the best fitted model and most appropriate term to use for age by comparing AIC or BIC"
   ]
  },
  {
   "cell_type": "code",
   "execution_count": 16,
   "metadata": {},
   "outputs": [
    {
     "data": {
      "text/html": [
       "<table>\n",
       "<thead><tr><th></th><th scope=col>AIC</th><th scope=col>BIC</th></tr></thead>\n",
       "<tbody>\n",
       "\t<tr><th scope=row>age_mod</th><td>1619.782</td><td>1632.306</td></tr>\n",
       "\t<tr><th scope=row>age3_mod</th><td>1614.187</td><td>1632.972</td></tr>\n",
       "\t<tr><th scope=row>age4_mod</th><td>1615.562</td><td>1640.609</td></tr>\n",
       "\t<tr><th scope=row>age5_mod</th><td>1617.404</td><td>1648.713</td></tr>\n",
       "</tbody>\n",
       "</table>\n"
      ],
      "text/latex": [
       "\\begin{tabular}{r|ll}\n",
       "  & AIC & BIC\\\\\n",
       "\\hline\n",
       "\tage\\_mod & 1619.782 & 1632.306\\\\\n",
       "\tage3\\_mod & 1614.187 & 1632.972\\\\\n",
       "\tage4\\_mod & 1615.562 & 1640.609\\\\\n",
       "\tage5\\_mod & 1617.404 & 1648.713\\\\\n",
       "\\end{tabular}\n"
      ],
      "text/markdown": [
       "\n",
       "| <!--/--> | AIC | BIC |\n",
       "|---|---|---|\n",
       "| age_mod | 1619.782 | 1632.306 |\n",
       "| age3_mod | 1614.187 | 1632.972 |\n",
       "| age4_mod | 1615.562 | 1640.609 |\n",
       "| age5_mod | 1617.404 | 1648.713 |\n",
       "\n"
      ],
      "text/plain": [
       "         AIC      BIC     \n",
       "age_mod  1619.782 1632.306\n",
       "age3_mod 1614.187 1632.972\n",
       "age4_mod 1615.562 1640.609\n",
       "age5_mod 1617.404 1648.713"
      ]
     },
     "metadata": {},
     "output_type": "display_data"
    }
   ],
   "source": [
    "age_spline_check <- matrix(c(AIC(age_mod),\n",
    "         BIC(age_mod),\n",
    "         AIC(age3_mod),\n",
    "         BIC(age3_mod),\n",
    "         AIC(age4_mod),\n",
    "         BIC(age4_mod),\n",
    "         AIC(age5_mod),\n",
    "         BIC(age5_mod)), ncol=2, byrow=TRUE)\n",
    "\n",
    "colnames(age_spline_check) <- c(\"AIC\", \"BIC\")\n",
    "rownames(age_spline_check) <- c(\"age_mod\",\"age3_mod\", \"age4_mod\", \"age5_mod\")\n",
    "age_spline_check"
   ]
  },
  {
   "cell_type": "markdown",
   "metadata": {},
   "source": [
    "From the AIC we would conclude age should be a non-linear term with three knots"
   ]
  },
  {
   "cell_type": "markdown",
   "metadata": {},
   "source": [
    "## Part 5 Building a multivariable model"
   ]
  },
  {
   "cell_type": "markdown",
   "metadata": {},
   "source": [
    "Now we will move beyond univariate analysis and build a model using variable selection.\n",
    "\n",
    "We will consider the following candidate predictors for inclusion in our model:  \n",
    "SEX, AGE, SBP, alcohol, CHOLO, BMIO, DIABETES, CARDIAC, SMOKING, AAA  \n",
    "\n",
    "Below I have subset the data to include only the data we need and removed any individuals with missing data.  \n",
    "**Note: removing individuals with missing data has been done for simplicity and is not advised in practice. This can induce bias and one should always consider techniques such as multiple imputation if data are missing** "
   ]
  },
  {
   "cell_type": "code",
   "execution_count": 17,
   "metadata": {},
   "outputs": [],
   "source": [
    "detach(smart)\n",
    "smart <- subset(smart, select = c(outcome, SEX, AGE, SBP, alcohol, CHOLO, BMIO, DIABETES, CARDIAC, SMOKING, AAA))\n",
    "smart <- na.omit(smart)\n",
    "age3_spline <- rcs(smart$AGE,3)\n",
    "attach(smart)"
   ]
  },
  {
   "cell_type": "markdown",
   "metadata": {},
   "source": [
    "Next we can use forward or backward selection to develop a multivariable prediction model.  \n",
    "We will use a p-value of 0.1 (equivalent to an AIC of 2.706) so not to be too stringent."
   ]
  },
  {
   "cell_type": "code",
   "execution_count": 18,
   "metadata": {},
   "outputs": [
    {
     "name": "stdout",
     "output_type": "stream",
     "text": [
      "Start:  AIC=1610.31\n",
      "outcome ~ 1\n",
      "\n",
      "              Df Deviance    AIC\n",
      "+ age3_spline  2   1571.6 1579.7\n",
      "+ AAA          1   1587.1 1592.5\n",
      "+ SBP          1   1599.9 1605.3\n",
      "+ DIABETES     1   1600.9 1606.3\n",
      "+ SEX          1   1604.1 1609.5\n",
      "+ alcohol      2   1601.8 1609.9\n",
      "<none>             1607.6 1610.3\n",
      "+ BMIO         1   1605.3 1610.7\n",
      "+ CHOLO        1   1606.7 1612.1\n",
      "+ CARDIAC      1   1607.6 1613.0\n",
      "+ SMOKING      2   1607.2 1615.3\n",
      "\n",
      "Step:  AIC=1579.7\n",
      "outcome ~ age3_spline\n",
      "\n",
      "           Df Deviance    AIC\n",
      "+ AAA       1   1560.6 1571.4\n",
      "+ DIABETES  1   1567.0 1577.8\n",
      "+ SEX       1   1567.9 1578.7\n",
      "<none>          1571.6 1579.7\n",
      "+ SBP       1   1570.6 1581.4\n",
      "+ BMIO      1   1570.6 1581.4\n",
      "+ CHOLO     1   1570.9 1581.7\n",
      "+ alcohol   2   1568.2 1581.7\n",
      "+ CARDIAC   1   1571.5 1582.4\n",
      "+ SMOKING   2   1571.5 1585.0\n",
      "\n",
      "Step:  AIC=1571.4\n",
      "outcome ~ age3_spline + AAA\n",
      "\n",
      "           Df Deviance    AIC\n",
      "+ DIABETES  1   1555.2 1568.7\n",
      "<none>          1560.6 1571.4\n",
      "+ SEX       1   1558.2 1571.7\n",
      "+ SBP       1   1559.2 1572.7\n",
      "+ alcohol   2   1557.1 1573.3\n",
      "+ BMIO      1   1559.9 1573.5\n",
      "+ CHOLO     1   1560.2 1573.7\n",
      "+ CARDIAC   1   1560.2 1573.7\n",
      "+ SMOKING   2   1560.6 1576.8\n",
      "\n",
      "Step:  AIC=1568.68\n",
      "outcome ~ age3_spline + AAA + DIABETES\n",
      "\n",
      "          Df Deviance    AIC\n",
      "<none>         1555.2 1568.7\n",
      "+ SEX      1   1552.7 1568.9\n",
      "+ BMIO     1   1553.5 1569.7\n",
      "+ SBP      1   1554.2 1570.4\n",
      "+ CHOLO    1   1554.6 1570.8\n",
      "+ CARDIAC  1   1554.8 1571.1\n",
      "+ alcohol  2   1552.4 1571.3\n",
      "+ SMOKING  2   1555.1 1574.1\n"
     ]
    }
   ],
   "source": [
    "\n",
    "k10 <- qchisq(0.10,1,lower.tail=FALSE) # this give the change in AIC we consider to be significant in our stepwise selection\n",
    "\n",
    "# Forward selection (by AIC)\n",
    "empty_mod_2 <- glm(outcome~1,family=\"binomial\")\n",
    "forward_mod_2 <- stepAIC(empty_mod_2,k=k10,scope=list(upper=~SEX+age3_spline + SBP + alcohol + CHOLO + BMIO + DIABETES + CARDIAC + SMOKING + AAA,lower=~1),direction=\"forward\",trace=TRUE)\n"
   ]
  },
  {
   "cell_type": "code",
   "execution_count": 19,
   "metadata": {},
   "outputs": [
    {
     "name": "stdout",
     "output_type": "stream",
     "text": [
      "Start:  AIC=1581.74\n",
      "outcome ~ SEX + age3_spline + SBP + alcohol + CHOLO + BMIO + \n",
      "    DIABETES + CARDIAC + SMOKING + AAA\n",
      "\n",
      "              Df Deviance    AIC\n",
      "- SMOKING      2   1543.9 1576.3\n",
      "- CARDIAC      1   1544.5 1579.6\n",
      "- CHOLO        1   1544.7 1579.9\n",
      "- SBP          1   1545.0 1580.1\n",
      "- alcohol      2   1548.2 1580.7\n",
      "- BMIO         1   1546.1 1581.2\n",
      "<none>             1543.9 1581.7\n",
      "- SEX          1   1548.0 1583.2\n",
      "- DIABETES     1   1549.4 1584.6\n",
      "- AAA          1   1554.0 1589.2\n",
      "- age3_spline  2   1560.7 1593.2\n",
      "\n",
      "Step:  AIC=1576.34\n",
      "outcome ~ SEX + age3_spline + SBP + alcohol + CHOLO + BMIO + \n",
      "    DIABETES + CARDIAC + AAA\n",
      "\n",
      "              Df Deviance    AIC\n",
      "- CARDIAC      1   1544.5 1574.3\n",
      "- CHOLO        1   1544.7 1574.5\n",
      "- SBP          1   1545.0 1574.7\n",
      "- alcohol      2   1548.4 1575.4\n",
      "- BMIO         1   1546.1 1575.8\n",
      "<none>             1543.9 1576.3\n",
      "- SEX          1   1548.1 1577.9\n",
      "- DIABETES     1   1549.4 1579.2\n",
      "- AAA          1   1554.0 1583.8\n",
      "- age3_spline  2   1561.2 1588.2\n",
      "\n",
      "Step:  AIC=1574.26\n",
      "outcome ~ SEX + age3_spline + SBP + alcohol + CHOLO + BMIO + \n",
      "    DIABETES + AAA\n",
      "\n",
      "              Df Deviance    AIC\n",
      "- CHOLO        1   1545.1 1572.2\n",
      "- SBP          1   1545.4 1572.4\n",
      "- alcohol      2   1549.1 1573.5\n",
      "- BMIO         1   1546.4 1573.5\n",
      "<none>             1544.5 1574.3\n",
      "- SEX          1   1549.3 1576.3\n",
      "- DIABETES     1   1550.0 1577.0\n",
      "- AAA          1   1554.2 1581.2\n",
      "- age3_spline  2   1561.9 1586.2\n",
      "\n",
      "Step:  AIC=1572.19\n",
      "outcome ~ SEX + age3_spline + SBP + alcohol + BMIO + DIABETES + \n",
      "    AAA\n",
      "\n",
      "              Df Deviance    AIC\n",
      "- SBP          1   1546.2 1570.5\n",
      "- BMIO         1   1547.1 1571.5\n",
      "- alcohol      2   1549.8 1571.5\n",
      "<none>             1545.1 1572.2\n",
      "- SEX          1   1549.6 1573.9\n",
      "- DIABETES     1   1550.4 1574.7\n",
      "- AAA          1   1555.3 1579.7\n",
      "- age3_spline  2   1562.3 1584.0\n",
      "\n",
      "Step:  AIC=1570.52\n",
      "outcome ~ SEX + age3_spline + alcohol + BMIO + DIABETES + AAA\n",
      "\n",
      "              Df Deviance    AIC\n",
      "- BMIO         1   1548.1 1569.7\n",
      "- alcohol      2   1551.0 1569.9\n",
      "<none>             1546.2 1570.5\n",
      "- SEX          1   1550.5 1572.1\n",
      "- DIABETES     1   1551.9 1573.5\n",
      "- AAA          1   1556.1 1577.7\n",
      "- age3_spline  2   1567.4 1586.3\n",
      "\n",
      "Step:  AIC=1569.71\n",
      "outcome ~ SEX + age3_spline + alcohol + DIABETES + AAA\n",
      "\n",
      "              Df Deviance    AIC\n",
      "- alcohol      2   1552.7 1568.9\n",
      "<none>             1548.1 1569.7\n",
      "- SEX          1   1552.4 1571.3\n",
      "- DIABETES     1   1552.8 1571.7\n",
      "- AAA          1   1558.4 1577.3\n",
      "- age3_spline  2   1570.9 1587.2\n",
      "\n",
      "Step:  AIC=1568.88\n",
      "outcome ~ SEX + age3_spline + DIABETES + AAA\n",
      "\n",
      "              Df Deviance    AIC\n",
      "- SEX          1   1555.2 1568.7\n",
      "<none>             1552.7 1568.9\n",
      "- DIABETES     1   1558.2 1571.7\n",
      "- AAA          1   1563.2 1576.7\n",
      "- age3_spline  2   1577.8 1588.6\n",
      "\n",
      "Step:  AIC=1568.68\n",
      "outcome ~ age3_spline + DIABETES + AAA\n",
      "\n",
      "              Df Deviance    AIC\n",
      "<none>             1555.2 1568.7\n",
      "- DIABETES     1   1560.6 1571.4\n",
      "- AAA          1   1567.0 1577.8\n",
      "- age3_spline  2   1580.0 1588.1\n"
     ]
    }
   ],
   "source": [
    "# Backward selection (by AIC)\n",
    "full_mod_2 <- glm(outcome~SEX+age3_spline + SBP + alcohol + CHOLO + BMIO + DIABETES + CARDIAC + SMOKING + AAA,family=\"binomial\")\n",
    "backward_mod_2 <- stepAIC(full_mod_2,k=k10,scope=list(upper=~SEX+age3_spline + SBP + alcohol + CHOLO + BMIO + DIABETES + CARDIAC + SMOKING + AAA,lower=~1),direction=\"backward\",trace=TRUE)\n"
   ]
  },
  {
   "cell_type": "code",
   "execution_count": 20,
   "metadata": {},
   "outputs": [
    {
     "data": {
      "text/plain": [
       "\n",
       "Call:  glm(formula = outcome ~ age3_spline + AAA + DIABETES, family = \"binomial\")\n",
       "\n",
       "Coefficients:\n",
       "      (Intercept)   age3_splinesmart  age3_splinesmart'               AAA1  \n",
       "        -2.961038          -0.008679           0.049203           0.667711  \n",
       "        DIABETES1  \n",
       "         0.381083  \n",
       "\n",
       "Degrees of Freedom: 3802 Total (i.e. Null);  3798 Residual\n",
       "Null Deviance:\t    1608 \n",
       "Residual Deviance: 1555 \tAIC: 1565"
      ]
     },
     "metadata": {},
     "output_type": "display_data"
    },
    {
     "data": {
      "text/plain": [
       "\n",
       "Call:  glm(formula = outcome ~ age3_spline + DIABETES + AAA, family = \"binomial\")\n",
       "\n",
       "Coefficients:\n",
       "      (Intercept)   age3_splinesmart  age3_splinesmart'          DIABETES1  \n",
       "        -2.961038          -0.008679           0.049203           0.381083  \n",
       "             AAA1  \n",
       "         0.667711  \n",
       "\n",
       "Degrees of Freedom: 3802 Total (i.e. Null);  3798 Residual\n",
       "Null Deviance:\t    1608 \n",
       "Residual Deviance: 1555 \tAIC: 1565"
      ]
     },
     "metadata": {},
     "output_type": "display_data"
    }
   ],
   "source": [
    "forward_mod_2\n",
    "backward_mod_2"
   ]
  },
  {
   "cell_type": "markdown",
   "metadata": {},
   "source": [
    "Here forward and backward selection choose the same model. However, this is not always what happens in practice.   \n",
    "We can also force a variable to be included in the model."
   ]
  },
  {
   "cell_type": "code",
   "execution_count": 21,
   "metadata": {},
   "outputs": [
    {
     "name": "stdout",
     "output_type": "stream",
     "text": [
      "Start:  AIC=1581.74\n",
      "outcome ~ SEX + age3_spline + SBP + alcohol + CHOLO + BMIO + \n",
      "    DIABETES + CARDIAC + SMOKING + AAA\n",
      "\n",
      "              Df Deviance    AIC\n",
      "- SMOKING      2   1543.9 1576.3\n",
      "- CARDIAC      1   1544.5 1579.6\n",
      "- CHOLO        1   1544.7 1579.9\n",
      "- SBP          1   1545.0 1580.1\n",
      "- alcohol      2   1548.2 1580.7\n",
      "- BMIO         1   1546.1 1581.2\n",
      "<none>             1543.9 1581.7\n",
      "- DIABETES     1   1549.4 1584.6\n",
      "- AAA          1   1554.0 1589.2\n",
      "- age3_spline  2   1560.7 1593.2\n",
      "\n",
      "Step:  AIC=1576.34\n",
      "outcome ~ SEX + age3_spline + SBP + alcohol + CHOLO + BMIO + \n",
      "    DIABETES + CARDIAC + AAA\n",
      "\n",
      "              Df Deviance    AIC\n",
      "- CARDIAC      1   1544.5 1574.3\n",
      "- CHOLO        1   1544.7 1574.5\n",
      "- SBP          1   1545.0 1574.7\n",
      "- alcohol      2   1548.4 1575.4\n",
      "- BMIO         1   1546.1 1575.8\n",
      "<none>             1543.9 1576.3\n",
      "- DIABETES     1   1549.4 1579.2\n",
      "- AAA          1   1554.0 1583.8\n",
      "- age3_spline  2   1561.2 1588.2\n",
      "\n",
      "Step:  AIC=1574.26\n",
      "outcome ~ SEX + age3_spline + SBP + alcohol + CHOLO + BMIO + \n",
      "    DIABETES + AAA\n",
      "\n",
      "              Df Deviance    AIC\n",
      "- CHOLO        1   1545.1 1572.2\n",
      "- SBP          1   1545.4 1572.4\n",
      "- alcohol      2   1549.1 1573.5\n",
      "- BMIO         1   1546.4 1573.5\n",
      "<none>             1544.5 1574.3\n",
      "- DIABETES     1   1550.0 1577.0\n",
      "- AAA          1   1554.2 1581.2\n",
      "- age3_spline  2   1561.9 1586.2\n",
      "\n",
      "Step:  AIC=1572.19\n",
      "outcome ~ SEX + age3_spline + SBP + alcohol + BMIO + DIABETES + \n",
      "    AAA\n",
      "\n",
      "              Df Deviance    AIC\n",
      "- SBP          1   1546.2 1570.5\n",
      "- BMIO         1   1547.1 1571.5\n",
      "- alcohol      2   1549.8 1571.5\n",
      "<none>             1545.1 1572.2\n",
      "- DIABETES     1   1550.4 1574.7\n",
      "- AAA          1   1555.3 1579.7\n",
      "- age3_spline  2   1562.3 1584.0\n",
      "\n",
      "Step:  AIC=1570.52\n",
      "outcome ~ SEX + age3_spline + alcohol + BMIO + DIABETES + AAA\n",
      "\n",
      "              Df Deviance    AIC\n",
      "- BMIO         1   1548.1 1569.7\n",
      "- alcohol      2   1551.0 1569.9\n",
      "<none>             1546.2 1570.5\n",
      "- DIABETES     1   1551.9 1573.5\n",
      "- AAA          1   1556.1 1577.7\n",
      "- age3_spline  2   1567.4 1586.3\n",
      "\n",
      "Step:  AIC=1569.71\n",
      "outcome ~ SEX + age3_spline + alcohol + DIABETES + AAA\n",
      "\n",
      "              Df Deviance    AIC\n",
      "- alcohol      2   1552.7 1568.9\n",
      "<none>             1548.1 1569.7\n",
      "- DIABETES     1   1552.8 1571.7\n",
      "- AAA          1   1558.4 1577.3\n",
      "- age3_spline  2   1570.9 1587.2\n",
      "\n",
      "Step:  AIC=1568.88\n",
      "outcome ~ SEX + age3_spline + DIABETES + AAA\n",
      "\n",
      "              Df Deviance    AIC\n",
      "<none>             1552.7 1568.9\n",
      "- DIABETES     1   1558.2 1571.7\n",
      "- AAA          1   1563.2 1576.7\n",
      "- age3_spline  2   1577.8 1588.6\n"
     ]
    },
    {
     "data": {
      "text/plain": [
       "\n",
       "Call:  glm(formula = outcome ~ SEX + age3_spline + DIABETES + AAA, family = \"binomial\")\n",
       "\n",
       "Coefficients:\n",
       "      (Intercept)            SEXMale   age3_splinesmart  age3_splinesmart'  \n",
       "         -3.08910            0.28009           -0.01034            0.05113  \n",
       "        DIABETES1               AAA1  \n",
       "          0.38432            0.63337  \n",
       "\n",
       "Degrees of Freedom: 3802 Total (i.e. Null);  3797 Residual\n",
       "Null Deviance:\t    1608 \n",
       "Residual Deviance: 1553 \tAIC: 1565"
      ]
     },
     "metadata": {},
     "output_type": "display_data"
    },
    {
     "data": {
      "text/plain": [
       "\n",
       "Call:\n",
       "glm(formula = outcome ~ SEX + age3_spline + DIABETES + AAA, family = \"binomial\")\n",
       "\n",
       "Deviance Residuals: \n",
       "    Min       1Q   Median       3Q      Max  \n",
       "-0.8149  -0.3478  -0.2852  -0.2656   2.6974  \n",
       "\n",
       "Coefficients:\n",
       "                  Estimate Std. Error z value Pr(>|z|)    \n",
       "(Intercept)       -3.08910    0.83505  -3.699 0.000216 ***\n",
       "SEXMale            0.28009    0.18124   1.545 0.122245    \n",
       "age3_splinesmart  -0.01034    0.01591  -0.650 0.515930    \n",
       "age3_splinesmart'  0.05113    0.01818   2.812 0.004917 ** \n",
       "DIABETES1          0.38432    0.15996   2.403 0.016280 *  \n",
       "AAA1               0.63337    0.18646   3.397 0.000682 ***\n",
       "---\n",
       "Signif. codes:  0 '***' 0.001 '**' 0.01 '*' 0.05 '.' 0.1 ' ' 1\n",
       "\n",
       "(Dispersion parameter for binomial family taken to be 1)\n",
       "\n",
       "    Null deviance: 1607.6  on 3802  degrees of freedom\n",
       "Residual deviance: 1552.7  on 3797  degrees of freedom\n",
       "AIC: 1564.7\n",
       "\n",
       "Number of Fisher Scoring iterations: 6\n"
      ]
     },
     "metadata": {},
     "output_type": "display_data"
    }
   ],
   "source": [
    "# Backward selection (by AIC) forcing SEX to be incuded in the model\n",
    "backward_mod_2sex <- stepAIC(full_mod_2,k=k10,scope=list(upper=~SEX+age3_spline + SBP + alcohol + CHOLO + BMIO + DIABETES + CARDIAC + SMOKING + AAA,lower=~SEX),direction=\"backward\",trace=TRUE)\n",
    "backward_mod_2sex\n",
    "summary(backward_mod_2sex)"
   ]
  },
  {
   "cell_type": "markdown",
   "metadata": {},
   "source": [
    "In this practical we have built a model solely based on statistical results. However, in practice it is advised that both statistical and clinical relevance should be used to build a model. It is advised to build a model using clinical input and include variables that are clinically important even if the predictor does not appear statistically significant in the model"
   ]
  },
  {
   "cell_type": "code",
   "execution_count": null,
   "metadata": {},
   "outputs": [],
   "source": []
  },
  {
   "cell_type": "code",
   "execution_count": null,
   "metadata": {},
   "outputs": [],
   "source": []
  },
  {
   "cell_type": "code",
   "execution_count": null,
   "metadata": {},
   "outputs": [],
   "source": []
  }
 ],
 "metadata": {
  "kernelspec": {
   "display_name": "R",
   "language": "R",
   "name": "ir"
  },
  "language_info": {
   "codemirror_mode": "r",
   "file_extension": ".r",
   "mimetype": "text/x-r-source",
   "name": "R",
   "pygments_lexer": "r",
   "version": "3.6.0"
  }
 },
 "nbformat": 4,
 "nbformat_minor": 2
}
