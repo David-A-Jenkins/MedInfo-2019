{
 "cells": [
  {
   "cell_type": "markdown",
   "metadata": {},
   "source": [
    "# MedInfo 2019 Practical 3\n",
    "****\n",
    "In this practical session you will explore how to validate the prediction models developed in practical 1.\n",
    "\n",
    "As shown earlier, we can use the 'predict()' function in R to estimate predicted risks from our newly developed CPM.\n",
    "\n",
    "We will then outline the process of how to use such predicted risks to validate the prediction model. As discussed in the lecture notes, this should be undertaken in new (independent) data. However, we do not have external data to validate our model. For purposes of illustration of the R code, we here test performance within the development dataset. We will call this the 'apparent performance' of the model. Both the calibration and discrimination of the model will be calculated.\n",
    "\n",
    "It is often the case that we do not have external data, but dont worry there is no need to panic and split our data. As discussed in the lecture, we can perform internal validation. The latter part of this practical will illustrate how to perform bootstrap internal validation.\n",
    "\n",
    "Due to limited time we will focus only on the model developed in practical 1. The majority of the validation techniques and code still hold for the survival models by evaluating at on eor more timepoints. Where there are differences, they are discused in the text. \n"
   ]
  },
  {
   "cell_type": "markdown",
   "metadata": {},
   "source": [
    "### Lets begin"
   ]
  },
  {
   "cell_type": "markdown",
   "metadata": {},
   "source": [
    "First lets load the packages we will be using in the practical"
   ]
  },
  {
   "cell_type": "code",
   "execution_count": 5,
   "metadata": {},
   "outputs": [],
   "source": [
    "library(pROC)\n",
    "library(DescTools)\n",
    "library(Hmisc)\n",
    "library(plyr)\n",
    "library(boot)\n",
    "library(MASS)\n",
    "library(rms)"
   ]
  },
  {
   "cell_type": "markdown",
   "metadata": {},
   "source": [
    "## Part 1"
   ]
  },
  {
   "cell_type": "markdown",
   "metadata": {},
   "source": [
    "Begin by loading the data and subset as we have done in previous practicals."
   ]
  },
  {
   "cell_type": "code",
   "execution_count": 6,
   "metadata": {},
   "outputs": [
    {
     "data": {
      "text/html": [
       "'data.frame'"
      ],
      "text/latex": [
       "'data.frame'"
      ],
      "text/markdown": [
       "'data.frame'"
      ],
      "text/plain": [
       "[1] \"data.frame\""
      ]
     },
     "metadata": {},
     "output_type": "display_data"
    },
    {
     "data": {
      "text/html": [
       "<dl class=dl-horizontal>\n",
       "\t<dt>outcome</dt>\n",
       "\t\t<dd>'integer'</dd>\n",
       "\t<dt>TEVENT</dt>\n",
       "\t\t<dd>'numeric'</dd>\n",
       "\t<dt>EVENT</dt>\n",
       "\t\t<dd>'integer'</dd>\n",
       "\t<dt>SEX</dt>\n",
       "\t\t<dd>'factor'</dd>\n",
       "\t<dt>AGE</dt>\n",
       "\t\t<dd>'integer'</dd>\n",
       "\t<dt>SBP</dt>\n",
       "\t\t<dd>'integer'</dd>\n",
       "\t<dt>alcohol</dt>\n",
       "\t\t<dd>'factor'</dd>\n",
       "\t<dt>CHOLO</dt>\n",
       "\t\t<dd>'numeric'</dd>\n",
       "\t<dt>BMIO</dt>\n",
       "\t\t<dd>'numeric'</dd>\n",
       "\t<dt>DIABETES</dt>\n",
       "\t\t<dd>'factor'</dd>\n",
       "\t<dt>CARDIAC</dt>\n",
       "\t\t<dd>'factor'</dd>\n",
       "\t<dt>SMOKING</dt>\n",
       "\t\t<dd>'factor'</dd>\n",
       "\t<dt>AAA</dt>\n",
       "\t\t<dd>'factor'</dd>\n",
       "</dl>\n"
      ],
      "text/latex": [
       "\\begin{description*}\n",
       "\\item[outcome] 'integer'\n",
       "\\item[TEVENT] 'numeric'\n",
       "\\item[EVENT] 'integer'\n",
       "\\item[SEX] 'factor'\n",
       "\\item[AGE] 'integer'\n",
       "\\item[SBP] 'integer'\n",
       "\\item[alcohol] 'factor'\n",
       "\\item[CHOLO] 'numeric'\n",
       "\\item[BMIO] 'numeric'\n",
       "\\item[DIABETES] 'factor'\n",
       "\\item[CARDIAC] 'factor'\n",
       "\\item[SMOKING] 'factor'\n",
       "\\item[AAA] 'factor'\n",
       "\\end{description*}\n"
      ],
      "text/markdown": [
       "outcome\n",
       ":   'integer'TEVENT\n",
       ":   'numeric'EVENT\n",
       ":   'integer'SEX\n",
       ":   'factor'AGE\n",
       ":   'integer'SBP\n",
       ":   'integer'alcohol\n",
       ":   'factor'CHOLO\n",
       ":   'numeric'BMIO\n",
       ":   'numeric'DIABETES\n",
       ":   'factor'CARDIAC\n",
       ":   'factor'SMOKING\n",
       ":   'factor'AAA\n",
       ":   'factor'\n",
       "\n"
      ],
      "text/plain": [
       "  outcome    TEVENT     EVENT       SEX       AGE       SBP   alcohol     CHOLO \n",
       "\"integer\" \"numeric\" \"integer\"  \"factor\" \"integer\" \"integer\"  \"factor\" \"numeric\" \n",
       "     BMIO  DIABETES   CARDIAC   SMOKING       AAA \n",
       "\"numeric\"  \"factor\"  \"factor\"  \"factor\"  \"factor\" "
      ]
     },
     "metadata": {},
     "output_type": "display_data"
    }
   ],
   "source": [
    "smart <- readRDS(\"SMARTs_medinfo_P2-4.rds\")\n",
    "smart <- subset(smart, select = c(outcome, TEVENT, EVENT, SEX, AGE, SBP, alcohol, CHOLO, BMIO, DIABETES, CARDIAC, SMOKING, AAA))\n",
    "smart <- na.omit(smart)\n",
    "attach(smart)\n",
    "class(smart)\n",
    "sapply(smart,class)"
   ]
  },
  {
   "cell_type": "markdown",
   "metadata": {},
   "source": [
    "## Part 2"
   ]
  },
  {
   "cell_type": "markdown",
   "metadata": {},
   "source": [
    "Fit the multivariable models selected from practical 1"
   ]
  },
  {
   "cell_type": "code",
   "execution_count": 7,
   "metadata": {},
   "outputs": [
    {
     "data": {
      "text/plain": [
       "\n",
       "Call:  glm(formula = outcome ~ SEX + SBP + DIABETES + age3_spline, family = \"binomial\", \n",
       "    x = TRUE, y = TRUE)\n",
       "\n",
       "Coefficients:\n",
       "    (Intercept)          SEXMale              SBP        DIABETES1  \n",
       "       -3.52344          0.34609          0.00321          0.33952  \n",
       " age3_splineAGE  age3_splineAGE'  \n",
       "       -0.01035          0.05442  \n",
       "\n",
       "Degrees of Freedom: 3802 Total (i.e. Null);  3797 Residual\n",
       "Null Deviance:\t    1608 \n",
       "Residual Deviance: 1562 \tAIC: 1574"
      ]
     },
     "metadata": {},
     "output_type": "display_data"
    }
   ],
   "source": [
    "age3_spline <- rcs(AGE,3)\n",
    "\n",
    "# Fit model selected from practicals 1 and 2\n",
    "mod_log <- glm(outcome~SEX+SBP+DIABETES+age3_spline,family=\"binomial\",x=TRUE,y=TRUE)\n",
    "mod_log\n"
   ]
  },
  {
   "cell_type": "markdown",
   "metadata": {},
   "source": [
    "## Part 3 apparent discrimination"
   ]
  },
  {
   "cell_type": "markdown",
   "metadata": {},
   "source": [
    "Discrimination refers to the ability of a CPM to separate patients who will develop/experiance an outcome from those who will not.  \n",
    "The C-statistic (concordance) is typically used to assess model discrimination. This is calculated as the concordant pairs of individuals. If we take two individuals, one who experienced the outcome and one who did not, and the individual who had the event was given the higher probability, then this pair of individuals are concordant.\n",
    "We can also plot the receiver operator characteristic (ROC) curve. *Note - The area under this curve is equivalent to the C-statistic.*"
   ]
  },
  {
   "cell_type": "markdown",
   "metadata": {},
   "source": [
    "\n"
   ]
  },
  {
   "cell_type": "code",
   "execution_count": 8,
   "metadata": {},
   "outputs": [],
   "source": [
    "## Calculate apparent discrimination performance"
   ]
  },
  {
   "cell_type": "code",
   "execution_count": 9,
   "metadata": {},
   "outputs": [
    {
     "name": "stderr",
     "output_type": "stream",
     "text": [
      "Setting levels: control = 0, case = 1\n",
      "Setting direction: controls < cases\n"
     ]
    },
    {
     "data": {
      "text/plain": [
       "\n",
       "Call:\n",
       "roc.formula(formula = outcome ~ pred_prob, ci = TRUE)\n",
       "\n",
       "Data: pred_prob in 3596 controls (outcome 0) < 207 cases (outcome 1).\n",
       "Area under the curve: 0.6415\n",
       "95% CI: 0.6042-0.6787 (DeLong)"
      ]
     },
     "metadata": {},
     "output_type": "display_data"
    },
    {
     "name": "stderr",
     "output_type": "stream",
     "text": [
      "Setting levels: control = 0, case = 1\n",
      "Setting direction: controls < cases\n"
     ]
    },
    {
     "data": {
      "image/png": "[encoded data removed]",
      "text/plain": [
       "plot without title"
      ]
     },
     "metadata": {},
     "output_type": "display_data"
    }
   ],
   "source": [
    "# Obtain the predicted probabilities for each patient\n",
    "pred_prob <- predict(mod_log,type=\"response\")\n",
    "\n",
    "# Obtain the c statistic / AUC\n",
    "c1 <- roc(outcome~pred_prob,ci=TRUE)\n",
    "c1\n",
    "\n",
    "# Plot the ROC curve\n",
    "plot(roc(outcome,pred_prob))"
   ]
  },
  {
   "cell_type": "markdown",
   "metadata": {},
   "source": [
    "The C-statistic of 0.638 (95% CI, 0.598-0.6783) shows moderate discrimination. A value of 0.5 is equivalent to the probability of tossing a coin and a value of 1 represents perfect discrimination.\n",
    "\n",
    "The C-statistic can also be calculated for survival models but does not include cencered individuals or individuals with the same event time. The D-statistic is often calculated instead. This was proposed by Royston and Sauerbrei and their paper can be found [here](https://onlinelibrary.wiley.com/doi/abs/10.1002/sim.1621).\n"
   ]
  },
  {
   "cell_type": "code",
   "execution_count": 10,
   "metadata": {
    "scrolled": true
   },
   "outputs": [
    {
     "data": {
      "text/html": [
       "0.0508577787573"
      ],
      "text/latex": [
       "0.0508577787573"
      ],
      "text/markdown": [
       "0.0508577787573"
      ],
      "text/plain": [
       "[1] 0.05085778"
      ]
     },
     "metadata": {},
     "output_type": "display_data"
    }
   ],
   "source": [
    "#Brier score\n",
    "BrierScore(mod_log)"
   ]
  },
  {
   "cell_type": "markdown",
   "metadata": {},
   "source": [
    "The Brier score is also a measure of performance and ranges from 0 to 0.25, with lower values representing better performance. The brier score of 0.051 indicated good overall performance."
   ]
  },
  {
   "cell_type": "markdown",
   "metadata": {},
   "source": [
    "## Part 4 apparent calibration"
   ]
  },
  {
   "cell_type": "markdown",
   "metadata": {},
   "source": [
    "Lets begin by calculating calibration-in-the-large (CITL). This compares the mean of all prdicted risks with the mean observed risk.The indicates the extent that predictions are systematically too low or too high. \n",
    "If CITL > 0, observed proportions are higher than the predicted probabilities.  \n",
    "If CITL < 0, predicted probabilities are higher than the observed proportions.\n",
    "\n",
    "We can also use the expected/observed ratio (E/O) by dividing the expected by the observed number of events (or probabilities).  \n",
    "E/O is related to CITL and when E/O<1, CITL>0. Also, when E/O>1, CITL<0\n",
    "*Note - When overall prevelence is low, E/O as a ratio can look very large even when differences are smalll.*"
   ]
  },
  {
   "cell_type": "code",
   "execution_count": 11,
   "metadata": {},
   "outputs": [
    {
     "data": {
      "text/html": [
       "<strong>(Intercept):</strong> 5.07528049818529e-09"
      ],
      "text/latex": [
       "\\textbf{(Intercept):} 5.07528049818529e-09"
      ],
      "text/markdown": [
       "**(Intercept):** 5.07528049818529e-09"
      ],
      "text/plain": [
       "(Intercept) \n",
       "5.07528e-09 "
      ]
     },
     "metadata": {},
     "output_type": "display_data"
    },
    {
     "name": "stderr",
     "output_type": "stream",
     "text": [
      "Waiting for profiling to be done...\n"
     ]
    },
    {
     "data": {
      "text/html": [
       "<dl class=dl-horizontal>\n",
       "\t<dt>2.5 %</dt>\n",
       "\t\t<dd>-0.144019119937613</dd>\n",
       "\t<dt>97.5 %</dt>\n",
       "\t\t<dd>0.138253599516562</dd>\n",
       "</dl>\n"
      ],
      "text/latex": [
       "\\begin{description*}\n",
       "\\item[2.5 \\textbackslash{}\\%] -0.144019119937613\n",
       "\\item[97.5 \\textbackslash{}\\%] 0.138253599516562\n",
       "\\end{description*}\n"
      ],
      "text/markdown": [
       "2.5 %\n",
       ":   -0.14401911993761397.5 %\n",
       ":   0.138253599516562\n",
       "\n"
      ],
      "text/plain": [
       "     2.5 %     97.5 % \n",
       "-0.1440191  0.1382536 "
      ]
     },
     "metadata": {},
     "output_type": "display_data"
    },
    {
     "data": {
      "text/plain": [
       "outcome\n",
       "         0          1 \n",
       "0.94556929 0.05443071 "
      ]
     },
     "metadata": {},
     "output_type": "display_data"
    },
    {
     "data": {
      "text/html": [
       "<strong>1:</strong> 1.00000000000004"
      ],
      "text/latex": [
       "\\textbf{1:} 1.00000000000004"
      ],
      "text/markdown": [
       "**1:** 1.00000000000004"
      ],
      "text/plain": [
       "1 \n",
       "1 "
      ]
     },
     "metadata": {},
     "output_type": "display_data"
    }
   ],
   "source": [
    "# Obtain the linear predictor/PI for each patient\n",
    "pred_LP <- predict(mod_log,type=\"link\")\n",
    "\n",
    "# CITL\n",
    "mod_log_1 <- glm(outcome~offset(pred_LP),family=\"binomial\")\n",
    "coefficients(mod_log_1)\n",
    "confint(mod_log_1)\n",
    "\n",
    "# E/O\n",
    "prop.table(table(outcome))\n",
    "O <- prop.table(table(outcome))[2]\n",
    "E <- mean(pred_prob)\n",
    "E/O\n",
    "\n"
   ]
  },
  {
   "cell_type": "markdown",
   "metadata": {},
   "source": [
    "Here, CITL is 0.000000005 (95% CI: -0.14 to 0.14) and the E/O is 1. This shows perfect calibration but remember this is what we would expect here because we are using the data which the model was developed on.\n",
    "\n",
    "E/O for survival models we use expected and observed event probabilities rather than the number of events. This can be calculated to one or more time points. Thereofre the expected/observed ratio at 2 years (24 months) is,  \n",
    "$$E/O(t) = \\frac{1-S_{exp}(t)}{1-S_{obs}(t)}$$\n",
    "\n"
   ]
  },
  {
   "cell_type": "markdown",
   "metadata": {},
   "source": [
    "An alternative (more formal) way of testing calibraiton is by estimating the so-called calibration intercept and slope. These are obtained by fitting a logistic regression model to the observed outcomes and using the linear predictor of the model as the only covariate. A perfectly calibrated CPM would have a calibration intercept equal to 0 and a slope equal to 1. A intercept > 0 implies the model systematically under-predicts risk (and vice versa), while a calibration slope < 1 indicates the model is overfitted (too extreme risk predictions).\n",
    "\n",
    "This can also be done for survival models for specific times, using similar methods to the E/O to obtain observed and expected probabilities within risk groups."
   ]
  },
  {
   "cell_type": "code",
   "execution_count": 12,
   "metadata": {},
   "outputs": [
    {
     "data": {
      "text/html": [
       "<dl class=dl-horizontal>\n",
       "\t<dt>(Intercept)</dt>\n",
       "\t\t<dd>1.66203967400083e-13</dd>\n",
       "\t<dt>pred_LP</dt>\n",
       "\t\t<dd>1.00000000000007</dd>\n",
       "</dl>\n"
      ],
      "text/latex": [
       "\\begin{description*}\n",
       "\\item[(Intercept)] 1.66203967400083e-13\n",
       "\\item[pred\\textbackslash{}\\_LP] 1.00000000000007\n",
       "\\end{description*}\n"
      ],
      "text/markdown": [
       "(Intercept)\n",
       ":   1.66203967400083e-13pred_LP\n",
       ":   1.00000000000007\n",
       "\n"
      ],
      "text/plain": [
       "(Intercept)     pred_LP \n",
       "1.66204e-13 1.00000e+00 "
      ]
     },
     "metadata": {},
     "output_type": "display_data"
    },
    {
     "name": "stderr",
     "output_type": "stream",
     "text": [
      "Waiting for profiling to be done...\n"
     ]
    },
    {
     "data": {
      "text/html": [
       "<table>\n",
       "<thead><tr><th></th><th scope=col>2.5 %</th><th scope=col>97.5 %</th></tr></thead>\n",
       "<tbody>\n",
       "\t<tr><th scope=row>(Intercept)</th><td>-0.8082760</td><td>0.7860995 </td></tr>\n",
       "\t<tr><th scope=row>pred_LP</th><td> 0.7141317</td><td>1.2835378 </td></tr>\n",
       "</tbody>\n",
       "</table>\n"
      ],
      "text/latex": [
       "\\begin{tabular}{r|ll}\n",
       "  & 2.5 \\% & 97.5 \\%\\\\\n",
       "\\hline\n",
       "\t(Intercept) & -0.8082760 & 0.7860995 \\\\\n",
       "\tpred\\_LP &  0.7141317 & 1.2835378 \\\\\n",
       "\\end{tabular}\n"
      ],
      "text/markdown": [
       "\n",
       "| <!--/--> | 2.5 % | 97.5 % |\n",
       "|---|---|---|\n",
       "| (Intercept) | -0.8082760 | 0.7860995  |\n",
       "| pred_LP |  0.7141317 | 1.2835378  |\n",
       "\n"
      ],
      "text/plain": [
       "            2.5 %      97.5 %   \n",
       "(Intercept) -0.8082760 0.7860995\n",
       "pred_LP      0.7141317 1.2835378"
      ]
     },
     "metadata": {},
     "output_type": "display_data"
    }
   ],
   "source": [
    "mod_log_2 <- glm(outcome~pred_LP,family=\"binomial\",x=TRUE,y=TRUE)\n",
    "coefficients(mod_log_2)\n",
    "confint(mod_log_2)"
   ]
  },
  {
   "cell_type": "markdown",
   "metadata": {},
   "source": [
    "As expected, the 95% confidence interval for the calibration intercept includes 0 and that for the calibration slope includes 1. This gives evidence that the model is well calibrated. However, as above, in reality we would need to test this on new data, to account for in-sample optimism.\n",
    "\n",
    "For survival models you can obtain the the calibration slope by fitting a cox model to the LP as the only predictor. For example, *coxph(surv(TEVENT, EVENT)~pred_LP,x=TRUE,y=TRUE)*"
   ]
  },
  {
   "cell_type": "markdown",
   "metadata": {},
   "source": [
    "Another way to assess calibration of a CPM is a so-called calibration plot, which we make by dividing the data into several (usually ten) equally sized groups based on the ordered probabilities, and calculating the observed and expected number of events in each group. One way of doing this is using the code below:"
   ]
  },
  {
   "cell_type": "code",
   "execution_count": 13,
   "metadata": {},
   "outputs": [
    {
     "data": {
      "image/png": "[encoded data removed]",
      "text/plain": [
       "plot without title"
      ]
     },
     "metadata": {},
     "output_type": "display_data"
    }
   ],
   "source": [
    "# Visual assessment of calibration by risk groups\n",
    "\n",
    "# create 10 risk groups\n",
    "groups <- cut(pred_prob,breaks=quantile(pred_prob, prob = c(0,0.1,0.2,0.3,0.4,0.5,0.6,0.7,0.8,0.9,1.0)),labels=c(1:10),include.lowest=TRUE)\n",
    " \n",
    "# average the observed and expected probabilities of patients in each risk group \n",
    "gpdata <- cbind(smart,groups,pred_prob)\n",
    "obs <- (ddply(gpdata,~groups,summarise,mean=mean(as.numeric(outcome)))[,2])\n",
    "exp <- ddply(gpdata,~groups,summarise,mean=mean(pred_prob))\n",
    "obsn <- table(outcome,groups)[1,] \n",
    "\n",
    "# CIs for scatter points\n",
    "lci = pmax(0,(obs - (1.96*(((obs*(1-obs))/obsn)^.5))))\n",
    "uci = pmin(1,(obs + (1.96*(((obs*(1-obs))/obsn)^.5))))\n",
    "\n",
    "# graph a simple calibration plot over 10 risk groups\n",
    "par(pty=\"s\")\n",
    "plot(obs~exp[,2],xlim=c(0,1),ylim=c(0,1),col=\"red\",ylab=\"Observed\",xlab=\"Expected\")\n",
    "lines(c(0,1),c(0,1),lty=2)\n",
    "for(i in 1:10){\n",
    "lines(c(exp[i,2],exp[i,2]),c(lci[i],uci[i]),col=\"green\")\n",
    "}\n",
    "h <- hist(pred_prob, breaks=50, plot=FALSE)\n",
    "for(i in 1:length(h$mids)){\n",
    "  lines(c(h$mids[i],h$mids[i]),c(rep(1,length(h$mids))[i],1-((h$counts[i]/max(h$counts))/10)))\n",
    "}\n",
    "\n",
    "# Add a loess smoother to the plot\n",
    "obs_all <- predict(loess((as.numeric(outcome))~pred_prob,span=1))\n",
    "lines_data <- data.frame(pred_prob,obs_all)\n",
    "lines_data2 <- lines_data[order(pred_prob),] \n",
    "lines(lines_data2[,1],lines_data2[,2],col=\"blue\")\n",
    "legend(0.0,0.9,c(\"Risk groups\",\"Reference line\",\"95% CI\",\"Loess\"),col=c(\"red\",\"black\",\"green\",\"blue\"),lty=c(0,2,1,1),pch=c(1,NA,NA,NA),bty=\"n\")\n"
   ]
  },
  {
   "cell_type": "code",
   "execution_count": 14,
   "metadata": {
    "scrolled": true
   },
   "outputs": [
    {
     "data": {
      "image/png": "[encoded data removed]",
      "text/plain": [
       "plot without title"
      ]
     },
     "metadata": {},
     "output_type": "display_data"
    }
   ],
   "source": [
    "par(pty=\"s\")\n",
    "plot(obs~exp[,2],xlim=c(0,.3),ylim=c(0,.3),col=\"red\",ylab=\"Observed\",xlab=\"Expected\")\n",
    "lines(c(0,1),c(0,1),lty=2)\n",
    "for(i in 1:10){\n",
    "lines(c(exp[i,2],exp[i,2]),c(lci[i],uci[i]),col=\"green\")\n",
    "}\n",
    "h <- hist(pred_prob, breaks=50, plot=FALSE)\n",
    "for(i in 1:length(h$mids)){\n",
    "  lines(c(h$mids[i],h$mids[i]),c(rep(1,length(h$mids))[i],1-((h$counts[i]/max(h$counts))/10)))\n",
    "}\n",
    "\n",
    "# Add a loess smoother to the plot\n",
    "obs_all <- predict(loess((as.numeric(outcome))~pred_prob,span=1))\n",
    "lines_data <- data.frame(pred_prob,obs_all)\n",
    "lines_data2 <- lines_data[order(pred_prob),] \n",
    "lines(lines_data2[,1],lines_data2[,2],col=\"blue\")\n",
    "legend(0.0,0.25,c(\"Risk groups\",\"Reference line\",\"95% CI\",\"Loess\"),col=c(\"red\",\"black\",\"green\",\"blue\"),lty=c(0,2,1,1),pch=c(1,NA,NA,NA),bty=\"n\")\n"
   ]
  },
  {
   "cell_type": "markdown",
   "metadata": {},
   "source": [
    "As expected, all of the points lie along the y=x line, showing that there is good agreement between the observed and expected event rates (i.e. good calibration). "
   ]
  },
  {
   "cell_type": "markdown",
   "metadata": {},
   "source": [
    "These results show that the CPM is well calibrated and has moderate discrimination. However, these performance estimates are misleading because they are based on the data for which the CPM was derived and are therefore subject to in-sample optimism.  \n",
    "\n",
    "This optimism can be adjusted for by bootstrapped validation. This is the prefered method for internal validation of a prediction model."
   ]
  },
  {
   "cell_type": "markdown",
   "metadata": {},
   "source": [
    "## Part 5 bootstrap validation"
   ]
  },
  {
   "cell_type": "code",
   "execution_count": 15,
   "metadata": {},
   "outputs": [
    {
     "data": {
      "text/plain": [
       "          index.orig training    test optimism index.corrected  n\n",
       "Dxy           0.2829   0.2875  0.2616   0.0259          0.2571 50\n",
       "R2            0.0343   0.0389  0.0314   0.0074          0.0268 50\n",
       "Intercept     0.0000   0.0000 -0.1990   0.1990         -0.1990 50\n",
       "Slope         1.0000   1.0000  0.9252   0.0748          0.9252 50\n",
       "Emax          0.0000   0.0000  0.0579   0.0579          0.0579 50\n",
       "D             0.0116   0.0132  0.0106   0.0025          0.0091 50\n",
       "U            -0.0005  -0.0005  0.0002  -0.0007          0.0002 50\n",
       "Q             0.0122   0.0137  0.0104   0.0033          0.0089 50\n",
       "B             0.0509   0.0505  0.0510  -0.0005          0.0513 50\n",
       "g             0.4911   0.5248  0.4777   0.0472          0.4440 50\n",
       "gp            0.0269   0.0282  0.0258   0.0024          0.0245 50"
      ]
     },
     "metadata": {},
     "output_type": "display_data"
    },
    {
     "data": {
      "text/html": [
       "0.641471602908223"
      ],
      "text/latex": [
       "0.641471602908223"
      ],
      "text/markdown": [
       "0.641471602908223"
      ],
      "text/plain": [
       "[1] 0.6414716"
      ]
     },
     "metadata": {},
     "output_type": "display_data"
    },
    {
     "data": {
      "text/html": [
       "0.628534070977267"
      ],
      "text/latex": [
       "0.628534070977267"
      ],
      "text/markdown": [
       "0.628534070977267"
      ],
      "text/plain": [
       "[1] 0.6285341"
      ]
     },
     "metadata": {},
     "output_type": "display_data"
    }
   ],
   "source": [
    "\n",
    "# You can obtain c-statistic and c-slope directly from Harrell's \"validate\" programme within 'rms'.\n",
    "mod1 <- lrm(outcome~SEX+SBP+DIABETES+age3_spline,x=TRUE,y=TRUE)\n",
    "set.seed(231398)\n",
    "boot_1 <- validate(mod1,method=\"boot\",B=50)\n",
    "boot_1\n",
    "\n",
    "# Note that this gives Dxy rather than c, however Dxy = 2*(c-0.5), i.e. c=(Dxy/2)+0.5\n",
    "(boot_1[1,1]+1)/2\n",
    "(boot_1[1,5]+1)/2\n"
   ]
  },
  {
   "cell_type": "code",
   "execution_count": 16,
   "metadata": {},
   "outputs": [
    {
     "name": "stderr",
     "output_type": "stream",
     "text": [
      "Setting levels: control = 0, case = 1\n",
      "Setting direction: controls < cases\n",
      "Setting levels: control = 0, case = 1\n",
      "Setting direction: controls < cases\n"
     ]
    },
    {
     "name": "stdout",
     "output_type": "stream",
     "text": [
      "[1] 1\n"
     ]
    },
    {
     "name": "stderr",
     "output_type": "stream",
     "text": [
      "Setting levels: control = 0, case = 1\n",
      "Setting direction: controls < cases\n",
      "Setting levels: control = 0, case = 1\n",
      "Setting direction: controls < cases\n"
     ]
    },
    {
     "name": "stdout",
     "output_type": "stream",
     "text": [
      "[1] 2\n"
     ]
    },
    {
     "name": "stderr",
     "output_type": "stream",
     "text": [
      "Setting levels: control = 0, case = 1\n",
      "Setting direction: controls < cases\n",
      "Setting levels: control = 0, case = 1\n",
      "Setting direction: controls < cases\n"
     ]
    },
    {
     "name": "stdout",
     "output_type": "stream",
     "text": [
      "[1] 3\n"
     ]
    },
    {
     "name": "stderr",
     "output_type": "stream",
     "text": [
      "Setting levels: control = 0, case = 1\n",
      "Setting direction: controls < cases\n",
      "Setting levels: control = 0, case = 1\n",
      "Setting direction: controls < cases\n"
     ]
    },
    {
     "name": "stdout",
     "output_type": "stream",
     "text": [
      "[1] 4\n"
     ]
    },
    {
     "name": "stderr",
     "output_type": "stream",
     "text": [
      "Setting levels: control = 0, case = 1\n",
      "Setting direction: controls < cases\n",
      "Setting levels: control = 0, case = 1\n",
      "Setting direction: controls > cases\n"
     ]
    },
    {
     "name": "stdout",
     "output_type": "stream",
     "text": [
      "[1] 5\n"
     ]
    },
    {
     "name": "stderr",
     "output_type": "stream",
     "text": [
      "Setting levels: control = 0, case = 1\n",
      "Setting direction: controls < cases\n",
      "Setting levels: control = 0, case = 1\n",
      "Setting direction: controls > cases\n"
     ]
    },
    {
     "name": "stdout",
     "output_type": "stream",
     "text": [
      "[1] 6\n"
     ]
    },
    {
     "name": "stderr",
     "output_type": "stream",
     "text": [
      "Setting levels: control = 0, case = 1\n",
      "Setting direction: controls < cases\n",
      "Setting levels: control = 0, case = 1\n",
      "Setting direction: controls < cases\n"
     ]
    },
    {
     "name": "stdout",
     "output_type": "stream",
     "text": [
      "[1] 7\n"
     ]
    },
    {
     "name": "stderr",
     "output_type": "stream",
     "text": [
      "Setting levels: control = 0, case = 1\n",
      "Setting direction: controls < cases\n",
      "Setting levels: control = 0, case = 1\n",
      "Setting direction: controls > cases\n"
     ]
    },
    {
     "name": "stdout",
     "output_type": "stream",
     "text": [
      "[1] 8\n"
     ]
    },
    {
     "name": "stderr",
     "output_type": "stream",
     "text": [
      "Setting levels: control = 0, case = 1\n",
      "Setting direction: controls < cases\n",
      "Setting levels: control = 0, case = 1\n",
      "Setting direction: controls > cases\n"
     ]
    },
    {
     "name": "stdout",
     "output_type": "stream",
     "text": [
      "[1] 9\n"
     ]
    },
    {
     "name": "stderr",
     "output_type": "stream",
     "text": [
      "Setting levels: control = 0, case = 1\n",
      "Setting direction: controls < cases\n",
      "Setting levels: control = 0, case = 1\n",
      "Setting direction: controls < cases\n"
     ]
    },
    {
     "name": "stdout",
     "output_type": "stream",
     "text": [
      "[1] 10\n"
     ]
    },
    {
     "name": "stderr",
     "output_type": "stream",
     "text": [
      "Setting levels: control = 0, case = 1\n",
      "Setting direction: controls < cases\n",
      "Setting levels: control = 0, case = 1\n",
      "Setting direction: controls < cases\n"
     ]
    },
    {
     "name": "stdout",
     "output_type": "stream",
     "text": [
      "[1] 11\n"
     ]
    },
    {
     "name": "stderr",
     "output_type": "stream",
     "text": [
      "Setting levels: control = 0, case = 1\n",
      "Setting direction: controls < cases\n",
      "Setting levels: control = 0, case = 1\n",
      "Setting direction: controls < cases\n"
     ]
    },
    {
     "name": "stdout",
     "output_type": "stream",
     "text": [
      "[1] 12\n"
     ]
    },
    {
     "name": "stderr",
     "output_type": "stream",
     "text": [
      "Setting levels: control = 0, case = 1\n",
      "Setting direction: controls < cases\n",
      "Setting levels: control = 0, case = 1\n",
      "Setting direction: controls < cases\n"
     ]
    },
    {
     "name": "stdout",
     "output_type": "stream",
     "text": [
      "[1] 13\n"
     ]
    },
    {
     "name": "stderr",
     "output_type": "stream",
     "text": [
      "Setting levels: control = 0, case = 1\n",
      "Setting direction: controls < cases\n",
      "Setting levels: control = 0, case = 1\n",
      "Setting direction: controls < cases\n"
     ]
    },
    {
     "name": "stdout",
     "output_type": "stream",
     "text": [
      "[1] 14\n"
     ]
    },
    {
     "name": "stderr",
     "output_type": "stream",
     "text": [
      "Setting levels: control = 0, case = 1\n",
      "Setting direction: controls < cases\n",
      "Setting levels: control = 0, case = 1\n",
      "Setting direction: controls > cases\n"
     ]
    },
    {
     "name": "stdout",
     "output_type": "stream",
     "text": [
      "[1] 15\n"
     ]
    },
    {
     "name": "stderr",
     "output_type": "stream",
     "text": [
      "Setting levels: control = 0, case = 1\n",
      "Setting direction: controls < cases\n",
      "Setting levels: control = 0, case = 1\n",
      "Setting direction: controls < cases\n"
     ]
    },
    {
     "name": "stdout",
     "output_type": "stream",
     "text": [
      "[1] 16\n"
     ]
    },
    {
     "name": "stderr",
     "output_type": "stream",
     "text": [
      "Setting levels: control = 0, case = 1\n",
      "Setting direction: controls < cases\n",
      "Setting levels: control = 0, case = 1\n",
      "Setting direction: controls < cases\n"
     ]
    },
    {
     "name": "stdout",
     "output_type": "stream",
     "text": [
      "[1] 17\n"
     ]
    },
    {
     "name": "stderr",
     "output_type": "stream",
     "text": [
      "Setting levels: control = 0, case = 1\n",
      "Setting direction: controls < cases\n",
      "Setting levels: control = 0, case = 1\n",
      "Setting direction: controls < cases\n"
     ]
    },
    {
     "name": "stdout",
     "output_type": "stream",
     "text": [
      "[1] 18\n"
     ]
    },
    {
     "name": "stderr",
     "output_type": "stream",
     "text": [
      "Setting levels: control = 0, case = 1\n",
      "Setting direction: controls < cases\n",
      "Setting levels: control = 0, case = 1\n",
      "Setting direction: controls < cases\n"
     ]
    },
    {
     "name": "stdout",
     "output_type": "stream",
     "text": [
      "[1] 19\n"
     ]
    },
    {
     "name": "stderr",
     "output_type": "stream",
     "text": [
      "Setting levels: control = 0, case = 1\n",
      "Setting direction: controls < cases\n",
      "Setting levels: control = 0, case = 1\n",
      "Setting direction: controls < cases\n"
     ]
    },
    {
     "name": "stdout",
     "output_type": "stream",
     "text": [
      "[1] 20\n"
     ]
    },
    {
     "name": "stderr",
     "output_type": "stream",
     "text": [
      "Setting levels: control = 0, case = 1\n",
      "Setting direction: controls < cases\n",
      "Setting levels: control = 0, case = 1\n",
      "Setting direction: controls < cases\n"
     ]
    },
    {
     "name": "stdout",
     "output_type": "stream",
     "text": [
      "[1] 21\n"
     ]
    },
    {
     "name": "stderr",
     "output_type": "stream",
     "text": [
      "Setting levels: control = 0, case = 1\n",
      "Setting direction: controls < cases\n",
      "Setting levels: control = 0, case = 1\n",
      "Setting direction: controls > cases\n"
     ]
    },
    {
     "name": "stdout",
     "output_type": "stream",
     "text": [
      "[1] 22\n"
     ]
    },
    {
     "name": "stderr",
     "output_type": "stream",
     "text": [
      "Setting levels: control = 0, case = 1\n",
      "Setting direction: controls < cases\n",
      "Setting levels: control = 0, case = 1\n",
      "Setting direction: controls > cases\n"
     ]
    },
    {
     "name": "stdout",
     "output_type": "stream",
     "text": [
      "[1] 23\n"
     ]
    },
    {
     "name": "stderr",
     "output_type": "stream",
     "text": [
      "Setting levels: control = 0, case = 1\n",
      "Setting direction: controls < cases\n",
      "Setting levels: control = 0, case = 1\n",
      "Setting direction: controls > cases\n"
     ]
    },
    {
     "name": "stdout",
     "output_type": "stream",
     "text": [
      "[1] 24\n"
     ]
    },
    {
     "name": "stderr",
     "output_type": "stream",
     "text": [
      "Setting levels: control = 0, case = 1\n",
      "Setting direction: controls < cases\n",
      "Setting levels: control = 0, case = 1\n",
      "Setting direction: controls < cases\n"
     ]
    },
    {
     "name": "stdout",
     "output_type": "stream",
     "text": [
      "[1] 25\n"
     ]
    },
    {
     "name": "stderr",
     "output_type": "stream",
     "text": [
      "Setting levels: control = 0, case = 1\n",
      "Setting direction: controls < cases\n",
      "Setting levels: control = 0, case = 1\n",
      "Setting direction: controls > cases\n"
     ]
    },
    {
     "name": "stdout",
     "output_type": "stream",
     "text": [
      "[1] 26\n"
     ]
    },
    {
     "name": "stderr",
     "output_type": "stream",
     "text": [
      "Setting levels: control = 0, case = 1\n",
      "Setting direction: controls < cases\n",
      "Setting levels: control = 0, case = 1\n",
      "Setting direction: controls < cases\n"
     ]
    },
    {
     "name": "stdout",
     "output_type": "stream",
     "text": [
      "[1] 27\n"
     ]
    },
    {
     "name": "stderr",
     "output_type": "stream",
     "text": [
      "Setting levels: control = 0, case = 1\n",
      "Setting direction: controls < cases\n",
      "Setting levels: control = 0, case = 1\n",
      "Setting direction: controls > cases\n"
     ]
    },
    {
     "name": "stdout",
     "output_type": "stream",
     "text": [
      "[1] 28\n"
     ]
    },
    {
     "name": "stderr",
     "output_type": "stream",
     "text": [
      "Setting levels: control = 0, case = 1\n",
      "Setting direction: controls < cases\n",
      "Setting levels: control = 0, case = 1\n",
      "Setting direction: controls < cases\n"
     ]
    },
    {
     "name": "stdout",
     "output_type": "stream",
     "text": [
      "[1] 29\n"
     ]
    },
    {
     "name": "stderr",
     "output_type": "stream",
     "text": [
      "Setting levels: control = 0, case = 1\n",
      "Setting direction: controls < cases\n",
      "Setting levels: control = 0, case = 1\n",
      "Setting direction: controls < cases\n"
     ]
    },
    {
     "name": "stdout",
     "output_type": "stream",
     "text": [
      "[1] 30\n"
     ]
    },
    {
     "name": "stderr",
     "output_type": "stream",
     "text": [
      "Setting levels: control = 0, case = 1\n",
      "Setting direction: controls < cases\n",
      "Setting levels: control = 0, case = 1\n",
      "Setting direction: controls > cases\n"
     ]
    },
    {
     "name": "stdout",
     "output_type": "stream",
     "text": [
      "[1] 31\n"
     ]
    },
    {
     "name": "stderr",
     "output_type": "stream",
     "text": [
      "Setting levels: control = 0, case = 1\n",
      "Setting direction: controls < cases\n",
      "Setting levels: control = 0, case = 1\n",
      "Setting direction: controls < cases\n"
     ]
    },
    {
     "name": "stdout",
     "output_type": "stream",
     "text": [
      "[1] 32\n"
     ]
    },
    {
     "name": "stderr",
     "output_type": "stream",
     "text": [
      "Setting levels: control = 0, case = 1\n",
      "Setting direction: controls < cases\n",
      "Setting levels: control = 0, case = 1\n",
      "Setting direction: controls > cases\n"
     ]
    },
    {
     "name": "stdout",
     "output_type": "stream",
     "text": [
      "[1] 33\n"
     ]
    },
    {
     "name": "stderr",
     "output_type": "stream",
     "text": [
      "Setting levels: control = 0, case = 1\n",
      "Setting direction: controls < cases\n",
      "Setting levels: control = 0, case = 1\n",
      "Setting direction: controls < cases\n"
     ]
    },
    {
     "name": "stdout",
     "output_type": "stream",
     "text": [
      "[1] 34\n"
     ]
    },
    {
     "name": "stderr",
     "output_type": "stream",
     "text": [
      "Setting levels: control = 0, case = 1\n",
      "Setting direction: controls < cases\n",
      "Setting levels: control = 0, case = 1\n",
      "Setting direction: controls < cases\n"
     ]
    },
    {
     "name": "stdout",
     "output_type": "stream",
     "text": [
      "[1] 35\n"
     ]
    },
    {
     "name": "stderr",
     "output_type": "stream",
     "text": [
      "Setting levels: control = 0, case = 1\n",
      "Setting direction: controls < cases\n",
      "Setting levels: control = 0, case = 1\n",
      "Setting direction: controls > cases\n"
     ]
    },
    {
     "name": "stdout",
     "output_type": "stream",
     "text": [
      "[1] 36\n"
     ]
    },
    {
     "name": "stderr",
     "output_type": "stream",
     "text": [
      "Setting levels: control = 0, case = 1\n",
      "Setting direction: controls < cases\n",
      "Setting levels: control = 0, case = 1\n",
      "Setting direction: controls > cases\n"
     ]
    },
    {
     "name": "stdout",
     "output_type": "stream",
     "text": [
      "[1] 37\n"
     ]
    },
    {
     "name": "stderr",
     "output_type": "stream",
     "text": [
      "Setting levels: control = 0, case = 1\n",
      "Setting direction: controls < cases\n",
      "Setting levels: control = 0, case = 1\n",
      "Setting direction: controls < cases\n"
     ]
    },
    {
     "name": "stdout",
     "output_type": "stream",
     "text": [
      "[1] 38\n"
     ]
    },
    {
     "name": "stderr",
     "output_type": "stream",
     "text": [
      "Setting levels: control = 0, case = 1\n",
      "Setting direction: controls < cases\n",
      "Setting levels: control = 0, case = 1\n",
      "Setting direction: controls < cases\n"
     ]
    },
    {
     "name": "stdout",
     "output_type": "stream",
     "text": [
      "[1] 39\n"
     ]
    },
    {
     "name": "stderr",
     "output_type": "stream",
     "text": [
      "Setting levels: control = 0, case = 1\n",
      "Setting direction: controls < cases\n",
      "Setting levels: control = 0, case = 1\n",
      "Setting direction: controls > cases\n"
     ]
    },
    {
     "name": "stdout",
     "output_type": "stream",
     "text": [
      "[1] 40\n"
     ]
    },
    {
     "name": "stderr",
     "output_type": "stream",
     "text": [
      "Setting levels: control = 0, case = 1\n",
      "Setting direction: controls < cases\n",
      "Setting levels: control = 0, case = 1\n",
      "Setting direction: controls < cases\n"
     ]
    },
    {
     "name": "stdout",
     "output_type": "stream",
     "text": [
      "[1] 41\n"
     ]
    },
    {
     "name": "stderr",
     "output_type": "stream",
     "text": [
      "Setting levels: control = 0, case = 1\n",
      "Setting direction: controls < cases\n",
      "Setting levels: control = 0, case = 1\n",
      "Setting direction: controls > cases\n"
     ]
    },
    {
     "name": "stdout",
     "output_type": "stream",
     "text": [
      "[1] 42\n"
     ]
    },
    {
     "name": "stderr",
     "output_type": "stream",
     "text": [
      "Setting levels: control = 0, case = 1\n",
      "Setting direction: controls < cases\n",
      "Setting levels: control = 0, case = 1\n",
      "Setting direction: controls > cases\n"
     ]
    },
    {
     "name": "stdout",
     "output_type": "stream",
     "text": [
      "[1] 43\n"
     ]
    },
    {
     "name": "stderr",
     "output_type": "stream",
     "text": [
      "Setting levels: control = 0, case = 1\n",
      "Setting direction: controls < cases\n",
      "Setting levels: control = 0, case = 1\n",
      "Setting direction: controls > cases\n"
     ]
    },
    {
     "name": "stdout",
     "output_type": "stream",
     "text": [
      "[1] 44\n"
     ]
    },
    {
     "name": "stderr",
     "output_type": "stream",
     "text": [
      "Setting levels: control = 0, case = 1\n",
      "Setting direction: controls < cases\n",
      "Setting levels: control = 0, case = 1\n",
      "Setting direction: controls > cases\n"
     ]
    },
    {
     "name": "stdout",
     "output_type": "stream",
     "text": [
      "[1] 45\n"
     ]
    },
    {
     "name": "stderr",
     "output_type": "stream",
     "text": [
      "Setting levels: control = 0, case = 1\n",
      "Setting direction: controls < cases\n",
      "Setting levels: control = 0, case = 1\n",
      "Setting direction: controls < cases\n"
     ]
    },
    {
     "name": "stdout",
     "output_type": "stream",
     "text": [
      "[1] 46\n"
     ]
    },
    {
     "name": "stderr",
     "output_type": "stream",
     "text": [
      "Setting levels: control = 0, case = 1\n",
      "Setting direction: controls < cases\n",
      "Setting levels: control = 0, case = 1\n",
      "Setting direction: controls < cases\n"
     ]
    },
    {
     "name": "stdout",
     "output_type": "stream",
     "text": [
      "[1] 47\n"
     ]
    },
    {
     "name": "stderr",
     "output_type": "stream",
     "text": [
      "Setting levels: control = 0, case = 1\n",
      "Setting direction: controls < cases\n",
      "Setting levels: control = 0, case = 1\n",
      "Setting direction: controls > cases\n"
     ]
    },
    {
     "name": "stdout",
     "output_type": "stream",
     "text": [
      "[1] 48\n"
     ]
    },
    {
     "name": "stderr",
     "output_type": "stream",
     "text": [
      "Setting levels: control = 0, case = 1\n",
      "Setting direction: controls < cases\n",
      "Setting levels: control = 0, case = 1\n",
      "Setting direction: controls < cases\n"
     ]
    },
    {
     "name": "stdout",
     "output_type": "stream",
     "text": [
      "[1] 49\n"
     ]
    },
    {
     "name": "stderr",
     "output_type": "stream",
     "text": [
      "Setting levels: control = 0, case = 1\n",
      "Setting direction: controls < cases\n",
      "Setting levels: control = 0, case = 1\n",
      "Setting direction: controls < cases\n"
     ]
    },
    {
     "name": "stdout",
     "output_type": "stream",
     "text": [
      "[1] 50\n"
     ]
    }
   ],
   "source": [
    "## To get bootstrapped answers for CITL, c-statistic & c-slope it's a more manual approach:\n",
    "manual_boot <- function(data,samples){\n",
    "  results <- matrix(nrow = samples,ncol = 6)\n",
    "  set.seed(231398)\n",
    "  for (i in 1:samples) {\n",
    "    samp_index <- sample(1:nrow(data), nrow(data), rep=TRUE) # create a sampling index vector\n",
    "   \n",
    "    bs_samp <- data[samp_index,] # index the orignal dataset using the sampling vector to give the bs sample\n",
    "    model <- glm(outcome~SEX+age3_spline + DIABETES,family=binomial, data=bs_samp)  # Fit model to the bootstrap sample\n",
    "    pr_bs <- predict(model,type=\"response\") # predict probabilities from the bootstrap model in the bs sample\n",
    "    lp_bs <- predict(model) # predict lp from the bootstrap model in the bs sample\n",
    "    \n",
    "    pr_test <- predict(model,type=\"response\",newdata = data) # predict probabilities from the bootstrap model in the original sample\n",
    "    lp_test <- predict(model, newdata = data) # predict lp from the bootstrap model in the original sample\n",
    "    \n",
    "    # calculate the apparent performance of the bootstrap model in the bs sample\n",
    "    app_cstat_model <- roc(outcome~pr_bs,data=bs_samp)\n",
    "    results[i,1] <- app_cstat_model$auc\n",
    "    app_citl_model <- glm(outcome ~ offset(lp_bs),family=binomial, data=bs_samp)\n",
    "    results[i,2] <- summary(app_citl_model)$coefficients[1,1]\n",
    "    app_cslope_model <- glm(outcome ~ lp_bs,family=binomial(link='logit'), data=bs_samp)\n",
    "    results[i,3] <- summary(app_cslope_model)$coefficients[2,1]\n",
    "    \n",
    "    # calculate the test performance of the bootstrap model in the original sample\n",
    "    test_cstat_model <- roc(outcome~pr_test,data=data)\n",
    "    results[i,4] <- test_cstat_model$auc\n",
    "    test_citl_model <- glm(outcome ~ offset(lp_test),family=binomial, data=data)\n",
    "    results[i,5] <- summary(test_citl_model)$coefficients[1,1]\n",
    "    test_cslope_model <- glm(outcome ~ lp_test,family=binomial, data=data)\n",
    "    results[i,6] <- summary(test_cslope_model)$coefficients[2,1]\n",
    " \n",
    "    print(i)\n",
    "  }\n",
    "  results2 <- as.data.frame(results)\n",
    "  colnames(results2) <- c(\"app_c_stat\",\"app_citl\",\"app_c_slope\",\"test_c_stat\",\"test_citl\",\"test_c_slope\")\n",
    "  return(results2)\n",
    "}\n",
    "boot_results <- manual_boot(smart,50)\n"
   ]
  },
  {
   "cell_type": "markdown",
   "metadata": {},
   "source": [
    "The optimisum adjusted statistics can then be obtained.  \n",
    "We can also calculate the optimism in the validation statistics from validating in the development data."
   ]
  },
  {
   "cell_type": "code",
   "execution_count": 17,
   "metadata": {},
   "outputs": [
    {
     "data": {
      "text/html": [
       "0.620627587436711"
      ],
      "text/latex": [
       "0.620627587436711"
      ],
      "text/markdown": [
       "0.620627587436711"
      ],
      "text/plain": [
       "[1] 0.6206276"
      ]
     },
     "metadata": {},
     "output_type": "display_data"
    },
    {
     "data": {
      "text/html": [
       "<strong>(Intercept):</strong> 0.0087937448815739"
      ],
      "text/latex": [
       "\\textbf{(Intercept):} 0.0087937448815739"
      ],
      "text/markdown": [
       "**(Intercept):** 0.0087937448815739"
      ],
      "text/plain": [
       "(Intercept) \n",
       "0.008793745 "
      ]
     },
     "metadata": {},
     "output_type": "display_data"
    },
    {
     "data": {
      "text/html": [
       "<strong>pred_LP:</strong> 0.818399468399612"
      ],
      "text/latex": [
       "\\textbf{pred\\textbackslash{}\\_LP:} 0.818399468399612"
      ],
      "text/markdown": [
       "**pred_LP:** 0.818399468399612"
      ],
      "text/plain": [
       "  pred_LP \n",
       "0.8183995 "
      ]
     },
     "metadata": {},
     "output_type": "display_data"
    },
    {
     "data": {
      "text/html": [
       "0.0208440154715126"
      ],
      "text/latex": [
       "0.0208440154715126"
      ],
      "text/markdown": [
       "0.0208440154715126"
      ],
      "text/plain": [
       "[1] 0.02084402"
      ]
     },
     "metadata": {},
     "output_type": "display_data"
    },
    {
     "data": {
      "text/html": [
       "-0.00879373980629341"
      ],
      "text/latex": [
       "-0.00879373980629341"
      ],
      "text/markdown": [
       "-0.00879373980629341"
      ],
      "text/plain": [
       "[1] -0.00879374"
      ]
     },
     "metadata": {},
     "output_type": "display_data"
    },
    {
     "data": {
      "text/html": [
       "0.181600531600461"
      ],
      "text/latex": [
       "0.181600531600461"
      ],
      "text/markdown": [
       "0.181600531600461"
      ],
      "text/plain": [
       "[1] 0.1816005"
      ]
     },
     "metadata": {},
     "output_type": "display_data"
    }
   ],
   "source": [
    "# optimism adjusted statistics\n",
    "c1$auc - (mean(boot_results$app_c_stat)-mean(boot_results$test_c_stat)) # c-stat\n",
    "mod_log_1$coef - (mean(boot_results$app_citl)-mean(boot_results$test_citl)) # citl\n",
    "mod_log_2$coef[2]- (mean(boot_results$app_c_slope)-mean(boot_results$test_c_slope)) # c-slope\n",
    "\n",
    "#optimism on its own\n",
    "mean(boot_results$app_c_stat)-mean(boot_results$test_c_stat)\n",
    "mean(boot_results$app_citl)-mean(boot_results$test_citl)\n",
    "mean(boot_results$app_c_slope)-mean(boot_results$test_c_slope)"
   ]
  },
  {
   "cell_type": "code",
   "execution_count": 18,
   "metadata": {},
   "outputs": [
    {
     "data": {
      "text/html": [
       "0.620627587436711"
      ],
      "text/latex": [
       "0.620627587436711"
      ],
      "text/markdown": [
       "0.620627587436711"
      ],
      "text/plain": [
       "[1] 0.6206276"
      ]
     },
     "metadata": {},
     "output_type": "display_data"
    },
    {
     "data": {
      "text/html": [
       "<strong>(Intercept):</strong> 0.0087937448815739"
      ],
      "text/latex": [
       "\\textbf{(Intercept):} 0.0087937448815739"
      ],
      "text/markdown": [
       "**(Intercept):** 0.0087937448815739"
      ],
      "text/plain": [
       "(Intercept) \n",
       "0.008793745 "
      ]
     },
     "metadata": {},
     "output_type": "display_data"
    },
    {
     "data": {
      "text/html": [
       "<strong>pred_LP:</strong> 0.818399468399612"
      ],
      "text/latex": [
       "\\textbf{pred\\textbackslash{}\\_LP:} 0.818399468399612"
      ],
      "text/markdown": [
       "**pred_LP:** 0.818399468399612"
      ],
      "text/plain": [
       "  pred_LP \n",
       "0.8183995 "
      ]
     },
     "metadata": {},
     "output_type": "display_data"
    },
    {
     "data": {
      "text/html": [
       "0.0208440154715126"
      ],
      "text/latex": [
       "0.0208440154715126"
      ],
      "text/markdown": [
       "0.0208440154715126"
      ],
      "text/plain": [
       "[1] 0.02084402"
      ]
     },
     "metadata": {},
     "output_type": "display_data"
    },
    {
     "data": {
      "text/html": [
       "-0.00879373980629341"
      ],
      "text/latex": [
       "-0.00879373980629341"
      ],
      "text/markdown": [
       "-0.00879373980629341"
      ],
      "text/plain": [
       "[1] -0.00879374"
      ]
     },
     "metadata": {},
     "output_type": "display_data"
    },
    {
     "data": {
      "text/html": [
       "0.181600531600461"
      ],
      "text/latex": [
       "0.181600531600461"
      ],
      "text/markdown": [
       "0.181600531600461"
      ],
      "text/plain": [
       "[1] 0.1816005"
      ]
     },
     "metadata": {},
     "output_type": "display_data"
    }
   ],
   "source": [
    "# optimism adjusted statistics\n",
    "c1$auc - (mean(boot_results$app_c_stat)-mean(boot_results$test_c_stat)) # c-stat\n",
    "mod_log_1$coef - (mean(boot_results$app_citl)-mean(boot_results$test_citl)) # citl\n",
    "mod_log_2$coef[2]- (mean(boot_results$app_c_slope)-mean(boot_results$test_c_slope)) # c-slope\n",
    "\n",
    "#optimism on its own\n",
    "mean(boot_results$app_c_stat)-mean(boot_results$test_c_stat)\n",
    "mean(boot_results$app_citl)-mean(boot_results$test_citl)\n",
    "mean(boot_results$app_c_slope)-mean(boot_results$test_c_slope)"
   ]
  },
  {
   "cell_type": "code",
   "execution_count": 19,
   "metadata": {},
   "outputs": [
    {
     "name": "stderr",
     "output_type": "stream",
     "text": [
      "Setting levels: control = 0, case = 1\n",
      "Setting direction: controls < cases\n",
      "Setting levels: control = 0, case = 1\n",
      "Setting direction: controls < cases\n"
     ]
    },
    {
     "name": "stdout",
     "output_type": "stream",
     "text": [
      "[1] 1\n"
     ]
    },
    {
     "name": "stderr",
     "output_type": "stream",
     "text": [
      "Setting levels: control = 0, case = 1\n",
      "Setting direction: controls < cases\n",
      "Setting levels: control = 0, case = 1\n",
      "Setting direction: controls < cases\n"
     ]
    },
    {
     "name": "stdout",
     "output_type": "stream",
     "text": [
      "[1] 2\n"
     ]
    },
    {
     "name": "stderr",
     "output_type": "stream",
     "text": [
      "Setting levels: control = 0, case = 1\n",
      "Setting direction: controls < cases\n",
      "Setting levels: control = 0, case = 1\n",
      "Setting direction: controls < cases\n"
     ]
    },
    {
     "name": "stdout",
     "output_type": "stream",
     "text": [
      "[1] 3\n"
     ]
    },
    {
     "name": "stderr",
     "output_type": "stream",
     "text": [
      "Setting levels: control = 0, case = 1\n",
      "Setting direction: controls < cases\n",
      "Setting levels: control = 0, case = 1\n",
      "Setting direction: controls < cases\n"
     ]
    },
    {
     "name": "stdout",
     "output_type": "stream",
     "text": [
      "[1] 4\n"
     ]
    },
    {
     "name": "stderr",
     "output_type": "stream",
     "text": [
      "Setting levels: control = 0, case = 1\n",
      "Setting direction: controls < cases\n",
      "Setting levels: control = 0, case = 1\n",
      "Setting direction: controls < cases\n"
     ]
    },
    {
     "name": "stdout",
     "output_type": "stream",
     "text": [
      "[1] 5\n"
     ]
    },
    {
     "name": "stderr",
     "output_type": "stream",
     "text": [
      "Setting levels: control = 0, case = 1\n",
      "Setting direction: controls < cases\n",
      "Setting levels: control = 0, case = 1\n",
      "Setting direction: controls < cases\n"
     ]
    },
    {
     "name": "stdout",
     "output_type": "stream",
     "text": [
      "[1] 6\n"
     ]
    },
    {
     "name": "stderr",
     "output_type": "stream",
     "text": [
      "Setting levels: control = 0, case = 1\n",
      "Setting direction: controls < cases\n",
      "Setting levels: control = 0, case = 1\n",
      "Setting direction: controls < cases\n"
     ]
    },
    {
     "name": "stdout",
     "output_type": "stream",
     "text": [
      "[1] 7\n"
     ]
    },
    {
     "name": "stderr",
     "output_type": "stream",
     "text": [
      "Setting levels: control = 0, case = 1\n",
      "Setting direction: controls < cases\n",
      "Setting levels: control = 0, case = 1\n",
      "Setting direction: controls < cases\n"
     ]
    },
    {
     "name": "stdout",
     "output_type": "stream",
     "text": [
      "[1] 8\n"
     ]
    },
    {
     "name": "stderr",
     "output_type": "stream",
     "text": [
      "Setting levels: control = 0, case = 1\n",
      "Setting direction: controls < cases\n",
      "Setting levels: control = 0, case = 1\n",
      "Setting direction: controls < cases\n"
     ]
    },
    {
     "name": "stdout",
     "output_type": "stream",
     "text": [
      "[1] 9\n"
     ]
    },
    {
     "name": "stderr",
     "output_type": "stream",
     "text": [
      "Setting levels: control = 0, case = 1\n",
      "Setting direction: controls < cases\n",
      "Setting levels: control = 0, case = 1\n",
      "Setting direction: controls < cases\n"
     ]
    },
    {
     "name": "stdout",
     "output_type": "stream",
     "text": [
      "[1] 10\n"
     ]
    },
    {
     "name": "stderr",
     "output_type": "stream",
     "text": [
      "Setting levels: control = 0, case = 1\n",
      "Setting direction: controls < cases\n",
      "Setting levels: control = 0, case = 1\n",
      "Setting direction: controls < cases\n"
     ]
    },
    {
     "name": "stdout",
     "output_type": "stream",
     "text": [
      "[1] 11\n"
     ]
    },
    {
     "name": "stderr",
     "output_type": "stream",
     "text": [
      "Setting levels: control = 0, case = 1\n",
      "Setting direction: controls < cases\n",
      "Setting levels: control = 0, case = 1\n",
      "Setting direction: controls < cases\n"
     ]
    },
    {
     "name": "stdout",
     "output_type": "stream",
     "text": [
      "[1] 12\n"
     ]
    },
    {
     "name": "stderr",
     "output_type": "stream",
     "text": [
      "Setting levels: control = 0, case = 1\n",
      "Setting direction: controls < cases\n",
      "Setting levels: control = 0, case = 1\n",
      "Setting direction: controls < cases\n"
     ]
    },
    {
     "name": "stdout",
     "output_type": "stream",
     "text": [
      "[1] 13\n"
     ]
    },
    {
     "name": "stderr",
     "output_type": "stream",
     "text": [
      "Setting levels: control = 0, case = 1\n",
      "Setting direction: controls < cases\n",
      "Setting levels: control = 0, case = 1\n",
      "Setting direction: controls < cases\n"
     ]
    },
    {
     "name": "stdout",
     "output_type": "stream",
     "text": [
      "[1] 14\n"
     ]
    },
    {
     "name": "stderr",
     "output_type": "stream",
     "text": [
      "Setting levels: control = 0, case = 1\n",
      "Setting direction: controls < cases\n",
      "Setting levels: control = 0, case = 1\n",
      "Setting direction: controls < cases\n"
     ]
    },
    {
     "name": "stdout",
     "output_type": "stream",
     "text": [
      "[1] 15\n"
     ]
    },
    {
     "name": "stderr",
     "output_type": "stream",
     "text": [
      "Setting levels: control = 0, case = 1\n",
      "Setting direction: controls < cases\n",
      "Setting levels: control = 0, case = 1\n",
      "Setting direction: controls < cases\n"
     ]
    },
    {
     "name": "stdout",
     "output_type": "stream",
     "text": [
      "[1] 16\n"
     ]
    },
    {
     "name": "stderr",
     "output_type": "stream",
     "text": [
      "Setting levels: control = 0, case = 1\n",
      "Setting direction: controls < cases\n",
      "Setting levels: control = 0, case = 1\n",
      "Setting direction: controls < cases\n"
     ]
    },
    {
     "name": "stdout",
     "output_type": "stream",
     "text": [
      "[1] 17\n"
     ]
    },
    {
     "name": "stderr",
     "output_type": "stream",
     "text": [
      "Setting levels: control = 0, case = 1\n",
      "Setting direction: controls < cases\n",
      "Setting levels: control = 0, case = 1\n",
      "Setting direction: controls < cases\n"
     ]
    },
    {
     "name": "stdout",
     "output_type": "stream",
     "text": [
      "[1] 18\n"
     ]
    },
    {
     "name": "stderr",
     "output_type": "stream",
     "text": [
      "Setting levels: control = 0, case = 1\n",
      "Setting direction: controls < cases\n",
      "Setting levels: control = 0, case = 1\n",
      "Setting direction: controls < cases\n"
     ]
    },
    {
     "name": "stdout",
     "output_type": "stream",
     "text": [
      "[1] 19\n"
     ]
    },
    {
     "name": "stderr",
     "output_type": "stream",
     "text": [
      "Setting levels: control = 0, case = 1\n",
      "Setting direction: controls < cases\n",
      "Setting levels: control = 0, case = 1\n",
      "Setting direction: controls < cases\n"
     ]
    },
    {
     "name": "stdout",
     "output_type": "stream",
     "text": [
      "[1] 20\n"
     ]
    },
    {
     "name": "stderr",
     "output_type": "stream",
     "text": [
      "Setting levels: control = 0, case = 1\n",
      "Setting direction: controls < cases\n",
      "Setting levels: control = 0, case = 1\n",
      "Setting direction: controls < cases\n"
     ]
    },
    {
     "name": "stdout",
     "output_type": "stream",
     "text": [
      "[1] 21\n"
     ]
    },
    {
     "name": "stderr",
     "output_type": "stream",
     "text": [
      "Setting levels: control = 0, case = 1\n",
      "Setting direction: controls < cases\n",
      "Setting levels: control = 0, case = 1\n",
      "Setting direction: controls < cases\n"
     ]
    },
    {
     "name": "stdout",
     "output_type": "stream",
     "text": [
      "[1] 22\n"
     ]
    },
    {
     "name": "stderr",
     "output_type": "stream",
     "text": [
      "Setting levels: control = 0, case = 1\n",
      "Setting direction: controls < cases\n",
      "Setting levels: control = 0, case = 1\n",
      "Setting direction: controls < cases\n"
     ]
    },
    {
     "name": "stdout",
     "output_type": "stream",
     "text": [
      "[1] 23\n"
     ]
    },
    {
     "name": "stderr",
     "output_type": "stream",
     "text": [
      "Setting levels: control = 0, case = 1\n",
      "Setting direction: controls < cases\n",
      "Setting levels: control = 0, case = 1\n",
      "Setting direction: controls < cases\n"
     ]
    },
    {
     "name": "stdout",
     "output_type": "stream",
     "text": [
      "[1] 24\n"
     ]
    },
    {
     "name": "stderr",
     "output_type": "stream",
     "text": [
      "Setting levels: control = 0, case = 1\n",
      "Setting direction: controls < cases\n",
      "Setting levels: control = 0, case = 1\n",
      "Setting direction: controls < cases\n"
     ]
    },
    {
     "name": "stdout",
     "output_type": "stream",
     "text": [
      "[1] 25\n"
     ]
    },
    {
     "name": "stderr",
     "output_type": "stream",
     "text": [
      "Setting levels: control = 0, case = 1\n",
      "Setting direction: controls < cases\n",
      "Setting levels: control = 0, case = 1\n",
      "Setting direction: controls < cases\n"
     ]
    },
    {
     "name": "stdout",
     "output_type": "stream",
     "text": [
      "[1] 26\n"
     ]
    },
    {
     "name": "stderr",
     "output_type": "stream",
     "text": [
      "Setting levels: control = 0, case = 1\n",
      "Setting direction: controls < cases\n",
      "Setting levels: control = 0, case = 1\n",
      "Setting direction: controls < cases\n"
     ]
    },
    {
     "name": "stdout",
     "output_type": "stream",
     "text": [
      "[1] 27\n"
     ]
    },
    {
     "name": "stderr",
     "output_type": "stream",
     "text": [
      "Setting levels: control = 0, case = 1\n",
      "Setting direction: controls < cases\n",
      "Setting levels: control = 0, case = 1\n",
      "Setting direction: controls < cases\n"
     ]
    },
    {
     "name": "stdout",
     "output_type": "stream",
     "text": [
      "[1] 28\n"
     ]
    },
    {
     "name": "stderr",
     "output_type": "stream",
     "text": [
      "Setting levels: control = 0, case = 1\n",
      "Setting direction: controls < cases\n",
      "Setting levels: control = 0, case = 1\n",
      "Setting direction: controls < cases\n"
     ]
    },
    {
     "name": "stdout",
     "output_type": "stream",
     "text": [
      "[1] 29\n"
     ]
    },
    {
     "name": "stderr",
     "output_type": "stream",
     "text": [
      "Setting levels: control = 0, case = 1\n",
      "Setting direction: controls < cases\n",
      "Setting levels: control = 0, case = 1\n",
      "Setting direction: controls < cases\n"
     ]
    },
    {
     "name": "stdout",
     "output_type": "stream",
     "text": [
      "[1] 30\n"
     ]
    },
    {
     "name": "stderr",
     "output_type": "stream",
     "text": [
      "Setting levels: control = 0, case = 1\n",
      "Setting direction: controls < cases\n",
      "Setting levels: control = 0, case = 1\n",
      "Setting direction: controls < cases\n"
     ]
    },
    {
     "name": "stdout",
     "output_type": "stream",
     "text": [
      "[1] 31\n"
     ]
    },
    {
     "name": "stderr",
     "output_type": "stream",
     "text": [
      "Setting levels: control = 0, case = 1\n",
      "Setting direction: controls < cases\n",
      "Setting levels: control = 0, case = 1\n",
      "Setting direction: controls < cases\n"
     ]
    },
    {
     "name": "stdout",
     "output_type": "stream",
     "text": [
      "[1] 32\n"
     ]
    },
    {
     "name": "stderr",
     "output_type": "stream",
     "text": [
      "Setting levels: control = 0, case = 1\n",
      "Setting direction: controls < cases\n",
      "Setting levels: control = 0, case = 1\n",
      "Setting direction: controls < cases\n"
     ]
    },
    {
     "name": "stdout",
     "output_type": "stream",
     "text": [
      "[1] 33\n"
     ]
    },
    {
     "name": "stderr",
     "output_type": "stream",
     "text": [
      "Setting levels: control = 0, case = 1\n",
      "Setting direction: controls < cases\n",
      "Setting levels: control = 0, case = 1\n",
      "Setting direction: controls < cases\n"
     ]
    },
    {
     "name": "stdout",
     "output_type": "stream",
     "text": [
      "[1] 34\n"
     ]
    },
    {
     "name": "stderr",
     "output_type": "stream",
     "text": [
      "Setting levels: control = 0, case = 1\n",
      "Setting direction: controls < cases\n",
      "Setting levels: control = 0, case = 1\n",
      "Setting direction: controls < cases\n"
     ]
    },
    {
     "name": "stdout",
     "output_type": "stream",
     "text": [
      "[1] 35\n"
     ]
    },
    {
     "name": "stderr",
     "output_type": "stream",
     "text": [
      "Setting levels: control = 0, case = 1\n",
      "Setting direction: controls < cases\n",
      "Setting levels: control = 0, case = 1\n",
      "Setting direction: controls < cases\n"
     ]
    },
    {
     "name": "stdout",
     "output_type": "stream",
     "text": [
      "[1] 36\n"
     ]
    },
    {
     "name": "stderr",
     "output_type": "stream",
     "text": [
      "Setting levels: control = 0, case = 1\n",
      "Setting direction: controls < cases\n",
      "Setting levels: control = 0, case = 1\n",
      "Setting direction: controls < cases\n"
     ]
    },
    {
     "name": "stdout",
     "output_type": "stream",
     "text": [
      "[1] 37\n"
     ]
    },
    {
     "name": "stderr",
     "output_type": "stream",
     "text": [
      "Setting levels: control = 0, case = 1\n",
      "Setting direction: controls < cases\n",
      "Setting levels: control = 0, case = 1\n",
      "Setting direction: controls < cases\n"
     ]
    },
    {
     "name": "stdout",
     "output_type": "stream",
     "text": [
      "[1] 38\n"
     ]
    },
    {
     "name": "stderr",
     "output_type": "stream",
     "text": [
      "Setting levels: control = 0, case = 1\n",
      "Setting direction: controls < cases\n",
      "Setting levels: control = 0, case = 1\n",
      "Setting direction: controls < cases\n"
     ]
    },
    {
     "name": "stdout",
     "output_type": "stream",
     "text": [
      "[1] 39\n"
     ]
    },
    {
     "name": "stderr",
     "output_type": "stream",
     "text": [
      "Setting levels: control = 0, case = 1\n",
      "Setting direction: controls < cases\n",
      "Setting levels: control = 0, case = 1\n",
      "Setting direction: controls < cases\n"
     ]
    },
    {
     "name": "stdout",
     "output_type": "stream",
     "text": [
      "[1] 40\n"
     ]
    },
    {
     "name": "stderr",
     "output_type": "stream",
     "text": [
      "Setting levels: control = 0, case = 1\n",
      "Setting direction: controls < cases\n",
      "Setting levels: control = 0, case = 1\n",
      "Setting direction: controls < cases\n"
     ]
    },
    {
     "name": "stdout",
     "output_type": "stream",
     "text": [
      "[1] 41\n"
     ]
    },
    {
     "name": "stderr",
     "output_type": "stream",
     "text": [
      "Setting levels: control = 0, case = 1\n",
      "Setting direction: controls < cases\n",
      "Setting levels: control = 0, case = 1\n",
      "Setting direction: controls < cases\n"
     ]
    },
    {
     "name": "stdout",
     "output_type": "stream",
     "text": [
      "[1] 42\n"
     ]
    },
    {
     "name": "stderr",
     "output_type": "stream",
     "text": [
      "Setting levels: control = 0, case = 1\n",
      "Setting direction: controls < cases\n",
      "Setting levels: control = 0, case = 1\n",
      "Setting direction: controls < cases\n"
     ]
    },
    {
     "name": "stdout",
     "output_type": "stream",
     "text": [
      "[1] 43\n"
     ]
    },
    {
     "name": "stderr",
     "output_type": "stream",
     "text": [
      "Setting levels: control = 0, case = 1\n",
      "Setting direction: controls < cases\n",
      "Setting levels: control = 0, case = 1\n",
      "Setting direction: controls < cases\n"
     ]
    },
    {
     "name": "stdout",
     "output_type": "stream",
     "text": [
      "[1] 44\n"
     ]
    },
    {
     "name": "stderr",
     "output_type": "stream",
     "text": [
      "Setting levels: control = 0, case = 1\n",
      "Setting direction: controls < cases\n",
      "Setting levels: control = 0, case = 1\n",
      "Setting direction: controls < cases\n"
     ]
    },
    {
     "name": "stdout",
     "output_type": "stream",
     "text": [
      "[1] 45\n"
     ]
    },
    {
     "name": "stderr",
     "output_type": "stream",
     "text": [
      "Setting levels: control = 0, case = 1\n",
      "Setting direction: controls < cases\n",
      "Setting levels: control = 0, case = 1\n",
      "Setting direction: controls < cases\n"
     ]
    },
    {
     "name": "stdout",
     "output_type": "stream",
     "text": [
      "[1] 46\n"
     ]
    },
    {
     "name": "stderr",
     "output_type": "stream",
     "text": [
      "Setting levels: control = 0, case = 1\n",
      "Setting direction: controls < cases\n",
      "Setting levels: control = 0, case = 1\n",
      "Setting direction: controls < cases\n"
     ]
    },
    {
     "name": "stdout",
     "output_type": "stream",
     "text": [
      "[1] 47\n"
     ]
    },
    {
     "name": "stderr",
     "output_type": "stream",
     "text": [
      "Setting levels: control = 0, case = 1\n",
      "Setting direction: controls < cases\n",
      "Setting levels: control = 0, case = 1\n",
      "Setting direction: controls < cases\n"
     ]
    },
    {
     "name": "stdout",
     "output_type": "stream",
     "text": [
      "[1] 48\n"
     ]
    },
    {
     "name": "stderr",
     "output_type": "stream",
     "text": [
      "Setting levels: control = 0, case = 1\n",
      "Setting direction: controls < cases\n",
      "Setting levels: control = 0, case = 1\n",
      "Setting direction: controls < cases\n"
     ]
    },
    {
     "name": "stdout",
     "output_type": "stream",
     "text": [
      "[1] 49\n"
     ]
    },
    {
     "name": "stderr",
     "output_type": "stream",
     "text": [
      "Setting levels: control = 0, case = 1\n",
      "Setting direction: controls < cases\n",
      "Setting levels: control = 0, case = 1\n",
      "Setting direction: controls < cases\n"
     ]
    },
    {
     "name": "stdout",
     "output_type": "stream",
     "text": [
      "[1] 50\n"
     ]
    }
   ],
   "source": [
    "## To get bootstrapped answers for CITL, c-statistic & c-slope it's a more manual approach:\n",
    "k10 <- qchisq(0.10,1,lower.tail=FALSE)\n",
    "\n",
    "manual_boot_bw <- function(data,samples){\n",
    "  results <- matrix(nrow = samples,ncol = 6)\n",
    "  set.seed(231398)\n",
    "  for (i in 1:samples) {\n",
    "    samp_index <- sample(1:nrow(data), nrow(data), rep=TRUE) # create a sampling index vector\n",
    "   \n",
    "    bs_samp <- data[samp_index,] # index the orignal dataset using the sampling vector to give the bs sample\n",
    "    model <- glm(outcome~SEX+age3_spline + SBP + alcohol + CHOLO + BMIO + DIABETES + CARDIAC + SMOKING + AAA,family=binomial, data=bs_samp)  # Fit model to the bootstrap sample\n",
    "    backward_model <- stepAIC(model,k=k10,direction=\"backward\",trace=FALSE)\n",
    "    pr_bs <- predict(backward_model,type=\"response\") # predict probabilities from the bootstrap model in the bs sample\n",
    "    lp_bs <- predict(backward_model) # predict lp from the bootstrap model in the bs sample\n",
    "    \n",
    "    pr_test <- predict(model,type=\"response\",newdata = data) # predict probabilities from the bootstrap model in the original sample\n",
    "    lp_test <- predict(model, newdata = data) # predict lp from the bootstrap model in the original sample\n",
    "    \n",
    "    # calculate the apparent performance of the bootstrap model in the bs sample\n",
    "    app_cstat_model <- roc(outcome~pr_bs,data=bs_samp)\n",
    "    results[i,1] <- app_cstat_model$auc\n",
    "    app_citl_model <- glm(outcome ~ offset(lp_bs),family=binomial, data=bs_samp)\n",
    "    results[i,2] <- summary(app_citl_model)$coefficients[1,1]\n",
    "    app_cslope_model <- glm(outcome ~ lp_bs,family=binomial(link='logit'), data=bs_samp)\n",
    "    results[i,3] <- summary(app_cslope_model)$coefficients[2,1]\n",
    "    \n",
    "    # calculate the test performance of the bootstrap model in the original sample\n",
    "    test_cstat_model <- roc(outcome~pr_test,data=data)\n",
    "    results[i,4] <- test_cstat_model$auc\n",
    "    test_citl_model <- glm(outcome ~ offset(lp_test),family=binomial, data=data)\n",
    "    results[i,5] <- summary(test_citl_model)$coefficients[1,1]\n",
    "    test_cslope_model <- glm(outcome ~ lp_test,family=binomial, data=data)\n",
    "    results[i,6] <- summary(test_cslope_model)$coefficients[2,1]\n",
    " \n",
    "    print(i)\n",
    "  }\n",
    "  results2 <- as.data.frame(results)\n",
    "  colnames(results2) <- c(\"app_c_stat\",\"app_citl\",\"app_c_slope\",\"test_c_stat\",\"test_citl\",\"test_c_slope\")\n",
    "  return(results2)\n",
    "}\n",
    "boot_results_bw <- manual_boot_bw(smart,50)\n"
   ]
  },
  {
   "cell_type": "code",
   "execution_count": 20,
   "metadata": {},
   "outputs": [
    {
     "data": {
      "text/html": [
       "0.61982204179084"
      ],
      "text/latex": [
       "0.61982204179084"
      ],
      "text/markdown": [
       "0.61982204179084"
      ],
      "text/plain": [
       "[1] 0.619822"
      ]
     },
     "metadata": {},
     "output_type": "display_data"
    },
    {
     "data": {
      "text/html": [
       "<strong>(Intercept):</strong> 0.0086510332065206"
      ],
      "text/latex": [
       "\\textbf{(Intercept):} 0.0086510332065206"
      ],
      "text/markdown": [
       "**(Intercept):** 0.0086510332065206"
      ],
      "text/plain": [
       "(Intercept) \n",
       "0.008651033 "
      ]
     },
     "metadata": {},
     "output_type": "display_data"
    },
    {
     "data": {
      "text/html": [
       "<strong>pred_LP:</strong> 0.796538352113814"
      ],
      "text/latex": [
       "\\textbf{pred\\textbackslash{}\\_LP:} 0.796538352113814"
      ],
      "text/markdown": [
       "**pred_LP:** 0.796538352113814"
      ],
      "text/plain": [
       "  pred_LP \n",
       "0.7965384 "
      ]
     },
     "metadata": {},
     "output_type": "display_data"
    },
    {
     "data": {
      "text/html": [
       "0.0216495611173836"
      ],
      "text/latex": [
       "0.0216495611173836"
      ],
      "text/markdown": [
       "0.0216495611173836"
      ],
      "text/plain": [
       "[1] 0.02164956"
      ]
     },
     "metadata": {},
     "output_type": "display_data"
    },
    {
     "data": {
      "text/html": [
       "-0.0086510281312401"
      ],
      "text/latex": [
       "-0.0086510281312401"
      ],
      "text/markdown": [
       "-0.0086510281312401"
      ],
      "text/plain": [
       "[1] -0.008651028"
      ]
     },
     "metadata": {},
     "output_type": "display_data"
    },
    {
     "data": {
      "text/html": [
       "0.20346164788626"
      ],
      "text/latex": [
       "0.20346164788626"
      ],
      "text/markdown": [
       "0.20346164788626"
      ],
      "text/plain": [
       "[1] 0.2034616"
      ]
     },
     "metadata": {},
     "output_type": "display_data"
    }
   ],
   "source": [
    "# optimism adjusted statistics\n",
    "c1$auc - (mean(boot_results_bw$app_c_stat)-mean(boot_results_bw$test_c_stat)) # c-stat\n",
    "mod_log_1$coef - (mean(boot_results_bw$app_citl)-mean(boot_results_bw$test_citl)) # citl\n",
    "mod_log_2$coef[2]- (mean(boot_results_bw$app_c_slope)-mean(boot_results_bw$test_c_slope)) # c-slope\n",
    "\n",
    "#optimism on its own\n",
    "mean(boot_results_bw$app_c_stat)-mean(boot_results_bw$test_c_stat)\n",
    "mean(boot_results_bw$app_citl)-mean(boot_results_bw$test_citl)\n",
    "mean(boot_results_bw$app_c_slope)-mean(boot_results_bw$test_c_slope)"
   ]
  },
  {
   "cell_type": "code",
   "execution_count": null,
   "metadata": {},
   "outputs": [],
   "source": []
  },
  {
   "cell_type": "code",
   "execution_count": null,
   "metadata": {},
   "outputs": [],
   "source": []
  },
  {
   "cell_type": "code",
   "execution_count": null,
   "metadata": {},
   "outputs": [],
   "source": []
  },
  {
   "cell_type": "code",
   "execution_count": null,
   "metadata": {},
   "outputs": [],
   "source": []
  },
  {
   "cell_type": "code",
   "execution_count": null,
   "metadata": {},
   "outputs": [],
   "source": []
  },
  {
   "cell_type": "code",
   "execution_count": null,
   "metadata": {},
   "outputs": [],
   "source": []
  },
  {
   "cell_type": "code",
   "execution_count": null,
   "metadata": {},
   "outputs": [],
   "source": []
  },
  {
   "cell_type": "code",
   "execution_count": null,
   "metadata": {},
   "outputs": [],
   "source": []
  }
 ],
 "metadata": {
  "kernelspec": {
   "display_name": "R",
   "language": "R",
   "name": "ir"
  },
  "language_info": {
   "codemirror_mode": "r",
   "file_extension": ".r",
   "mimetype": "text/x-r-source",
   "name": "R",
   "pygments_lexer": "r",
   "version": "3.6.0"
  }
 },
 "nbformat": 4,
 "nbformat_minor": 2
}
